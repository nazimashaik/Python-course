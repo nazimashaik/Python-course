{
 "cells": [
  {
   "cell_type": "code",
   "execution_count": 1,
   "id": "8fbd8dc5-0b4c-4880-a92d-0736d53f2984",
   "metadata": {},
   "outputs": [
    {
     "name": "stdin",
     "output_type": "stream",
     "text": [
      "enter number: 3\n"
     ]
    },
    {
     "name": "stdout",
     "output_type": "stream",
     "text": [
      "27\n",
      "program terminated\n",
      "bye\n"
     ]
    }
   ],
   "source": [
    "#program to handel multiple exception\n",
    "try:\n",
    "    num= int(input(\"enter number:\"))\n",
    "    print(num**3)\n",
    "except(KeyboardInterrupt):\n",
    "    print(\"you should have entered data without interrupting the compiler\")\n",
    "except(ValueError):\n",
    "    print(\"enter number only\")\n",
    "print(\"program terminated\")\n",
    "print(\"bye\")"
   ]
  },
  {
   "cell_type": "code",
   "execution_count": 5,
   "id": "2ca6b631-9259-45a6-a769-27248f7b2cea",
   "metadata": {},
   "outputs": [
    {
     "name": "stdout",
     "output_type": "stream",
     "text": [
      "Hello\n"
     ]
    }
   ],
   "source": [
    "try:\n",
    "    file=open('tom.txt')\n",
    "    str=file.readline()\n",
    "    print(str)\n",
    "except IOError:\n",
    "    print(\"error occured due to input\")\n",
    "except ValueError:\n",
    "    print(\"couldnot convert to integer\")\n",
    "except:\n",
    "    print(\"unexpected error\")"
   ]
  },
  {
   "cell_type": "code",
   "execution_count": 9,
   "id": "e6eb8f8e-4c4e-4ccd-820e-7716e9b42780",
   "metadata": {},
   "outputs": [
    {
     "name": "stdout",
     "output_type": "stream",
     "text": [
      "rasing exception.....\n",
      "exception caught\n",
      "performing clean-up with finally...\n"
     ]
    }
   ],
   "source": [
    "# try except finally block\n",
    "try:\n",
    "    print(\"rasing exception.....\")\n",
    "    raise valueError\n",
    "except:\n",
    "    print(\"exception caught\")\n",
    "finally:\n",
    "    print(\"performing clean-up with finally...\")"
   ]
  },
  {
   "cell_type": "code",
   "execution_count": 11,
   "id": "93f59ea5-ddd4-4fc6-bf2c-64776e4b2122",
   "metadata": {},
   "outputs": [
    {
     "name": "stdout",
     "output_type": "stream",
     "text": [
      "diving two strings\n",
      "this is finally  block which excecutes everytime...\n",
      "here the type error is hanandeled, which is raised in the inner try\n"
     ]
    }
   ],
   "source": [
    "'''program having finally block to re raise an exception that will be handeled by an outer\n",
    "try-except block'''\n",
    "try:\n",
    "    print(\"diving two strings\")\n",
    "    try:\n",
    "        quo=\"abc\"/\"def\"\n",
    "        print(quo)\n",
    "    finally:\n",
    "        print(\"this is finally  block which excecutes everytime...\")\n",
    "except TypeError:\n",
    "    print(\"here the type error is hanandeled, which is raised in the inner try\")\n",
    "    "
   ]
  },
  {
   "cell_type": "code",
   "execution_count": 13,
   "id": "eaa8ec83-1594-4eb0-aad9-6293dfa1dff8",
   "metadata": {},
   "outputs": [
    {
     "name": "stdout",
     "output_type": "stream",
     "text": [
      "diving two strings\n",
      "3.0\n",
      "this is finally  block which excecutes everytime...\n"
     ]
    }
   ],
   "source": [
    "'''program having finally block to re raise an exception that will be handeled by an outer\n",
    "try-except block'''\n",
    "try:\n",
    "    print(\"diving two strings\")\n",
    "    try:\n",
    "        quo=9/3\n",
    "        print(quo)\n",
    "    finally:\n",
    "        print(\"this is finally  block which excecutes everytime...\")\n",
    "except TypeError:\n",
    "    print(\"here the type error is hanandeled, which is raised in the inner try\")\n",
    "    "
   ]
  },
  {
   "cell_type": "code",
   "execution_count": 15,
   "id": "90c0d516-53ad-4495-9c29-3cadb9411bfa",
   "metadata": {},
   "outputs": [
    {
     "name": "stdin",
     "output_type": "stream",
     "text": [
      "enter a num 4\n"
     ]
    },
    {
     "name": "stdout",
     "output_type": "stream",
     "text": [
      "16\n"
     ]
    }
   ],
   "source": [
    "'''write a program that prompts theuser to enter a number and print it\n",
    "s square perform exception handeling for keyboard intrupt'''\n",
    "n=int(input(\"enter a num\"))\n",
    "try:\n",
    "    output=n*n\n",
    "    print(output)\n",
    "except KeyboardInterrupt:\n",
    "    print(\"program is been interruted\")"
   ]
  },
  {
   "cell_type": "code",
   "execution_count": null,
   "id": "e280974a-dd85-45f0-b931-42b24d88dbf8",
   "metadata": {},
   "outputs": [],
   "source": []
  }
 ],
 "metadata": {
  "kernelspec": {
   "display_name": "Python 3 (ipykernel)",
   "language": "python",
   "name": "python3"
  },
  "language_info": {
   "codemirror_mode": {
    "name": "ipython",
    "version": 3
   },
   "file_extension": ".py",
   "mimetype": "text/x-python",
   "name": "python",
   "nbconvert_exporter": "python",
   "pygments_lexer": "ipython3",
   "version": "3.12.7"
  }
 },
 "nbformat": 4,
 "nbformat_minor": 5
}
