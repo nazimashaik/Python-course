{
 "cells": [
  {
   "cell_type": "code",
   "execution_count": 7,
   "id": "0b134323-37a5-4a94-aaff-f53b8d3ae1b4",
   "metadata": {},
   "outputs": [
    {
     "name": "stdout",
     "output_type": "stream",
     "text": [
      "100000\n"
     ]
    }
   ],
   "source": [
    "#nested dict\n",
    "person={\n",
    "    \"v\":{\"songs\":20,\"sal\":100000},\n",
    "    \"jin\":{\"songs\":30,\"sal\":800000}\n",
    "}\n",
    "print(person[\"v\"][\"sal\"])"
   ]
  },
  {
   "cell_type": "code",
   "execution_count": 9,
   "id": "10235925-0217-4580-ae3f-c28c52cfcf5c",
   "metadata": {},
   "outputs": [
    {
     "name": "stdout",
     "output_type": "stream",
     "text": [
      "southkorea\n"
     ]
    }
   ],
   "source": [
    "#dict with tuples as keys\n",
    "loc={\n",
    "    (40.3212,-23.2323):\"newyork\",\n",
    "    (23.2324,-44.5657):\"southkorea\"\n",
    "}\n",
    "print(loc[23.2324,-44.5657])"
   ]
  },
  {
   "cell_type": "code",
   "execution_count": 19,
   "id": "e983d3d4-7371-43ef-884a-276787313ff9",
   "metadata": {},
   "outputs": [
    {
     "name": "stdout",
     "output_type": "stream",
     "text": [
      "{1, 2, 3, 4, 5}\n",
      "{1, 2, 3, 4, 5, 6}\n",
      "{1, 3, 4, 5, 6}\n",
      "True\n",
      "True\n"
     ]
    }
   ],
   "source": [
    "#set implementations\n",
    "set1={1,2,3,4,5}\n",
    "print(set1)\n",
    "set1.add(6)\n",
    "print(set1)\n",
    "set1.remove(2)\n",
    "print(set1)\n",
    "print(3 in set1)\n",
    "print(10 not in set1)"
   ]
  },
  {
   "cell_type": "code",
   "execution_count": 33,
   "id": "c7b23b15-42b0-44f4-a880-edd54d3cb7de",
   "metadata": {},
   "outputs": [
    {
     "name": "stdout",
     "output_type": "stream",
     "text": [
      "{1, 2, 3, 4, 5}\n",
      "{5, 6, 7, 8, 9, 10}\n",
      "union: {1, 2, 3, 4, 5, 6, 7, 8, 9, 10}\n",
      "intersection: {5}\n",
      "difference: {1, 2, 3, 4}\n",
      "symmetricdifference: {1, 2, 3, 4, 6, 7, 8, 9, 10}\n"
     ]
    }
   ],
   "source": [
    "set1={1,2,3,4,5}\n",
    "set2={5,6,7,8,9,10}\n",
    "print(set1)\n",
    "'''set1.add(11)\n",
    "print(set1)\n",
    "set1.update([12,13])\n",
    "print(set1)'''\n",
    "print(set2)\n",
    "print(\"union:\",set1.union(set2))\n",
    "print(\"intersection:\",set1.intersection(set2))\n",
    "print(\"difference:\",set1.difference(set2))\n",
    "print(\"symmetricdifference:\",set1.symmetric_difference(set2))"
   ]
  },
  {
   "cell_type": "code",
   "execution_count": 37,
   "id": "52d859f3-c567-4984-866f-b29f6fc7d6a7",
   "metadata": {},
   "outputs": [
    {
     "name": "stdout",
     "output_type": "stream",
     "text": [
      "a is a subset to b: True\n",
      "b is a subset to a: False\n"
     ]
    }
   ],
   "source": [
    "#subset check\n",
    "a={1,2}\n",
    "b={1,2,3,4,5,6}\n",
    "print(\"a is a subset to b:\",a.issubset(b))\n",
    "print(\"b is a subset to a:\",b.issubset(a))"
   ]
  },
  {
   "cell_type": "code",
   "execution_count": 45,
   "id": "25e000e8-3aad-4b09-8f30-ad791d37169e",
   "metadata": {},
   "outputs": [
    {
     "name": "stdout",
     "output_type": "stream",
     "text": [
      "subset or not : True\n",
      "proper subset : True\n",
      "super set or not : False\n",
      "poper superset: True\n"
     ]
    }
   ],
   "source": [
    "#by using conditional operators\n",
    "a={1,2,3}\n",
    "b={1,2,3,4,5,6,7}\n",
    "print(\"subset or not :\",a<=b)\n",
    "print(\"proper subset :\",a<b)\n",
    "print(\"super set or not :\",a>=b)\n",
    "print(\"poper superset:\",b>a)"
   ]
  },
  {
   "cell_type": "code",
   "execution_count": 49,
   "id": "696f8529-03b0-41e9-990e-5e4ad296e985",
   "metadata": {},
   "outputs": [
    {
     "name": "stdout",
     "output_type": "stream",
     "text": [
      "{1, 2, 3, 4, 5}\n"
     ]
    }
   ],
   "source": [
    "#set with lists\n",
    "num=[1,2,3,4,4,5]\n",
    "single=set(num)\n",
    "print(single)"
   ]
  },
  {
   "cell_type": "code",
   "execution_count": 53,
   "id": "e96398a3-6ceb-466c-8f4e-21679819c828",
   "metadata": {},
   "outputs": [
    {
     "name": "stdout",
     "output_type": "stream",
     "text": [
      "x is a subset of y\n"
     ]
    }
   ],
   "source": [
    "x=set([1,2])\n",
    "y=set([1,2,3])\n",
    "if x.issubset(y):\n",
    "    print(\"x is a subset of y\")"
   ]
  },
  {
   "cell_type": "code",
   "execution_count": 61,
   "id": "19fd86d3-b37d-4555-abcf-6f078d3cd005",
   "metadata": {},
   "outputs": [
    {
     "name": "stdout",
     "output_type": "stream",
     "text": [
      "key for value:'(s)':num\n"
     ]
    }
   ],
   "source": [
    "info={'name':'India','num':123}\n",
    "s=123\n",
    "for key,value in info.items():\n",
    "    if value==s:\n",
    "        print(f\"key for value:'(s)':{key}\")"
   ]
  },
  {
   "cell_type": "code",
   "execution_count": 81,
   "id": "4f0dcbc7-781e-4233-b594-7dbe1c0ed542",
   "metadata": {},
   "outputs": [
    {
     "name": "stdout",
     "output_type": "stream",
     "text": [
      "80\n",
      "9.0\n",
      "(78+0j)\n",
      "hi\n",
      "list[7, 9, 7]\n",
      "6\n"
     ]
    }
   ],
   "source": [
    "#type conversions\n",
    "print(int(80.98))\n",
    "print(float(9))\n",
    "print(complex(78))\n",
    "print(str(\"hi\"))\n",
    "print(list[7,9,7])\n",
    "print(str(6))"
   ]
  },
  {
   "cell_type": "code",
   "execution_count": 75,
   "id": "1469089e-6ab8-428a-9689-151296c82d2e",
   "metadata": {},
   "outputs": [
    {
     "name": "stdout",
     "output_type": "stream",
     "text": [
      "89.0\n"
     ]
    },
    {
     "data": {
      "text/plain": [
       "'str(x)\\ntuple(x)\\nlist(x)\\nset(x)\\nord(x)\\nchr(x)\\nhex(x)\\noct(x)\\nbin(x)\\ndict(x)'"
      ]
     },
     "execution_count": 75,
     "metadata": {},
     "output_type": "execute_result"
    }
   ],
   "source": [
    "x=89\n",
    "print(float(x))\n",
    "'''str(x)\n",
    "tuple(x)\n",
    "list(x)\n",
    "set(x)\n",
    "ord(x)\n",
    "chr(x)\n",
    "hex(x)\n",
    "oct(x)\n",
    "bin(x)\n",
    "dict(x)'''"
   ]
  },
  {
   "cell_type": "code",
   "execution_count": null,
   "id": "6305d36e-c85d-40db-9212-73d957eaed9d",
   "metadata": {},
   "outputs": [],
   "source": [
    "'''()\n",
    "**\n",
    "~ + -\n",
    "*\n",
    "/\n",
    "%\n",
    "//\n",
    "5>>+2(nibble) 0001 01\n",
    "<< >>\n",
    "&\n",
    "^ |\n",
    "bitwise <> == !=\n",
    "<= < > >=\n",
    "= %= /= //= -= += **=\n",
    "identity is isnot\n",
    "membership in not in\n",
    "logical and or not\n",
    "'''"
   ]
  }
 ],
 "metadata": {
  "kernelspec": {
   "display_name": "Python 3 (ipykernel)",
   "language": "python",
   "name": "python3"
  },
  "language_info": {
   "codemirror_mode": {
    "name": "ipython",
    "version": 3
   },
   "file_extension": ".py",
   "mimetype": "text/x-python",
   "name": "python",
   "nbconvert_exporter": "python",
   "pygments_lexer": "ipython3",
   "version": "3.12.7"
  }
 },
 "nbformat": 4,
 "nbformat_minor": 5
}
