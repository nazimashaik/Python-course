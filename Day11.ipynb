{
 "cells": [
  {
   "cell_type": "code",
   "execution_count": 1,
   "id": "ddaeae70-265a-48d2-b9c2-876d6189a3b3",
   "metadata": {},
   "outputs": [
    {
     "data": {
      "text/plain": [
       "\"data files\\n1. ascii files         a  b  c --  97    98    99\\n                                  bin   bin    bin\\n2. binary files\\nio functions\\nopen()\\nclose()\\n\\nopen syntax \\nopen('sample.txt',functionality)\\naccess mode \\n1. r - default mode ,which opens a file for readig purpose only .\\n2. rb - default mode , which opens data in binary format .\\n3. r+ - read/write ,the file will give priority from beginning .\\n4. rb+ - read/write binary , priority same as r+ .\\n5. w - writing format .\\n6. wb - default mode , which opens data in binary format .\\n7. w+ - read/write .\\n8. wb+ - read/write binary data .\\n9. a -tagalong (adds the data to the previous without disturbing).\\n10. ab - binary data appends .\\n11. ab+ - binary data will read and append .\\n\""
      ]
     },
     "execution_count": 1,
     "metadata": {},
     "output_type": "execute_result"
    }
   ],
   "source": [
    "'''data files\n",
    "1. ascii files         a  b  c --  97    98    99\n",
    "                                  bin   bin    bin\n",
    "2. binary files\n",
    "io functions\n",
    "open()\n",
    "close()\n",
    "\n",
    "open syntax \n",
    "open('sample.txt',functionality)\n",
    "access mode \n",
    "1. r - default mode ,which opens a file for readig purpose only .\n",
    "2. rb - default mode , which opens data in binary format .\n",
    "3. r+ - read/write ,the file will give priority from beginning .\n",
    "4. rb+ - read/write binary , priority same as r+ .\n",
    "5. w - writing format .\n",
    "6. wb - default mode , which opens data in binary format .\n",
    "7. w+ - read/write .\n",
    "8. wb+ - read/write binary data .\n",
    "9. a -tagalong (adds the data to the previous without disturbing).\n",
    "10. ab - binary data appends .\n",
    "11. ab+ - binary data will read and append .\n",
    "'''"
   ]
  },
  {
   "cell_type": "code",
   "execution_count": 5,
   "id": "ab67b9a9-470b-4f64-b0aa-f6f548c25c96",
   "metadata": {},
   "outputs": [
    {
     "name": "stdout",
     "output_type": "stream",
     "text": [
      "Hello\n"
     ]
    }
   ],
   "source": [
    "#file opening (requries tom.txt file)\n",
    "with open('tom.txt','r') as file:\n",
    "    data=file.read()\n",
    "    print(data)"
   ]
  },
  {
   "cell_type": "code",
   "execution_count": null,
   "id": "92014037-0fe0-4fe4-a7f5-d0fd2a048dd8",
   "metadata": {},
   "outputs": [],
   "source": []
  }
 ],
 "metadata": {
  "kernelspec": {
   "display_name": "Python 3 (ipykernel)",
   "language": "python",
   "name": "python3"
  },
  "language_info": {
   "codemirror_mode": {
    "name": "ipython",
    "version": 3
   },
   "file_extension": ".py",
   "mimetype": "text/x-python",
   "name": "python",
   "nbconvert_exporter": "python",
   "pygments_lexer": "ipython3",
   "version": "3.12.7"
  }
 },
 "nbformat": 4,
 "nbformat_minor": 5
}
