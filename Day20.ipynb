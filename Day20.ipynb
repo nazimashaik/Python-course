{
 "cells": [
  {
   "cell_type": "code",
   "execution_count": 1,
   "id": "42861c67-c07f-4256-80e8-f53b97e5ed85",
   "metadata": {},
   "outputs": [
    {
     "name": "stdout",
     "output_type": "stream",
     "text": [
      "even: [32, 54]\n",
      "odd: [21, 43, 65]\n"
     ]
    }
   ],
   "source": [
    "#mutable type attributes\n",
    "class number:\n",
    "    e=[]\n",
    "    o=[]\n",
    "    def __init__(self,num):\n",
    "        self.num=num\n",
    "        if num%2==0:\n",
    "            number.e.append(num)\n",
    "        else:\n",
    "            number.o.append(num)\n",
    "n1=number(21)\n",
    "n2=number(32)\n",
    "n3=number(43)\n",
    "n4=number(54)\n",
    "n5=number(65)\n",
    "print(\"even:\",number.e)\n",
    "print(\"odd:\",number.o)"
   ]
  },
  {
   "cell_type": "code",
   "execution_count": 3,
   "id": "58a538c8-3e89-4840-9e3c-3bf1a9767d05",
   "metadata": {},
   "outputs": [
    {
     "name": "stdin",
     "output_type": "stream",
     "text": [
      "Enter numbers separated by space:  33 54 \n"
     ]
    },
    {
     "name": "stdout",
     "output_type": "stream",
     "text": [
      "even: [54]\n",
      "odd: [33]\n"
     ]
    }
   ],
   "source": [
    "class number:\n",
    "    e=[]\n",
    "    o=[]\n",
    "    def __init__(self,num):\n",
    "        self.num=num\n",
    "        if num%2==0:\n",
    "            number.e.append(num)\n",
    "        else:\n",
    "            number.o.append(num)\n",
    "nums = list(map(int, input(\"Enter numbers separated by space: \").split()))\n",
    "for n in nums:\n",
    "    number(n)\n",
    "print(\"even:\",number.e)\n",
    "print(\"odd:\",number.o)"
   ]
  },
  {
   "cell_type": "code",
   "execution_count": 5,
   "id": "d8f19827-73b5-4736-ba3b-81769012e42f",
   "metadata": {},
   "outputs": [
    {
     "name": "stdin",
     "output_type": "stream",
     "text": [
      "enter numbers: 43 55\n"
     ]
    },
    {
     "name": "stdout",
     "output_type": "stream",
     "text": [
      "even: []\n",
      "odd: [43, 55]\n"
     ]
    }
   ],
   "source": [
    "class number:\n",
    "    e=[]\n",
    "    o=[]\n",
    "    def __init__(self,num):\n",
    "        self.num=num\n",
    "        if num%2==0:\n",
    "            number.e.append(num)\n",
    "        else:\n",
    "            number.o.append(num)\n",
    "nums=input(\"enter numbers:\").split(\" \")\n",
    "for n in nums:\n",
    "    number(int(n))\n",
    "print(\"even:\",number.e)\n",
    "print(\"odd:\",number.o)"
   ]
  },
  {
   "cell_type": "code",
   "execution_count": 7,
   "id": "261d9aff-e177-429b-82f5-c6a96dc582ac",
   "metadata": {},
   "outputs": [
    {
     "name": "stdin",
     "output_type": "stream",
     "text": [
      "enter value: 2\n"
     ]
    },
    {
     "name": "stdout",
     "output_type": "stream",
     "text": [
      "given value: 2\n",
      "given value: 8\n"
     ]
    }
   ],
   "source": [
    "def op(x):\n",
    "    return x**3\n",
    "class abc():\n",
    "    def __init__(self,val):\n",
    "        self.val=val\n",
    "    def display(self):\n",
    "        print(\"given value:\",self.val)\n",
    "    def modify(self):\n",
    "        self.val=op(self.val)\n",
    "n=int(input(\"enter value:\"))\n",
    "o=abc(n)\n",
    "o.display()\n",
    "o.modify()\n",
    "o.display()"
   ]
  },
  {
   "cell_type": "code",
   "execution_count": 9,
   "id": "346af95b-48c8-4c00-8bae-5d042a144447",
   "metadata": {},
   "outputs": [
    {
     "name": "stdout",
     "output_type": "stream",
     "text": [
      "True\n"
     ]
    }
   ],
   "source": [
    "def is_prime(num):\n",
    "    if num <= 1:\n",
    "        return False\n",
    "    for i in range(2, int(num**0.5) + 1):\n",
    "        if num % i == 0:\n",
    "            return False\n",
    "    return True\n",
    "\n",
    "class NumberCheck:\n",
    "    def __init__(self, number):\n",
    "        self.number = number\n",
    "\n",
    "    def check_prime(self):\n",
    "        return is_prime(self.number)\n",
    "\n",
    "n = NumberCheck(29)\n",
    "print(n.check_prime())  # Output: True\n"
   ]
  },
  {
   "cell_type": "code",
   "execution_count": 11,
   "id": "d1a43f3a-05cd-4cc5-8ddd-23cd00e8ca85",
   "metadata": {},
   "outputs": [
    {
     "name": "stdout",
     "output_type": "stream",
     "text": [
      "[0, 1, 1, 2, 3, 5, 8]\n"
     ]
    }
   ],
   "source": [
    "def fibonacci(n):\n",
    "    a, b = 0, 1\n",
    "    result = []\n",
    "    for _ in range(n):\n",
    "        result.append(a)\n",
    "        a, b = b, a + b\n",
    "    return result\n",
    "\n",
    "class Fib:\n",
    "    def __init__(self, n):\n",
    "        self.n = n\n",
    "\n",
    "    def get_series(self):\n",
    "        return fibonacci(self.n)\n",
    "\n",
    "fib = Fib(7)\n",
    "print(fib.get_series())  # Output: [0, 1, 1, 2, 3, 5, 8]"
   ]
  },
  {
   "cell_type": "code",
   "execution_count": 13,
   "id": "bacbe428-cb12-44f2-9e41-e99337b5c670",
   "metadata": {},
   "outputs": [
    {
     "name": "stdout",
     "output_type": "stream",
     "text": [
      "99\n"
     ]
    }
   ],
   "source": [
    "def find_max(nums):\n",
    "    if not nums:\n",
    "        return None\n",
    "    max_num = nums[0]\n",
    "    for num in nums:\n",
    "        if num > max_num:\n",
    "            max_num = num\n",
    "    return max_num\n",
    "\n",
    "class ListOps:\n",
    "    def __init__(self, nums):\n",
    "        self.nums = nums\n",
    "\n",
    "    def get_max(self):\n",
    "        return find_max(self.nums)\n",
    "\n",
    "lst = ListOps([10, 4, 67, 2, 99])\n",
    "print(lst.get_max())  # Output: 99"
   ]
  },
  {
   "cell_type": "code",
   "execution_count": 15,
   "id": "04e5da40-923c-4749-aaa9-e078a0814ab4",
   "metadata": {},
   "outputs": [
    {
     "name": "stdin",
     "output_type": "stream",
     "text": [
      "enter a number: 4\n",
      "enter another number: 2\n"
     ]
    },
    {
     "name": "stdout",
     "output_type": "stream",
     "text": [
      "object.__dic__- {'v1': 4, 'v2': 2.0}\n",
      "object.__doc__- None\n",
      "class.__name__- abc\n",
      "object.__module__- __main__\n",
      "class.__base__- (<class 'object'>,)\n",
      "class.__base__- <class 'object'>\n"
     ]
    }
   ],
   "source": [
    "#built-in attribute\n",
    "class abc():\n",
    "    def __init__(self,v1,v2):\n",
    "        self.v1=v1\n",
    "        self.v2=v2\n",
    "    def display(self):\n",
    "        print(\"var1:\",self.v1)\n",
    "        print(\"var2:\",self.v2)\n",
    "n1=int(input(\"enter a number:\"))\n",
    "n2=float(input(\"enter another number:\"))\n",
    "o=abc(n1,n2)\n",
    "print(\"object.__dic__-\",o.__dict__)\n",
    "print(\"object.__doc__-\",o.__doc__)\n",
    "print(\"class.__name__-\",abc.__name__)\n",
    "print(\"object.__module__-\",o.__module__)\n",
    "print(\"class.__base__-\",abc.__bases__)\n",
    "print(\"class.__base__-\",abc.__base__)"
   ]
  },
  {
   "cell_type": "code",
   "execution_count": 17,
   "id": "630c86c8-45f5-4563-b327-337daaa7d112",
   "metadata": {},
   "outputs": [
    {
     "name": "stdout",
     "output_type": "stream",
     "text": [
      "<class 'type'>\n",
      "1704\n",
      "48\n"
     ]
    }
   ],
   "source": [
    "import sys\n",
    "class A:\n",
    "    n=10\n",
    "o=A()\n",
    "print(type(A))\n",
    "print(sys.getsizeof(A))\n",
    "print(sys.getsizeof(o))"
   ]
  },
  {
   "cell_type": "code",
   "execution_count": 19,
   "id": "ef54969b-6114-4c09-a9e3-f6965b8cae45",
   "metadata": {},
   "outputs": [
    {
     "name": "stdin",
     "output_type": "stream",
     "text": [
      "enter 4-digit pin: 1234\n",
      "enter amount to debit: 500\n"
     ]
    },
    {
     "name": "stdout",
     "output_type": "stream",
     "text": [
      "500 debited. Remaining balance rs.4500\n"
     ]
    }
   ],
   "source": [
    "'''create a class atm and check the pin with user pin 1234 ,define the constructor or function to witdraw 2000 balance amt from account1999\n",
    "if the amount is over then balance exit and check the pin for accessing the account'''\n",
    "class ATM:\n",
    "    def __init__(self):\n",
    "        self.balance=5000\n",
    "        self.pin='1234'\n",
    "    def process(self):\n",
    "        user_pin=input(\"enter 4-digit pin:\")\n",
    "        if user_pin==self.pin:\n",
    "            amount=int(input(\"enter amount to debit:\"))\n",
    "            if amount<=self.balance:\n",
    "                self.balance-=amount\n",
    "                print(f\"{amount} debited. Remaining balance rs.{self.balance}\")\n",
    "            else:\n",
    "                print(\"insufficent funds!!.Transcation cancelled\")\n",
    "        else:\n",
    "            print(\"Incorrect pin\")\n",
    "atm=ATM()\n",
    "atm.process()"
   ]
  },
  {
   "cell_type": "code",
   "execution_count": null,
   "id": "2f4ecc01-3d94-4c3f-a610-5fdf5056fbbf",
   "metadata": {},
   "outputs": [],
   "source": []
  }
 ],
 "metadata": {
  "kernelspec": {
   "display_name": "Python 3 (ipykernel)",
   "language": "python",
   "name": "python3"
  },
  "language_info": {
   "codemirror_mode": {
    "name": "ipython",
    "version": 3
   },
   "file_extension": ".py",
   "mimetype": "text/x-python",
   "name": "python",
   "nbconvert_exporter": "python",
   "pygments_lexer": "ipython3",
   "version": "3.12.7"
  }
 },
 "nbformat": 4,
 "nbformat_minor": 5
}
