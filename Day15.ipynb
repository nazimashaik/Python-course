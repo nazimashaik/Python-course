{
 "cells": [
  {
   "cell_type": "code",
   "execution_count": 1,
   "id": "aeaed088-d4e5-4beb-87a4-58e5f25d71b0",
   "metadata": {},
   "outputs": [
    {
     "name": "stdin",
     "output_type": "stream",
     "text": [
      "enter the table size 5\n"
     ]
    },
    {
     "name": "stdout",
     "output_type": "stream",
     "text": [
      "tables of math\n",
      "[1, 2, 3, 4, 5]\n",
      "[2, 4, 6, 8, 10]\n",
      "[3, 6, 9, 12, 15]\n",
      "[4, 8, 12, 16, 20]\n",
      "[5, 10, 15, 20, 25]\n"
     ]
    }
   ],
   "source": [
    "# nested lc... loop within loop in a single:lc\n",
    "n=int(input(\"enter the table size\"))\n",
    "table=[[i*j for j in range(1,n+1)] for i in range(1,n+1)]\n",
    "print(\"tables of math\")\n",
    "for row in table:\n",
    "    print(row)"
   ]
  },
  {
   "cell_type": "code",
   "execution_count": 5,
   "id": "bc9253a0-28f4-4d84-8ecd-c3496bfd7ad5",
   "metadata": {},
   "outputs": [
    {
     "name": "stdin",
     "output_type": "stream",
     "text": [
      "enter 9 numbers with space 5 6 4 3 2 4 5 6 7\n"
     ]
    },
    {
     "name": "stdout",
     "output_type": "stream",
     "text": [
      "[5, 6, 4]\n",
      "[3, 2, 4]\n",
      "[5, 6, 7]\n"
     ]
    }
   ],
   "source": [
    "nums= input(\"enter 9 numbers with space\").split()\n",
    "if len(nums)!=9:\n",
    "    print(\"enter example 9 numbers:\")\n",
    "else:\n",
    "    numbers=[int(x) for x in nums]\n",
    "    matrix=[[numbers[i*3+j] for j in range(3)] for i in range(3)]\n",
    "for r in matrix:\n",
    "    print(r)"
   ]
  },
  {
   "cell_type": "code",
   "execution_count": 7,
   "id": "23a88142-4ef3-47a8-94ba-4340d3cffb96",
   "metadata": {},
   "outputs": [
    {
     "name": "stdin",
     "output_type": "stream",
     "text": [
      "enter 9 numbers with space 1 2 3 4 5 6 7 8 9\n"
     ]
    },
    {
     "name": "stdout",
     "output_type": "stream",
     "text": [
      "[1, 2, 3]\n",
      "[4, 5, 6]\n",
      "[7, 8, 9]\n",
      "[1, 4, 7]\n",
      "[2, 5, 8]\n",
      "[3, 6, 9]\n"
     ]
    }
   ],
   "source": [
    "nums= input(\"enter 9 numbers with space\").split()\n",
    "if len(nums)!=9:\n",
    "    print(\"enter example 9 numbers:\")\n",
    "else:\n",
    "    numbers=[int(x) for x in nums]\n",
    "    matrix=[[numbers[i*3+j] for j in range(3)] for i in range(3)]\n",
    "    transpose=[[matrix[i][j] for i in range(3)] for j in range(3)]\n",
    "for r in matrix:\n",
    "    print(r)\n",
    "for r in transpose:\n",
    "    print(r)"
   ]
  },
  {
   "cell_type": "code",
   "execution_count": 11,
   "id": "19118f64-d62f-42fb-9db0-fe7549a38b9b",
   "metadata": {},
   "outputs": [
    {
     "name": "stdin",
     "output_type": "stream",
     "text": [
      "enter size: 3\n",
      "enter numbers 1 2 3 4 5 6 7 8 9\n"
     ]
    },
    {
     "name": "stdout",
     "output_type": "stream",
     "text": [
      "[1, 2, 3]\n",
      "[4, 5, 6]\n",
      "[7, 8, 9]\n",
      "[1, 2, 3, 4, 5, 6, 7, 8, 9]\n"
     ]
    }
   ],
   "source": [
    "n=int(input(\"enter size:\"))\n",
    "num=[int(x) for x in input(\"enter numbers\").split()[:n*n]]\n",
    "matrix=[[num[i*n+j] for j in range(n)] for i in range(n)]\n",
    "for k in matrix:\n",
    "    print(k)\n",
    "flat=[k for r in matrix for k in r]\n",
    "print(flat)"
   ]
  },
  {
   "cell_type": "code",
   "execution_count": 13,
   "id": "9338802a-4148-4063-b51a-097ea3d2f181",
   "metadata": {},
   "outputs": [
    {
     "name": "stdin",
     "output_type": "stream",
     "text": [
      "enter size: 2\n",
      "enter numbers 1 2 3 4\n"
     ]
    },
    {
     "name": "stdout",
     "output_type": "stream",
     "text": [
      "[1, 2]\n",
      "[3, 4]\n",
      "square\n",
      "[1, 4]\n",
      "[9, 16]\n"
     ]
    }
   ],
   "source": [
    "n=int(input(\"enter size:\"))\n",
    "num=[int(x) for x in input(\"enter numbers\").split()[:n*n]]\n",
    "matrix=[[num[i*n+j] for j in range(n)] for i in range(n)]\n",
    "squared = [[num ** 2 for num in row] for row in matrix]\n",
    "for k in matrix:\n",
    "    print(k)\n",
    "print(\"square\")\n",
    "for k in squared:\n",
    "    print(k)"
   ]
  },
  {
   "cell_type": "code",
   "execution_count": 15,
   "id": "01628ac5-65ec-4a11-bbda-5734cbe01dc2",
   "metadata": {},
   "outputs": [
    {
     "name": "stdin",
     "output_type": "stream",
     "text": [
      "enter size: 2\n",
      "enter numbers 1 2 3 4\n"
     ]
    },
    {
     "name": "stdout",
     "output_type": "stream",
     "text": [
      "[1, 4]\n",
      "[9, 16]\n"
     ]
    }
   ],
   "source": [
    "n=int(input(\"enter size:\"))\n",
    "num=[int(x) for x in input(\"enter numbers\").split()[:n*n]]\n",
    "matrix=[[num[i*n+j]**2 for j in range(n)] for i in range(n)]\n",
    "for k in matrix:\n",
    "    print(k)"
   ]
  },
  {
   "cell_type": "code",
   "execution_count": 17,
   "id": "76ef40cc-b057-4bfd-85ba-557cbb5a47b0",
   "metadata": {},
   "outputs": [
    {
     "name": "stdin",
     "output_type": "stream",
     "text": [
      "enter size: 3\n",
      "enter numbers 1 2 3 4 5 6 7 8 9\n"
     ]
    },
    {
     "name": "stdout",
     "output_type": "stream",
     "text": [
      "[0, 2, 0]\n",
      "[4, 0, 6]\n",
      "[0, 8, 0]\n"
     ]
    }
   ],
   "source": [
    "n=int(input(\"enter size:\"))\n",
    "num=[int(x) for x in input(\"enter numbers\").split()[:n*n]]\n",
    "matrix=[[num[i*n+j] if num[i*n+j]%2==0 else 0 for j in range(n)] for i in range(n)]\n",
    "for k in matrix:\n",
    "    print(k)"
   ]
  },
  {
   "cell_type": "code",
   "execution_count": 19,
   "id": "b2e2412d-1977-49c1-9a64-f5de54526538",
   "metadata": {},
   "outputs": [
    {
     "name": "stdin",
     "output_type": "stream",
     "text": [
      "enter size: 3\n",
      "enter numbers 1 2 3 4 5 6 7 8 9\n"
     ]
    },
    {
     "name": "stdout",
     "output_type": "stream",
     "text": [
      "[1, 0, 3]\n",
      "[0, 5, 0]\n",
      "[7, 0, 9]\n"
     ]
    }
   ],
   "source": [
    "n=int(input(\"enter size:\"))\n",
    "num=[int(x) for x in input(\"enter numbers\").split()[:n*n]]\n",
    "matrix=[[num[i*n+j] if num[i*n+j]%2!=0 else 0 for j in range(n)] for i in range(n)]\n",
    "for k in matrix:\n",
    "    print(k)"
   ]
  },
  {
   "cell_type": "code",
   "execution_count": 21,
   "id": "ada78d44-4098-4280-8c06-7a5ccf00fe92",
   "metadata": {},
   "outputs": [
    {
     "name": "stdin",
     "output_type": "stream",
     "text": [
      "Enter size:  3\n",
      "Enter numbers:  1 2 3 4 5 6 7 8 9\n"
     ]
    },
    {
     "name": "stdout",
     "output_type": "stream",
     "text": [
      "[1, 0, 1]\n",
      "[0, 1, 0]\n",
      "[1, 0, 1]\n"
     ]
    }
   ],
   "source": [
    "n = int(input(\"Enter size: \"))\n",
    "num = [int(x) for x in input(\"Enter numbers: \").split()[:n * n]]\n",
    "matrix = [[0 if num[i * n + j] % 2 == 0 else 1 for j in range(n)] for i in range(n)]\n",
    "for row in matrix:\n",
    "    print(row)"
   ]
  },
  {
   "cell_type": "code",
   "execution_count": null,
   "id": "8e40b214-ab13-419e-9e99-ee9f7a684c62",
   "metadata": {},
   "outputs": [],
   "source": []
  }
 ],
 "metadata": {
  "kernelspec": {
   "display_name": "Python 3 (ipykernel)",
   "language": "python",
   "name": "python3"
  },
  "language_info": {
   "codemirror_mode": {
    "name": "ipython",
    "version": 3
   },
   "file_extension": ".py",
   "mimetype": "text/x-python",
   "name": "python",
   "nbconvert_exporter": "python",
   "pygments_lexer": "ipython3",
   "version": "3.12.7"
  }
 },
 "nbformat": 4,
 "nbformat_minor": 5
}
