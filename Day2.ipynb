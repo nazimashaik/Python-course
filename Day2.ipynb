{
 "cells": [
  {
   "cell_type": "code",
   "execution_count": 1,
   "id": "9a9b4cdc-b8c3-4bcc-8e75-583cdb6bb9f0",
   "metadata": {},
   "outputs": [
    {
     "name": "stdout",
     "output_type": "stream",
     "text": [
      " 56  56 \n",
      "38\n",
      "33333333\n"
     ]
    }
   ],
   "source": [
    "print(' 56 '*2)\n",
    "print('3'+'8')\n",
    "print('3'* 8)"
   ]
  },
  {
   "cell_type": "code",
   "execution_count": 2,
   "id": "f354d02d-ce48-4f79-8045-ea4fe001549b",
   "metadata": {},
   "outputs": [
    {
     "name": "stdin",
     "output_type": "stream",
     "text": [
      " 8\n",
      " 9\n"
     ]
    },
    {
     "name": "stdout",
     "output_type": "stream",
     "text": [
      "17\n",
      "8 9\n"
     ]
    }
   ],
   "source": [
    "n1=int(input())\n",
    "n2=int(input())\n",
    "t=n1+n2\n",
    "print(t)\n",
    "print(n1,n2)"
   ]
  },
  {
   "cell_type": "code",
   "execution_count": 3,
   "id": "c468b633-1992-45e4-9f48-43ce36c25683",
   "metadata": {},
   "outputs": [
    {
     "name": "stdin",
     "output_type": "stream",
     "text": [
      "enter a float num: 8\n",
      "enter another float num: 9\n"
     ]
    },
    {
     "name": "stdout",
     "output_type": "stream",
     "text": [
      "17.0\n",
      "8.0 9.0\n"
     ]
    }
   ],
   "source": [
    "n1=float(input(\"enter a float num:\"))\n",
    "n2=float(input(\"enter another float num:\"))\n",
    "t=n1+n2\n",
    "print(t)\n",
    "print(n1,n2)"
   ]
  },
  {
   "cell_type": "code",
   "execution_count": 4,
   "id": "50d3b9b0-2cd9-4229-945a-74db6f714f49",
   "metadata": {},
   "outputs": [
    {
     "name": "stdin",
     "output_type": "stream",
     "text": [
      " hi \n",
      " p\n"
     ]
    },
    {
     "name": "stdout",
     "output_type": "stream",
     "text": [
      "hi p\n",
      "hi  p\n"
     ]
    }
   ],
   "source": [
    "n1=str(input())\n",
    "n2=str(input())\n",
    "concate=n1+n2\n",
    "print(concate)\n",
    "print(n1,n2)"
   ]
  },
  {
   "cell_type": "code",
   "execution_count": 5,
   "id": "452f769c-38b4-4486-ac19-47067a521241",
   "metadata": {},
   "outputs": [
    {
     "name": "stdin",
     "output_type": "stream",
     "text": [
      "enter: hello\n"
     ]
    },
    {
     "name": "stdout",
     "output_type": "stream",
     "text": [
      "l\n",
      "l\n"
     ]
    }
   ],
   "source": [
    "str1=str(input(\"enter:\"))\n",
    "print(str1[2])\n",
    "print(str1[-3])"
   ]
  },
  {
   "cell_type": "code",
   "execution_count": 7,
   "id": "6245f163-0584-4274-bb10-eef637b9ffb0",
   "metadata": {},
   "outputs": [
    {
     "name": "stdin",
     "output_type": "stream",
     "text": [
      " nazima\n"
     ]
    },
    {
     "name": "stdout",
     "output_type": "stream",
     "text": [
      "i\n",
      "m\n",
      "6\n",
      "NAZIMA\n",
      "nazima\n",
      "az\n",
      "amizan\n"
     ]
    }
   ],
   "source": [
    "str1=str(input())\n",
    "print(str1[3])\n",
    "print(str1[-2])\n",
    "print(len(str1))\n",
    "print(str1.upper())\n",
    "print(str1.lower())\n",
    "print(str1[1:3])\n",
    "print(str1[::-1])"
   ]
  },
  {
   "cell_type": "code",
   "execution_count": 65,
   "id": "53171e9f-3e15-49d1-b193-4df2622246cb",
   "metadata": {},
   "outputs": [
    {
     "name": "stdout",
     "output_type": "stream",
     "text": [
      "['apple', 'banana', 'orange', 'watermelom']\n",
      "['apple', 'banana', 'orange', 'watermelom', 'kiwi']\n",
      "kiwi\n",
      "['apple', 'orange', 'watermelom', 'kiwi']\n",
      "['orange', 'watermelom', 'kiwi']\n",
      "['mango', 'orange', 'watermelom', 'kiwi']\n",
      "['orange', 'watermelom', 'kiwi']\n",
      "['kiwi', 'watermelom', 'orange']\n",
      "['kiwi', 'orange', 'watermelom']\n",
      "['kiwi', 'orange', 'watermelom', 'muskmelon']\n",
      "1\n",
      "['kiwi', 'orange', 'watermelom', 'muskmelon']\n"
     ]
    }
   ],
   "source": [
    "n=[8,0,9,5,4]\n",
    "fruits=['apple','banana','orange','watermelom']\n",
    "print(fruits)\n",
    "#append element\n",
    "fruits.append('kiwi')\n",
    "print(fruits[::1])\n",
    "print(fruits[-1])\n",
    "#remove element\n",
    "fruits.remove('banana')\n",
    "print(fruits)\n",
    "del fruits[0]\n",
    "print(fruits)\n",
    "fruits.insert(0,'mango')\n",
    "print(fruits)\n",
    "fruits.pop(0)\n",
    "print(fruits)\n",
    "fruits.reverse()\n",
    "print(fruits)\n",
    "fruits.sort()\n",
    "print(fruits)\n",
    "fr=['muskmelon']\n",
    "fruits.extend(fr)\n",
    "print(fruits)\n",
    "u=fruits.count('orange')\n",
    "print(u)\n",
    "v=fruits.copy()\n",
    "print(v)"
   ]
  },
  {
   "cell_type": "code",
   "execution_count": 83,
   "id": "e28fb6c0-c177-4f21-8c5a-799a82585f07",
   "metadata": {},
   "outputs": [
    {
     "name": "stdout",
     "output_type": "stream",
     "text": [
      "naz\n",
      "{'name': 'naz', 'height': 5.2, 'city': 'hyd'}\n",
      "5.2\n",
      "dict_keys(['name', 'height', 'city'])\n",
      "dict_values(['naz', 5.2, 'hyd'])\n",
      "dict_items([('name', 'naz'), ('height', 5.2), ('city', 'hyd')])\n",
      "{'name': 'naz', 'height': 5.2, 'city': 'hyd', 'country': 'India'}\n",
      "5.2\n",
      "{'name': 'naz', 'city': 'hyd', 'country': 'India'}\n"
     ]
    }
   ],
   "source": [
    "#dictionary operations\n",
    "person={'name': 'naz','height':5.2}\n",
    "print(person['name'])\n",
    "person[\"city\"]='hyd'\n",
    "print(person)\n",
    "print(person.get(\"height\"))\n",
    "print(person.keys())\n",
    "print(person.values())\n",
    "print(person.items())\n",
    "person.update({'country':'India'})\n",
    "print(person)\n",
    "h=person.pop('height')\n",
    "print(h)\n",
    "print(person)"
   ]
  },
  {
   "cell_type": "code",
   "execution_count": 99,
   "id": "021e8224-4d78-48c5-ae17-7cb2bdbcfc85",
   "metadata": {},
   "outputs": [
    {
     "name": "stdout",
     "output_type": "stream",
     "text": [
      "(1, 2, 3, 1, 3, 4)\n",
      "(1, 3, 3)\n",
      "4\n",
      "6\n",
      "(2, 3)\n",
      "True\n",
      "banana\n"
     ]
    }
   ],
   "source": [
    "#tuple operations\n",
    "t=(1,2,3,1,3,4)\n",
    "print(t)\n",
    "print(t[::2])\n",
    "print(t[-1])\n",
    "print(len(t))\n",
    "print(t[1:3])\n",
    "print(2 in t)\n",
    "tu=('apple','banana','mango')\n",
    "f1,f2,f3=tu\n",
    "print(f2)"
   ]
  },
  {
   "cell_type": "code",
   "execution_count": 105,
   "id": "00a0307c-9c07-4ee6-9937-621b98cb9c0b",
   "metadata": {},
   "outputs": [
    {
     "name": "stdout",
     "output_type": "stream",
     "text": [
      "(1, 2, [3, 4, 5])\n",
      "(1, 2, [3, 4, 5, 66])\n",
      "(1, 2, [3, 4, 55, 66])\n"
     ]
    }
   ],
   "source": [
    "#implementation of list in a tuple\n",
    "t=(1,2,[3,4,5])\n",
    "print(t)\n",
    "t[2].append(66)\n",
    "print(t)\n",
    "t[2][2]=55\n",
    "print(t)"
   ]
  },
  {
   "cell_type": "code",
   "execution_count": 109,
   "id": "b0fa2786-4aec-4c7c-9b3e-24ef6df64b19",
   "metadata": {},
   "outputs": [
    {
     "name": "stdout",
     "output_type": "stream",
     "text": [
      "[[1, 2], [3, 4], [5, 6]]\n",
      "[1, 2]\n",
      "3\n"
     ]
    }
   ],
   "source": [
    "nest=[[1,2],[3,4],[5,6]]\n",
    "print(nest)\n",
    "print(nest[0])\n",
    "print(nest[1][0])"
   ]
  },
  {
   "cell_type": "code",
   "execution_count": null,
   "id": "8a7cd6ce-4bb4-4530-82ec-153895f5bee7",
   "metadata": {},
   "outputs": [],
   "source": []
  }
 ],
 "metadata": {
  "kernelspec": {
   "display_name": "Python 3 (ipykernel)",
   "language": "python",
   "name": "python3"
  },
  "language_info": {
   "codemirror_mode": {
    "name": "ipython",
    "version": 3
   },
   "file_extension": ".py",
   "mimetype": "text/x-python",
   "name": "python",
   "nbconvert_exporter": "python",
   "pygments_lexer": "ipython3",
   "version": "3.12.7"
  }
 },
 "nbformat": 4,
 "nbformat_minor": 5
}
