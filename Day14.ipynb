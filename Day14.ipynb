{
 "cells": [
  {
   "cell_type": "code",
   "execution_count": 1,
   "id": "c52a9ef5-5256-457d-abf2-f99e8d657f6f",
   "metadata": {},
   "outputs": [
    {
     "name": "stdout",
     "output_type": "stream",
     "text": [
      "1 2 3 4 5 6 7 8 9 10 11 12 13 14 15 16 17 18 19 20 21 22 23 24 25 26 27 28 29 30 "
     ]
    }
   ],
   "source": [
    "'''program which infinitly print naturall numbers raise an exception after printin first 30 numbers exit \n",
    "the program'''\n",
    "n=0\n",
    "while True:\n",
    "    try:\n",
    "        n=n+1\n",
    "        if n==31:\n",
    "            raise StopIteration\n",
    "    except StopIteration:\n",
    "        break\n",
    "    else:\n",
    "        print(n,end=\" \")"
   ]
  },
  {
   "cell_type": "code",
   "execution_count": 3,
   "id": "fb43bf34-3a03-4109-8f6f-63650d4648b8",
   "metadata": {},
   "outputs": [
    {
     "name": "stdin",
     "output_type": "stream",
     "text": [
      "enter size: 3\n",
      "enter element 1: 3\n",
      "enter element 2: 4\n",
      "enter element 3: 5\n",
      "enter index to access the element 3\n"
     ]
    },
    {
     "name": "stdout",
     "output_type": "stream",
     "text": [
      "error : index out of range\n"
     ]
    }
   ],
   "source": [
    "try:\n",
    "    size=int(input(\"enter size:\"))\n",
    "    user_list=[]\n",
    "    for i in range(size):\n",
    "        val=int(input(f\"enter element {i+1}:\"))\n",
    "        user_list.append(val)\n",
    "    index= int(input(\"enter index to access the element\"))\n",
    "    print(\"element at index\", user_list[index])\n",
    "except ValueError:\n",
    "    print(\"error : please enter only integers\")\n",
    "except IndexError:\n",
    "    print(\"error : index out of range\")"
   ]
  },
  {
   "cell_type": "code",
   "execution_count": 5,
   "id": "6e6071ac-6f82-4237-81d4-8fa70a6537e0",
   "metadata": {},
   "outputs": [
    {
     "name": "stdout",
     "output_type": "stream",
     "text": [
      "[1, 4, 9, 16, 25, 36, 49, 64, 81, 100]\n"
     ]
    }
   ],
   "source": [
    "'''list comprehensions\n",
    "syntax:\n",
    "expression for var in range() if condition'''\n",
    "# 1 4 9 16 ........100\n",
    "print([num**2 for num in range(1,11)])"
   ]
  },
  {
   "cell_type": "code",
   "execution_count": 7,
   "id": "ab0b2802-4674-4f50-94d4-0f5b1950f621",
   "metadata": {},
   "outputs": [
    {
     "name": "stdout",
     "output_type": "stream",
     "text": [
      "[2, 4, 6, 8, 10]\n"
     ]
    }
   ],
   "source": [
    "print([x for x in range(1,11) if x%2==0])"
   ]
  },
  {
   "cell_type": "code",
   "execution_count": 9,
   "id": "a348b204-1ce3-47b4-a7dd-0efe8a6b574d",
   "metadata": {},
   "outputs": [
    {
     "name": "stdout",
     "output_type": "stream",
     "text": [
      "['APPLE', 'BANANA', 'CHERRY']\n"
     ]
    }
   ],
   "source": [
    "words=['apple','banana','cherry']\n",
    "print([word.upper() for word in words])"
   ]
  },
  {
   "cell_type": "code",
   "execution_count": 11,
   "id": "00a44482-87cd-4ab5-8535-be8732995976",
   "metadata": {},
   "outputs": [
    {
     "name": "stdin",
     "output_type": "stream",
     "text": [
      "enter number1: 5\n",
      "enter number2: 4\n",
      "enter number3: 6\n",
      "enter number4: 3\n",
      "enter number5: 2\n"
     ]
    },
    {
     "name": "stdout",
     "output_type": "stream",
     "text": [
      "[5, 4, 6, 3, 2]\n"
     ]
    }
   ],
   "source": [
    "'''list comprehension .......input version'''\n",
    "#step by step\n",
    "nums=[int(input(f\"enter number{i+1}:\")) for i in range(5)]\n",
    "print(nums)"
   ]
  },
  {
   "cell_type": "code",
   "execution_count": 13,
   "id": "aaf12c77-cece-4925-8031-dc2f9851aef6",
   "metadata": {},
   "outputs": [
    {
     "name": "stdin",
     "output_type": "stream",
     "text": [
      "enter 5 nums with space 4 5 6 7 3\n"
     ]
    },
    {
     "name": "stdout",
     "output_type": "stream",
     "text": [
      "[4, 5, 6, 7, 3]\n"
     ]
    }
   ],
   "source": [
    "n=[int(x) for x in input(\"enter 5 nums with space\").split()[:5]]\n",
    "print(n)"
   ]
  },
  {
   "cell_type": "code",
   "execution_count": null,
   "id": "a4148389-b281-4698-ba64-60c79322e246",
   "metadata": {},
   "outputs": [],
   "source": []
  }
 ],
 "metadata": {
  "kernelspec": {
   "display_name": "Python 3 (ipykernel)",
   "language": "python",
   "name": "python3"
  },
  "language_info": {
   "codemirror_mode": {
    "name": "ipython",
    "version": 3
   },
   "file_extension": ".py",
   "mimetype": "text/x-python",
   "name": "python",
   "nbconvert_exporter": "python",
   "pygments_lexer": "ipython3",
   "version": "3.12.7"
  }
 },
 "nbformat": 4,
 "nbformat_minor": 5
}
