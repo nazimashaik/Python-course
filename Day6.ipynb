{
 "cells": [
  {
   "cell_type": "code",
   "execution_count": 1,
   "id": "76dad1ff-4d10-445e-a0ad-16f464bef632",
   "metadata": {},
   "outputs": [
    {
     "name": "stdin",
     "output_type": "stream",
     "text": [
      "enter the size of n: 6\n"
     ]
    },
    {
     "name": "stdout",
     "output_type": "stream",
     "text": [
      "* * * * * * \n",
      "* * * * * * \n",
      "* * * * * * \n",
      "* * * * * * \n",
      "* * * * * * \n",
      "* * * * * * \n"
     ]
    }
   ],
   "source": [
    "#nested loop\n",
    "n=int(input(\"enter the size of n:\"))\n",
    "for i in range(n):\n",
    "    for j in range(n):\n",
    "        print('*',end=\" \")\n",
    "    print()"
   ]
  },
  {
   "cell_type": "code",
   "execution_count": 2,
   "id": "8f8aff42-61f8-4844-b0cf-1d69849ff033",
   "metadata": {},
   "outputs": [
    {
     "name": "stdin",
     "output_type": "stream",
     "text": [
      "enter the size of n: 6\n"
     ]
    },
    {
     "name": "stdout",
     "output_type": "stream",
     "text": [
      "0 0 0 0 0 0 \n",
      "1 1 1 1 1 1 \n",
      "2 2 2 2 2 2 \n",
      "3 3 3 3 3 3 \n",
      "4 4 4 4 4 4 \n",
      "5 5 5 5 5 5 \n"
     ]
    }
   ],
   "source": [
    "#nested loop\n",
    "n=int(input(\"enter the size of n:\"))\n",
    "for i in range(n):\n",
    "    for j in range(n):\n",
    "        print(i,end=\" \")\n",
    "    print()"
   ]
  },
  {
   "cell_type": "code",
   "execution_count": 3,
   "id": "7ac8fd58-0046-4f1d-b129-ea258a4b73b8",
   "metadata": {},
   "outputs": [
    {
     "name": "stdin",
     "output_type": "stream",
     "text": [
      "enter the size of n: 6\n"
     ]
    },
    {
     "name": "stdout",
     "output_type": "stream",
     "text": [
      "0 1 2 3 4 5 \n",
      "0 1 2 3 4 5 \n",
      "0 1 2 3 4 5 \n",
      "0 1 2 3 4 5 \n",
      "0 1 2 3 4 5 \n",
      "0 1 2 3 4 5 \n"
     ]
    }
   ],
   "source": [
    "#nested loop\n",
    "n=int(input(\"enter the size of n:\"))\n",
    "for i in range(n):\n",
    "    for j in range(n):\n",
    "        print(j,end=\" \")\n",
    "    print()"
   ]
  },
  {
   "cell_type": "code",
   "execution_count": 4,
   "id": "1b3a6174-7fda-45cd-8d88-7d5ed8137a7c",
   "metadata": {},
   "outputs": [
    {
     "name": "stdin",
     "output_type": "stream",
     "text": [
      "enter the size of n: 6\n"
     ]
    },
    {
     "name": "stdout",
     "output_type": "stream",
     "text": [
      "\n",
      "* \n",
      "* * \n",
      "* * * \n",
      "* * * * \n",
      "* * * * * \n"
     ]
    }
   ],
   "source": [
    "#nested loop\n",
    "n=int(input(\"enter the size of n:\"))\n",
    "for i in range(n):\n",
    "    for j in range(i):\n",
    "        print('*',end=\" \")\n",
    "    print()"
   ]
  },
  {
   "cell_type": "code",
   "execution_count": 13,
   "id": "9bcbf409-74ab-45d4-929f-a393449354ad",
   "metadata": {},
   "outputs": [
    {
     "name": "stdin",
     "output_type": "stream",
     "text": [
      "enter the size of n: 6\n"
     ]
    },
    {
     "name": "stdout",
     "output_type": "stream",
     "text": [
      "* * * * \n",
      "* * * \n",
      "* * \n",
      "* \n",
      "\n",
      "\n"
     ]
    }
   ],
   "source": [
    "#nested loop\n",
    "n=int(input(\"enter the size of n:\"))\n",
    "for i in range(n):\n",
    "    for j in range(j):\n",
    "        print('*',end=\" \")\n",
    "    print()"
   ]
  },
  {
   "cell_type": "code",
   "execution_count": 25,
   "id": "35a5462d-4b8e-46ec-bf85-0292e5de612f",
   "metadata": {},
   "outputs": [
    {
     "name": "stdout",
     "output_type": "stream",
     "text": [
      "\n",
      "* \n",
      "* * \n",
      "* * * \n",
      "* * * * \n"
     ]
    }
   ],
   "source": [
    "#right angled triangle using single for loop\n",
    "for i in range(5):\n",
    "    print(\"* \" *i)"
   ]
  },
  {
   "cell_type": "code",
   "execution_count": 27,
   "id": "87971c11-f955-4ca2-b263-d41a14955076",
   "metadata": {},
   "outputs": [
    {
     "name": "stdout",
     "output_type": "stream",
     "text": [
      "* * * * * \n",
      "* * * * * \n",
      "* * * * * \n",
      "* * * * * \n",
      "* * * * * \n"
     ]
    }
   ],
   "source": [
    "#right angled triangle using single for loop\n",
    "for i in range(5):\n",
    "    print(\"* \" *5)"
   ]
  },
  {
   "cell_type": "code",
   "execution_count": 29,
   "id": "dfe55539-335f-4970-a0f3-88b69d6ec47e",
   "metadata": {},
   "outputs": [
    {
     "name": "stdout",
     "output_type": "stream",
     "text": [
      "0\n",
      "5\n",
      "10\n",
      "15\n",
      "20\n"
     ]
    }
   ],
   "source": [
    "#right angled triangle using single for loop\n",
    "for i in range(5):\n",
    "    print(i*5)"
   ]
  },
  {
   "cell_type": "code",
   "execution_count": 31,
   "id": "88b0d87d-4d04-420f-8869-94d23977c7fb",
   "metadata": {},
   "outputs": [
    {
     "name": "stdin",
     "output_type": "stream",
     "text": [
      " 6\n"
     ]
    },
    {
     "name": "stdout",
     "output_type": "stream",
     "text": [
      "* * * * * * \n",
      "*         * \n",
      "*         * \n",
      "*         * \n",
      "*         * \n",
      "* * * * * * \n"
     ]
    }
   ],
   "source": [
    "#hollow square\n",
    "n=int(input())\n",
    "for i in range(n):\n",
    "    for j in range(n):\n",
    "        if i==0 or i==n-1 or j==0 or j==n-1:\n",
    "            print('*',end=' ')\n",
    "        else:\n",
    "            print(' ',end=' ')\n",
    "    print()"
   ]
  },
  {
   "cell_type": "code",
   "execution_count": 33,
   "id": "4ef1036a-665d-4d01-a08d-64006ad9944a",
   "metadata": {},
   "outputs": [
    {
     "name": "stdin",
     "output_type": "stream",
     "text": [
      " 6\n"
     ]
    },
    {
     "name": "stdout",
     "output_type": "stream",
     "text": [
      "          * \n",
      "        * * * \n",
      "      * * * * * \n",
      "    * * * * * * * \n",
      "  * * * * * * * * * \n",
      "* * * * * * * * * * * \n"
     ]
    }
   ],
   "source": [
    "n=int(input())\n",
    "for i in range(n):\n",
    "    for j in range(n-i-1):\n",
    "        print(\" \",end=' ')\n",
    "    for k in range(2*i+1):\n",
    "        print(\"*\",end=\" \")\n",
    "    print()   "
   ]
  },
  {
   "cell_type": "code",
   "execution_count": 35,
   "id": "89b5f82f-3375-4abf-a03d-902b26105952",
   "metadata": {},
   "outputs": [
    {
     "name": "stdout",
     "output_type": "stream",
     "text": [
      "    *\n",
      "   ***\n",
      "  *****\n",
      " *******\n",
      "*********\n",
      " *******\n",
      "  *****\n",
      "   ***\n",
      "    *\n"
     ]
    }
   ],
   "source": [
    "rows = 5\n",
    "for i in range(rows):\n",
    "    print(\" \" * (rows - i - 1) + \"*\" * (2 * i + 1))\n",
    "for i in range(rows - 2, -1, -1):\n",
    "    print(\" \" * (rows - i - 1) + \"*\" * (2 * i + 1))"
   ]
  },
  {
   "cell_type": "code",
   "execution_count": 37,
   "id": "7205194c-41a3-46ae-9f05-54a923f01919",
   "metadata": {},
   "outputs": [
    {
     "name": "stdout",
     "output_type": "stream",
     "text": [
      "m \n",
      "m u \n",
      "m u r \n",
      "m u r t \n",
      "m u r t h \n",
      "m u r t h a \n",
      "m u r t h a s \n",
      "m u r t h a s i \n",
      "m u r t h a s i m \n"
     ]
    }
   ],
   "source": [
    "t='murthasim'\n",
    "r=len(t)\n",
    "for i in range(r):\n",
    "    for j in range(i+1):\n",
    "        print(t[j],end=' ')\n",
    "    print()"
   ]
  },
  {
   "cell_type": "code",
   "execution_count": 39,
   "id": "5c1bd0ed-4a3a-43da-8604-004464004cda",
   "metadata": {},
   "outputs": [
    {
     "name": "stdin",
     "output_type": "stream",
     "text": [
      " 6\n"
     ]
    },
    {
     "name": "stdout",
     "output_type": "stream",
     "text": [
      "* * * * * * \n",
      "* *     * * \n",
      "*   * *   * \n",
      "*   * *   * \n",
      "* *     * * \n",
      "* * * * * * \n"
     ]
    }
   ],
   "source": [
    "#hollow square\n",
    "n=int(input())\n",
    "for i in range(n):\n",
    "    for j in range(n):\n",
    "        if i==0 or i==n-1 or j==0 or j==n-1 or i==j or i+j==n-1:\n",
    "            print('*',end=' ')\n",
    "        else:\n",
    "            print(' ',end=' ')\n",
    "    print()"
   ]
  },
  {
   "cell_type": "code",
   "execution_count": 41,
   "id": "5e626dc9-c779-4f00-9e41-22a40a61f81f",
   "metadata": {},
   "outputs": [
    {
     "name": "stdin",
     "output_type": "stream",
     "text": [
      " 6\n"
     ]
    },
    {
     "name": "stdout",
     "output_type": "stream",
     "text": [
      "* * * * * * \n",
      "  *     *   \n",
      "    * *     \n",
      "    * *     \n",
      "  *     *   \n",
      "* * * * * * \n"
     ]
    }
   ],
   "source": [
    "#hollow square\n",
    "n=int(input())\n",
    "for i in range(n):\n",
    "    for j in range(n):\n",
    "        if i==0 or i==n-1 or i==j or i+j==n-1:\n",
    "            print('*',end=' ')\n",
    "        else:\n",
    "            print(' ',end=' ')\n",
    "    print()"
   ]
  },
  {
   "cell_type": "code",
   "execution_count": 43,
   "id": "cf1ac73e-7700-4716-aa95-56c5ee38f3c2",
   "metadata": {},
   "outputs": [
    {
     "name": "stdin",
     "output_type": "stream",
     "text": [
      " 6\n"
     ]
    },
    {
     "name": "stdout",
     "output_type": "stream",
     "text": [
      "*         * \n",
      "* *     * * \n",
      "*   * *   * \n",
      "*   * *   * \n",
      "* *     * * \n",
      "*         * \n"
     ]
    }
   ],
   "source": [
    "#hollow square\n",
    "n=int(input())\n",
    "for i in range(n):\n",
    "    for j in range(n):\n",
    "        if j==0 or j==n-1 or i==j or i+j==n-1:\n",
    "            print('*',end=' ')\n",
    "        else:\n",
    "            print(' ',end=' ')\n",
    "    print()"
   ]
  },
  {
   "cell_type": "code",
   "execution_count": 45,
   "id": "eecaf01a-5645-438f-9df7-deaeb1aad868",
   "metadata": {},
   "outputs": [
    {
     "name": "stdin",
     "output_type": "stream",
     "text": [
      " 6\n"
     ]
    },
    {
     "name": "stdout",
     "output_type": "stream",
     "text": [
      "*         * \n",
      "  *     *   \n",
      "    * *     \n",
      "    * *     \n",
      "  *     *   \n",
      "*         * \n"
     ]
    }
   ],
   "source": [
    "#hollow square\n",
    "n=int(input())\n",
    "for i in range(n):\n",
    "    for j in range(n):\n",
    "        if i==j or i+j==n-1:\n",
    "            print('*',end=' ')\n",
    "        else:\n",
    "            print(' ',end=' ')\n",
    "    print()"
   ]
  },
  {
   "cell_type": "code",
   "execution_count": 47,
   "id": "ba4cb897-9abf-462e-998c-a3de037a67db",
   "metadata": {},
   "outputs": [
    {
     "name": "stdin",
     "output_type": "stream",
     "text": [
      "Enter number of rows:  6\n"
     ]
    },
    {
     "name": "stdout",
     "output_type": "stream",
     "text": [
      "     *\n",
      "    * *\n",
      "   *   *\n",
      "  *     *\n",
      " *       *\n",
      "***********\n"
     ]
    }
   ],
   "source": [
    "rows = int(input(\"Enter number of rows: \"))\n",
    "\n",
    "for i in range(rows):\n",
    "    for j in range(rows - i - 1):\n",
    "        print(\" \", end=\"\")\n",
    "    for k in range(2 * i + 1):\n",
    "        if k == 0 or k == 2 * i or i == rows - 1:\n",
    "            print(\"*\", end=\"\")\n",
    "        else:\n",
    "            print(\" \", end=\"\")\n",
    "    print()"
   ]
  },
  {
   "cell_type": "code",
   "execution_count": 49,
   "id": "427a24aa-67c6-476c-bf4a-5111ca024950",
   "metadata": {},
   "outputs": [
    {
     "name": "stdin",
     "output_type": "stream",
     "text": [
      " 6\n"
     ]
    },
    {
     "name": "stdout",
     "output_type": "stream",
     "text": [
      "* * * * * * \n",
      "* * * * * \n",
      "* * * * \n",
      "* * * \n",
      "* * \n",
      "* \n"
     ]
    }
   ],
   "source": [
    "n=int(input())\n",
    "for i in range(n):\n",
    "    for j in range(n-i):\n",
    "        print(\"*\",end=' ')\n",
    "    print()"
   ]
  },
  {
   "cell_type": "code",
   "execution_count": 51,
   "id": "61bb66ae-a1dd-414c-aaeb-238d76b8b7c1",
   "metadata": {},
   "outputs": [
    {
     "name": "stdin",
     "output_type": "stream",
     "text": [
      " 6\n"
     ]
    },
    {
     "name": "stdout",
     "output_type": "stream",
     "text": [
      "* \n",
      "* * \n",
      "* * * \n",
      "* * * * \n",
      "* * * * * \n",
      "* * * * * * \n"
     ]
    }
   ],
   "source": [
    "n=int(input())\n",
    "for i in range(n):\n",
    "    for j in range(i+1):\n",
    "        print(\"*\",end=' ')\n",
    "    print()"
   ]
  },
  {
   "cell_type": "code",
   "execution_count": 53,
   "id": "e877dd83-4ced-4580-83ac-d23a83b96ab4",
   "metadata": {},
   "outputs": [
    {
     "name": "stdin",
     "output_type": "stream",
     "text": [
      " 6\n"
     ]
    },
    {
     "name": "stdout",
     "output_type": "stream",
     "text": [
      "* \n",
      "* * \n",
      "* * * \n",
      "* * * * \n",
      "* * * * * \n",
      "* * * * * * \n",
      "* * * * * \n",
      "* * * * \n",
      "* * * \n",
      "* * \n",
      "* \n",
      "\n"
     ]
    }
   ],
   "source": [
    "n=int(input())\n",
    "for i in range(n):\n",
    "    for j in range(i+1):\n",
    "        print(\"*\",end=' ')\n",
    "    print()\n",
    "for k in range(n):\n",
    "    for l in range(n-k-1):\n",
    "        print(\"*\",end=' ')\n",
    "    print()"
   ]
  },
  {
   "cell_type": "code",
   "execution_count": 55,
   "id": "6c96c985-6e0b-46e1-8f57-b66520d35332",
   "metadata": {},
   "outputs": [
    {
     "name": "stdout",
     "output_type": "stream",
     "text": [
      "* \n",
      "* * \n",
      "* * * \n",
      "* * * * \n",
      "* * * * * \n",
      "* * * * \n",
      "* * * \n",
      "* * \n",
      "* \n"
     ]
    }
   ],
   "source": [
    "n=5\n",
    "for i in range(1,2*n):\n",
    "    s=i if i<n else 2*n-i\n",
    "    for j in range(s):\n",
    "        print(\"*\",end=' ')\n",
    "    print()"
   ]
  },
  {
   "cell_type": "code",
   "execution_count": 57,
   "id": "49c7f98e-6e1c-4ec5-aa47-28eeafb41cdd",
   "metadata": {},
   "outputs": [
    {
     "name": "stdout",
     "output_type": "stream",
     "text": [
      "0 1 2 3 4 \n",
      "0 1 2 3 4 \n",
      "0 1 2 3 4 \n",
      "0 1 2 3 4 \n",
      "0 1 2 3 4 \n"
     ]
    }
   ],
   "source": [
    "n=5\n",
    "for i in range(1,n+1):\n",
    "    for j in range(n):\n",
    "        print(j,end=' ')\n",
    "    print()"
   ]
  },
  {
   "cell_type": "markdown",
   "id": "b274b696-1e40-430c-9f25-a59ec6675749",
   "metadata": {},
   "source": [
    "n=5\n",
    "for i in range(1,n+1):\n",
    "    for j in range(i):\n",
    "        print(\"*\",end=' ')\n",
    "    print()\n",
    "for i in range(1,n+1):\n",
    "    for j in range(n-i):\n",
    "        print(\"*\",end=' ')\n",
    "    print()"
   ]
  },
  {
   "cell_type": "code",
   "execution_count": 59,
   "id": "629d6e6b-ddfd-40fc-9f50-a9e3f84189cc",
   "metadata": {},
   "outputs": [
    {
     "name": "stdout",
     "output_type": "stream",
     "text": [
      "1 1 1 1 1 \n",
      "2 2 2 2 2 \n",
      "3 3 3 3 3 \n",
      "4 4 4 4 4 \n",
      "5 5 5 5 5 \n"
     ]
    }
   ],
   "source": [
    "for i in range(1,n+1):\n",
    "    for j in range(n):\n",
    "        print(i,end=' ')\n",
    "    print()"
   ]
  },
  {
   "cell_type": "code",
   "execution_count": 23,
   "id": "0b3cadf7-da37-436f-ad1e-3189cfe4388c",
   "metadata": {},
   "outputs": [
    {
     "name": "stdout",
     "output_type": "stream",
     "text": [
      "5 5 5 5 5 \n",
      "5 5 5 5 5 \n",
      "5 5 5 5 5 \n",
      "5 5 5 5 5 \n",
      "5 5 5 5 5 \n"
     ]
    }
   ],
   "source": [
    "for i in range(1,n+1):\n",
    "    for j in range(n):\n",
    "        print(n,end=' ')\n",
    "    print()"
   ]
  },
  {
   "cell_type": "code",
   "execution_count": 21,
   "id": "9f6dd553-c621-4d1c-8c58-0f227c2e97aa",
   "metadata": {},
   "outputs": [
    {
     "name": "stdout",
     "output_type": "stream",
     "text": [
      "        * \n",
      "      * * * \n",
      "    * * * * * \n",
      "  * * * * * * * \n",
      "* * * * * * * * * \n"
     ]
    }
   ],
   "source": [
    "n=5\n",
    "for i in range(n):\n",
    "    for j in range(n-i-1):\n",
    "        print(\" \",end=' ')\n",
    "    for k in range(2*i+1):\n",
    "        print('*',end=' ')\n",
    "    print()"
   ]
  },
  {
   "cell_type": "code",
   "execution_count": 19,
   "id": "cacf400a-17d8-4c27-a63c-2b30745d5e0b",
   "metadata": {},
   "outputs": [
    {
     "name": "stdout",
     "output_type": "stream",
     "text": [
      "        * \n",
      "      * * * \n",
      "    * * * * * \n",
      "  * * * * * * * \n",
      "* * * * * * * * * \n"
     ]
    }
   ],
   "source": [
    "n=5\n",
    "for i in range(1,n+1):\n",
    "    for s in range(n-i):\n",
    "        print(' ',end=' ')\n",
    "    for j in range(2*i-1):\n",
    "        print('*',end=' ')\n",
    "    print()"
   ]
  },
  {
   "cell_type": "code",
   "execution_count": 17,
   "id": "8cd253aa-5736-4c08-ae98-517b54633ec2",
   "metadata": {},
   "outputs": [
    {
     "name": "stdout",
     "output_type": "stream",
     "text": [
      "                     1     \n",
      "                  1     1     \n",
      "               1     2     1     \n",
      "            1     3     3     1     \n",
      "         1     4     6     4     1     \n",
      "      1     5     10     10     5     1     \n",
      "   1     6     15     20     15     6     1     \n",
      "1     7     21     35     35     21     7     1     \n"
     ]
    }
   ],
   "source": [
    "n=8\n",
    "for i in range(n):\n",
    "    for s in range(n-i-1):\n",
    "        print('  ',end=' ')\n",
    "    num=1\n",
    "    for j in range(i+1):\n",
    "        print(f\"{num}   \",end='  ')\n",
    "        num=num*(i-j)//(j+1)\n",
    "    print()"
   ]
  },
  {
   "cell_type": "code",
   "execution_count": 15,
   "id": "bec02880-21aa-4765-80a8-26f278a0da22",
   "metadata": {},
   "outputs": [
    {
     "name": "stdout",
     "output_type": "stream",
     "text": [
      "\n",
      "1 \n",
      "2 3 \n",
      "4 5 6 \n",
      "7 8 9 10 \n",
      "11 12 13 14 15 \n"
     ]
    }
   ],
   "source": [
    "#floyd's triangle\n",
    "num=1\n",
    "for i in range(n):\n",
    "    for j in range(i):\n",
    "        print(num,end=' ')\n",
    "        num+=1\n",
    "    print()"
   ]
  },
  {
   "cell_type": "code",
   "execution_count": 61,
   "id": "3b892d4a-985e-4e84-a353-0a7f1cf2daef",
   "metadata": {},
   "outputs": [
    {
     "name": "stdout",
     "output_type": "stream",
     "text": [
      "* \n",
      "* * \n",
      "* * * \n",
      "* * * * \n",
      "* * * * * \n",
      "* * * * \n",
      "* * * \n",
      "* * \n",
      "* \n",
      "\n"
     ]
    }
   ],
   "source": [
    "n=5\n",
    "for i in range(1,n+1):\n",
    "    for j in range(i):\n",
    "        print(\"*\",end=' ')\n",
    "    print()\n",
    "for i in range(1,n+1):\n",
    "    for j in range(n-i):\n",
    "        print(\"*\",end=' ')\n",
    "    print()"
   ]
  },
  {
   "cell_type": "code",
   "execution_count": 1,
   "id": "df92b892-8d04-41eb-932c-09fa5b41cbab",
   "metadata": {},
   "outputs": [
    {
     "name": "stdout",
     "output_type": "stream",
     "text": [
      "1 \n",
      "2 3 \n",
      "4 5 6 \n",
      "7 8 9 10 \n",
      "11 12 13 14 15 \n",
      "16 17 18 19 20 21 \n",
      "22 23 24 25 26 27 28 \n",
      "29 30 31 32 33 34 35 36 \n"
     ]
    }
   ],
   "source": [
    "r=8\n",
    "n=1\n",
    "for i in range(1,r+1):\n",
    "    for j in range(i):\n",
    "        print(n,end=' ')\n",
    "        n+=1\n",
    "    print()"
   ]
  },
  {
   "cell_type": "code",
   "execution_count": 3,
   "id": "84f9cd2f-c190-4de9-bf0e-7c5669ecfe79",
   "metadata": {},
   "outputs": [
    {
     "name": "stdout",
     "output_type": "stream",
     "text": [
      "     * \n",
      "    * * \n",
      "   * * * \n",
      "  * * * * \n",
      " * * * * * \n"
     ]
    }
   ],
   "source": [
    "n=5\n",
    "for i in range(1,n+1):\n",
    "    print(' '*(n-i),end=' ')\n",
    "    for j in range(i):\n",
    "        print('*',end=' ')\n",
    "    print()"
   ]
  },
  {
   "cell_type": "code",
   "execution_count": 5,
   "id": "8d02fa1e-90b6-4915-a4e4-79068bfad0d9",
   "metadata": {},
   "outputs": [
    {
     "name": "stdout",
     "output_type": "stream",
     "text": [
      "    *\n",
      "   **\n",
      "  ***\n",
      " ****\n",
      "*****\n",
      " ****\n",
      "  ***\n",
      "   **\n",
      "    *\n"
     ]
    }
   ],
   "source": [
    "n=5\n",
    "for i in range(1,n+1):\n",
    "    print(' '*(n-i),end='')\n",
    "    for j in range(i):\n",
    "        print('*',end='')\n",
    "    print()\n",
    "for i in range(n-1,0,-1):\n",
    "    print(' '*(n-i),end='')\n",
    "    for j in range(i):\n",
    "        print('*',end='')\n",
    "    print()"
   ]
  },
  {
   "cell_type": "code",
   "execution_count": 11,
   "id": "f02e4bb4-6761-481f-b6c9-c08835d1de68",
   "metadata": {},
   "outputs": [
    {
     "name": "stdout",
     "output_type": "stream",
     "text": [
      "     * \n",
      "    * * \n",
      "   * * * \n",
      "  * * * * \n",
      " * * * * * \n",
      "  * * * * \n",
      "   * * * \n",
      "    * * \n",
      "     * \n"
     ]
    }
   ],
   "source": [
    "n=5\n",
    "for i in range(1,n+1):\n",
    "    print(' '*(n-i),end=' ')\n",
    "    for j in range(i):\n",
    "        print('*',end=' ')\n",
    "    print()\n",
    "for i in range(n-1,0,-1):\n",
    "    print(' '*(n-i),end=' ')\n",
    "    for j in range(i):\n",
    "        print('*',end=' ')\n",
    "    print()"
   ]
  },
  {
   "cell_type": "code",
   "execution_count": 15,
   "id": "d9f6cde8-3cfa-4649-bc99-f82d7a711d2e",
   "metadata": {},
   "outputs": [
    {
     "name": "stdout",
     "output_type": "stream",
     "text": [
      "      *  *  *  *  \n",
      "    *  *  *  *  \n",
      "  *  *  *  *  \n",
      "*  *  *  *  \n"
     ]
    }
   ],
   "source": [
    "r=4\n",
    "for i in range(r):\n",
    "    for j in range(r-i-1):\n",
    "        print(' ',end=' ')\n",
    "    for j in range(r):\n",
    "        print('* ',end=' ')\n",
    "    print()"
   ]
  },
  {
   "cell_type": "code",
   "execution_count": 17,
   "id": "db5bdd06-f1e8-4af1-bea5-694627ccf341",
   "metadata": {},
   "outputs": [
    {
     "name": "stdout",
     "output_type": "stream",
     "text": [
      "*     *\n",
      " *   * \n",
      "  * *  \n",
      "   *   \n",
      "  * *  \n",
      " *   * \n",
      "*     *\n"
     ]
    }
   ],
   "source": [
    "def print_centered_diagonal_rhombus(n):\n",
    "    if n % 2 == 0:\n",
    "        print(\"Please enter an odd number for symmetry.\")\n",
    "        return\n",
    "\n",
    "    mid = n // 2\n",
    "    for i in range(n):\n",
    "        for j in range(n):\n",
    "            if j == mid - abs(mid - i) or j == mid + abs(mid - i):\n",
    "                print(\"*\", end=\"\")\n",
    "            else:\n",
    "                print(\" \", end=\"\")\n",
    "        print()\n",
    "\n",
    "# Example usage:\n",
    "print_centered_diagonal_rhombus(7)\n"
   ]
  },
  {
   "cell_type": "code",
   "execution_count": null,
   "id": "60812a71-d72c-4974-87f1-c8e6384de3e9",
   "metadata": {},
   "outputs": [],
   "source": []
  }
 ],
 "metadata": {
  "kernelspec": {
   "display_name": "Python 3 (ipykernel)",
   "language": "python",
   "name": "python3"
  },
  "language_info": {
   "codemirror_mode": {
    "name": "ipython",
    "version": 3
   },
   "file_extension": ".py",
   "mimetype": "text/x-python",
   "name": "python",
   "nbconvert_exporter": "python",
   "pygments_lexer": "ipython3",
   "version": "3.12.7"
  }
 },
 "nbformat": 4,
 "nbformat_minor": 5
}
