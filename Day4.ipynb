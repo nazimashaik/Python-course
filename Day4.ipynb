{
 "cells": [
  {
   "cell_type": "code",
   "execution_count": 7,
   "id": "e4a1589f-1349-425a-94f0-01d259108c50",
   "metadata": {},
   "outputs": [
    {
     "name": "stdin",
     "output_type": "stream",
     "text": [
      "enter the age of person: 43\n"
     ]
    },
    {
     "name": "stdout",
     "output_type": "stream",
     "text": [
      "eligible to vote\n"
     ]
    }
   ],
   "source": [
    "#code for if condition to check,whether the person is eligible to vote or not \n",
    "age=int(input(\"enter the age of person:\"))\n",
    "if age>=18:\n",
    "    print('eligible to vote')\n",
    "else:\n",
    "    print('not eligible')"
   ]
  },
  {
   "cell_type": "code",
   "execution_count": 13,
   "id": "6db25033-f810-415e-bba2-a48543c2fdec",
   "metadata": {},
   "outputs": [
    {
     "name": "stdin",
     "output_type": "stream",
     "text": [
      "enter any key:  \n"
     ]
    },
    {
     "name": "stdout",
     "output_type": "stream",
     "text": [
      "  is a space\n"
     ]
    }
   ],
   "source": [
    "#code for determining the character entered by the user check digit ,alphabet,space\n",
    "char=input(\"enter any key:\")\n",
    "if char.isalpha():\n",
    "    print(char,'is a character')\n",
    "if char.isdigit():\n",
    "    print(char,'is a digit')\n",
    "if char.isspace():\n",
    "    print(char,'is a space')"
   ]
  },
  {
   "cell_type": "code",
   "execution_count": 31,
   "id": "bbad3945-4321-42df-b46f-118801368777",
   "metadata": {},
   "outputs": [
    {
     "name": "stdin",
     "output_type": "stream",
     "text": [
      "enter a number: 9\n"
     ]
    },
    {
     "name": "stdout",
     "output_type": "stream",
     "text": [
      "9 is a positive\n"
     ]
    }
   ],
   "source": [
    "#code to check the number is positive or not\n",
    "num=int(input('enter a number:'))\n",
    "if num>0:\n",
    "    print(num,'is a positive')\n",
    "if num<0:\n",
    "    print(num,'is a negitive')\n",
    "if num==0:\n",
    "    print(num,'is a zero')"
   ]
  },
  {
   "cell_type": "code",
   "execution_count": 35,
   "id": "d5272185-d99f-4d47-bf36-ba10508de956",
   "metadata": {},
   "outputs": [
    {
     "name": "stdin",
     "output_type": "stream",
     "text": [
      "enter the age of person: 8\n"
     ]
    },
    {
     "name": "stdout",
     "output_type": "stream",
     "text": [
      "the person is underage\n"
     ]
    }
   ],
   "source": [
    "age=int(input(\"enter the age of person:\"))\n",
    "if age>=18:\n",
    "    print('eligible to vote')\n",
    "else:\n",
    "    print('the person is underage')"
   ]
  },
  {
   "cell_type": "code",
   "execution_count": 39,
   "id": "5b86d5d1-ac71-4a2e-9f41-52acb29c72f8",
   "metadata": {},
   "outputs": [
    {
     "name": "stdin",
     "output_type": "stream",
     "text": [
      "enter a number: 8\n"
     ]
    },
    {
     "name": "stdout",
     "output_type": "stream",
     "text": [
      "8 is even\n"
     ]
    }
   ],
   "source": [
    "num=int(input('enter a number:'))\n",
    "if num%2==0:\n",
    "    print(num,'is even')\n",
    "else:\n",
    "    print(num,'is odd')"
   ]
  },
  {
   "cell_type": "code",
   "execution_count": 53,
   "id": "52a56378-292d-4686-87b3-3bba6bcceeec",
   "metadata": {},
   "outputs": [
    {
     "name": "stdin",
     "output_type": "stream",
     "text": [
      "enter a character: ngP\n"
     ]
    },
    {
     "name": "stdout",
     "output_type": "stream",
     "text": [
      "the character was in lowercase....uppercase NGP\n"
     ]
    }
   ],
   "source": [
    "#program to enter any character if the entered char in lower case then convert the charater into upper and viceversa\n",
    "char=input('enter a character:')\n",
    "if char>='A' and char<='Z':\n",
    "    char=char.lower()\n",
    "    print('the character was in uppercase....lowercasey ' +char)\n",
    "else:\n",
    "    char=char.upper()\n",
    "    print('the character was in lowercase....uppercase ' +char)"
   ]
  },
  {
   "cell_type": "code",
   "execution_count": 55,
   "id": "bfbf70fc-3e33-40ec-974b-eb376af7907f",
   "metadata": {},
   "outputs": [
    {
     "name": "stdout",
     "output_type": "stream",
     "text": [
      "Original: H | Lowercase: h | Uppercase: H\n",
      "Original: e | Lowercase: e | Uppercase: E\n",
      "Original: l | Lowercase: l | Uppercase: L\n",
      "Original: l | Lowercase: l | Uppercase: L\n",
      "Original: o | Lowercase: o | Uppercase: O\n",
      "Original: W | Lowercase: w | Uppercase: W\n",
      "Original: o | Lowercase: o | Uppercase: O\n",
      "Original: r | Lowercase: r | Uppercase: R\n",
      "Original: l | Lowercase: l | Uppercase: L\n",
      "Original: d | Lowercase: d | Uppercase: D\n"
     ]
    }
   ],
   "source": [
    "def convert_case(word):\n",
    "    for char in word:\n",
    "        lower = char.lower()\n",
    "        upper = char.upper()\n",
    "        print(f\"Original: {char} | Lowercase: {lower} | Uppercase: {upper}\")\n",
    "\n",
    "# Example usage\n",
    "word = \"HelloWorld\"\n",
    "convert_case(word)"
   ]
  },
  {
   "cell_type": "code",
   "execution_count": 57,
   "id": "a345841a-6f96-4fe8-ba33-16bbf260bbcc",
   "metadata": {},
   "outputs": [
    {
     "name": "stdout",
     "output_type": "stream",
     "text": [
      "Lowercase: helloworld\n",
      "Uppercase: HELLOWORLD\n"
     ]
    }
   ],
   "source": [
    "def convert_word_case(word):\n",
    "    lowercase_word = \"\"\n",
    "    uppercase_word = \"\"\n",
    "    \n",
    "    for char in word:\n",
    "        lowercase_word += char.lower()\n",
    "        uppercase_word += char.upper()\n",
    "    \n",
    "    return lowercase_word, uppercase_word\n",
    "\n",
    "# Example usage\n",
    "word = \"HelloWorld\"\n",
    "lower, upper = convert_word_case(word)\n",
    "print(\"Lowercase:\", lower)\n",
    "print(\"Uppercase:\", upper)\n"
   ]
  },
  {
   "cell_type": "code",
   "execution_count": 59,
   "id": "8b93e43a-14d0-4844-9234-a2c341448f90",
   "metadata": {},
   "outputs": [
    {
     "name": "stdout",
     "output_type": "stream",
     "text": [
      "2024 is a leap year.\n"
     ]
    }
   ],
   "source": [
    "def is_leap_year(year):\n",
    "    if (year % 4 == 0 and year % 100 != 0) or (year % 400 == 0):\n",
    "        return True\n",
    "    else:\n",
    "        return False\n",
    "\n",
    "# Example usage\n",
    "year = 2024\n",
    "if is_leap_year(year):\n",
    "    print(f\"{year} is a leap year.\")\n",
    "else:\n",
    "    print(f\"{year} is not a leap year.\")"
   ]
  },
  {
   "cell_type": "code",
   "execution_count": 63,
   "id": "34254a8d-2ecb-482a-ad64-78055cbda7c2",
   "metadata": {},
   "outputs": [
    {
     "name": "stdin",
     "output_type": "stream",
     "text": [
      "Enter a year:  2022\n"
     ]
    },
    {
     "name": "stdout",
     "output_type": "stream",
     "text": [
      "2022 is not a leap year.\n"
     ]
    }
   ],
   "source": [
    "# Input year\n",
    "year = int(input(\"Enter a year: \"))\n",
    "\n",
    "# Check if the year is a leap year\n",
    "if (year % 4 == 0 and year % 100 != 0) or (year % 400 == 0):\n",
    "    print(f\"{year} is a leap year.\")\n",
    "else:\n",
    "    print(f\"{year} is not a leap year.\")\n"
   ]
  },
  {
   "cell_type": "code",
   "execution_count": 65,
   "id": "781d760b-fbe1-4554-98bd-8897ed1b7702",
   "metadata": {},
   "outputs": [
    {
     "name": "stdout",
     "output_type": "stream",
     "text": [
      "29 is a prime number.\n"
     ]
    }
   ],
   "source": [
    "def is_prime(n):\n",
    "    if n <= 1:\n",
    "        return False\n",
    "    if n == 2:\n",
    "        return True\n",
    "    if n % 2 == 0:\n",
    "        return False\n",
    "    for i in range(3, int(n**0.5) + 1, 2):\n",
    "        if n % i == 0:\n",
    "            return False\n",
    "    return True\n",
    "\n",
    "# Example usage\n",
    "num = 29\n",
    "if is_prime(num):\n",
    "    print(f\"{num} is a prime number.\")\n",
    "else:\n",
    "    print(f\"{num} is not a prime number.\")"
   ]
  },
  {
   "cell_type": "code",
   "execution_count": 67,
   "id": "3dda6269-2db2-4336-bf0d-6f4983099983",
   "metadata": {},
   "outputs": [
    {
     "name": "stdin",
     "output_type": "stream",
     "text": [
      "Enter a number:  9\n"
     ]
    },
    {
     "name": "stdout",
     "output_type": "stream",
     "text": [
      "9 is not a prime number.\n"
     ]
    }
   ],
   "source": [
    "# Input number\n",
    "num = int(input(\"Enter a number: \"))\n",
    "\n",
    "# Check if the number is less than or equal to 1\n",
    "if num <= 1:\n",
    "    print(f\"{num} is not a prime number.\")\n",
    "else:\n",
    "    # Check for divisibility from 2 to sqrt(num)\n",
    "    is_prime = True\n",
    "    for i in range(2, int(num ** 0.5) + 1):\n",
    "        if num % i == 0:\n",
    "            is_prime = False\n",
    "            break\n",
    "    \n",
    "    if is_prime:\n",
    "        print(f\"{num} is a prime number.\")\n",
    "    else:\n",
    "        print(f\"{num} is not a prime number.\")"
   ]
  },
  {
   "cell_type": "code",
   "execution_count": 77,
   "id": "88d6c74d-c44c-447e-9f89-802b785894f0",
   "metadata": {},
   "outputs": [
    {
     "name": "stdin",
     "output_type": "stream",
     "text": [
      "Enter the number: 12\n"
     ]
    },
    {
     "name": "stdout",
     "output_type": "stream",
     "text": [
      "12 is in 11-20 range\n"
     ]
    }
   ],
   "source": [
    "#code for checking the interval of a given number\n",
    "num=int(input('Enter the number:'))\n",
    "if num>=0 and num<=10:\n",
    "    print(num,'is in 0-10 range')\n",
    "elif num>=11 and num<=20:\n",
    "    print(num,'is in 11-20 range')\n",
    "elif num>=21 and num<=30:\n",
    "    print(num,'is in 21-30 range')\n",
    "else:\n",
    "    print('out of range')"
   ]
  },
  {
   "cell_type": "code",
   "execution_count": 83,
   "id": "c59dffff-3078-489d-a06c-182e5bfb14e8",
   "metadata": {},
   "outputs": [
    {
     "name": "stdin",
     "output_type": "stream",
     "text": [
      "enter a number: 0\n"
     ]
    },
    {
     "name": "stdout",
     "output_type": "stream",
     "text": [
      "0 is zero\n"
     ]
    }
   ],
   "source": [
    "num=int(input('enter a number:'))\n",
    "if num>0:\n",
    "    print(num,'is positive')\n",
    "elif num<0:\n",
    "    print(num,'is negitive')\n",
    "else:\n",
    "    print(num,'is zero')"
   ]
  },
  {
   "cell_type": "code",
   "execution_count": 85,
   "id": "fef4ca32-b747-4ba3-a0f5-b2de2e0bc217",
   "metadata": {},
   "outputs": [
    {
     "name": "stdin",
     "output_type": "stream",
     "text": [
      "enter the value of n 10\n"
     ]
    },
    {
     "name": "stdout",
     "output_type": "stream",
     "text": [
      "0 1 2 3 4 5 6 7 8 9 10 "
     ]
    }
   ],
   "source": [
    "#printing the whole numbers till n\n",
    "n=int(input('enter the value of n'))\n",
    "loop=0\n",
    "while loop<=n:\n",
    "    print(loop,end=' ')\n",
    "    loop+=1"
   ]
  },
  {
   "cell_type": "code",
   "execution_count": 87,
   "id": "89e475d0-e4cf-4865-9e3b-bcf530c19b24",
   "metadata": {},
   "outputs": [
    {
     "name": "stdin",
     "output_type": "stream",
     "text": [
      "enter the value of n 7\n"
     ]
    },
    {
     "name": "stdout",
     "output_type": "stream",
     "text": [
      "0\n",
      "1\n",
      "2\n",
      "3\n",
      "4\n",
      "5\n",
      "6\n",
      "7\n"
     ]
    }
   ],
   "source": [
    "n=int(input('enter the value of n'))\n",
    "loop=0\n",
    "while loop<=n:\n",
    "    print(loop)\n",
    "    loop+=1"
   ]
  },
  {
   "cell_type": "code",
   "execution_count": 91,
   "id": "d75a4bb8-137b-4000-aca9-6e4b6b24285a",
   "metadata": {},
   "outputs": [
    {
     "name": "stdin",
     "output_type": "stream",
     "text": [
      "enter the value of n: 8\n"
     ]
    },
    {
     "name": "stdout",
     "output_type": "stream",
     "text": [
      "8 7 6 5 4 3 2 1 0 "
     ]
    }
   ],
   "source": [
    "#reverse loop\n",
    "num=int(input('enter the value of n:'))\n",
    "while num>=0:\n",
    "    print(num,end=' ')\n",
    "    num-=1"
   ]
  },
  {
   "cell_type": "code",
   "execution_count": 93,
   "id": "3fc2be0b-d8dc-4a82-8e76-db8feb606a4e",
   "metadata": {},
   "outputs": [
    {
     "name": "stdin",
     "output_type": "stream",
     "text": [
      "enter the value of n 8\n"
     ]
    },
    {
     "name": "stdout",
     "output_type": "stream",
     "text": [
      "0 2 4 6 8 "
     ]
    }
   ],
   "source": [
    "#print all the even numbers untill n\n",
    "n=int(input('enter the value of n'))\n",
    "i=0\n",
    "while i<=n:\n",
    "    if i%2==0:\n",
    "        print(i,end=' ')\n",
    "    i+=1"
   ]
  },
  {
   "cell_type": "code",
   "execution_count": 95,
   "id": "68ee2adf-d836-4633-9a8c-9aeaa069b82a",
   "metadata": {},
   "outputs": [
    {
     "name": "stdin",
     "output_type": "stream",
     "text": [
      "enter the value of n 5\n"
     ]
    },
    {
     "name": "stdout",
     "output_type": "stream",
     "text": [
      "1 3 5 "
     ]
    }
   ],
   "source": [
    "n=int(input('enter the value of n'))\n",
    "i=0\n",
    "while i<=n:\n",
    "    if i%2==1:\n",
    "        print(i,end=' ')\n",
    "    i+=1"
   ]
  },
  {
   "cell_type": "code",
   "execution_count": 97,
   "id": "dd3cbc6f-fba6-4004-b264-3f9f1be96924",
   "metadata": {},
   "outputs": [
    {
     "name": "stdin",
     "output_type": "stream",
     "text": [
      "enter the value of n 6\n"
     ]
    },
    {
     "name": "stdout",
     "output_type": "stream",
     "text": [
      "1 3 5 "
     ]
    }
   ],
   "source": [
    "n=int(input('enter the value of n'))\n",
    "i=0\n",
    "while i<=n:\n",
    "    if i%2!=0:\n",
    "        print(i,end=' ')\n",
    "    i+=1"
   ]
  },
  {
   "cell_type": "code",
   "execution_count": 99,
   "id": "a1917376-5688-459f-b4f7-be7859f0d059",
   "metadata": {},
   "outputs": [
    {
     "name": "stdin",
     "output_type": "stream",
     "text": [
      "enter the value of n 8\n"
     ]
    },
    {
     "name": "stdout",
     "output_type": "stream",
     "text": [
      "0 2 4 6 8 "
     ]
    }
   ],
   "source": [
    "n=int(input('enter the value of n'))\n",
    "i=0\n",
    "while i<=n:\n",
    "    if i%2!=1:\n",
    "        print(i,end=' ')\n",
    "    i+=1"
   ]
  },
  {
   "cell_type": "code",
   "execution_count": 113,
   "id": "eba3ca91-565e-47ab-8061-b7542e0ae38c",
   "metadata": {},
   "outputs": [
    {
     "name": "stdout",
     "output_type": "stream",
     "text": [
      "enter -1 to exit!!!\n"
     ]
    },
    {
     "name": "stdin",
     "output_type": "stream",
     "text": [
      "enter any number: 9\n",
      "enter any number: 0\n",
      "enter any number: -98\n",
      "enter any number: -1\n"
     ]
    },
    {
     "name": "stdout",
     "output_type": "stream",
     "text": [
      "count of positives numbers: 1\n",
      "count of negitives numbers: 1\n",
      "count of zeroes: 1\n"
     ]
    }
   ],
   "source": [
    "'''program to read the number untill -1 is encountered also count negitives positives zero entered by the user'''\n",
    "n=p=z=0\n",
    "print('enter -1 to exit!!!')\n",
    "while(-1):\n",
    "    num=int(input(\"enter any number:\"))\n",
    "    if num==-1:\n",
    "        break\n",
    "    if num==0:\n",
    "        z+=1\n",
    "    elif num>0:\n",
    "        p+=1\n",
    "    elif num<0:\n",
    "        n+=1\n",
    "    else:\n",
    "        n+=1\n",
    "print('count of positives numbers:',p)\n",
    "print('count of negitives numbers:',n)\n",
    "print('count of zeroes:',z)"
   ]
  },
  {
   "cell_type": "code",
   "execution_count": 121,
   "id": "5b77b9b1-a9d5-419c-b63d-378ef51a92ee",
   "metadata": {},
   "outputs": [
    {
     "name": "stdin",
     "output_type": "stream",
     "text": [
      "enter binary value: 1101\n"
     ]
    },
    {
     "name": "stdout",
     "output_type": "stream",
     "text": [
      "13\n"
     ]
    }
   ],
   "source": [
    "'''write a program to convert binary to decimal number by using while loop\n",
    "input=1101\n",
    "output=13'''\n",
    "bnum=int(input('enter binary value:'))\n",
    "dnum=i=0\n",
    "while bnum!=0: #bnum>0\n",
    "    r=bnum%10\n",
    "    dnum=dnum+r*(2**i)\n",
    "    bnum//=10\n",
    "    i+=1\n",
    "print(dnum)"
   ]
  },
  {
   "cell_type": "code",
   "execution_count": null,
   "id": "14db8016-26b6-498d-a0fe-3c39d4b1028d",
   "metadata": {},
   "outputs": [],
   "source": []
  }
 ],
 "metadata": {
  "kernelspec": {
   "display_name": "Python 3 (ipykernel)",
   "language": "python",
   "name": "python3"
  },
  "language_info": {
   "codemirror_mode": {
    "name": "ipython",
    "version": 3
   },
   "file_extension": ".py",
   "mimetype": "text/x-python",
   "name": "python",
   "nbconvert_exporter": "python",
   "pygments_lexer": "ipython3",
   "version": "3.12.7"
  }
 },
 "nbformat": 4,
 "nbformat_minor": 5
}
