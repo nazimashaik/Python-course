{
 "cells": [
  {
   "cell_type": "code",
   "execution_count": 1,
   "id": "2172cefe-22d2-4621-8558-cd7b1384c069",
   "metadata": {},
   "outputs": [
    {
     "name": "stdout",
     "output_type": "stream",
     "text": [
      "10\n",
      "100\n"
     ]
    }
   ],
   "source": [
    "#scope and global variables\n",
    "num=10\n",
    "print(num)\n",
    "def modify():\n",
    "    global num\n",
    "    num=100\n",
    "modify()\n",
    "print(num)"
   ]
  },
  {
   "cell_type": "code",
   "execution_count": 3,
   "id": "5f1c5e0c-ac3b-4409-83e6-3d51202d4fb2",
   "metadata": {},
   "outputs": [
    {
     "name": "stdout",
     "output_type": "stream",
     "text": [
      "initial state: False\n",
      "state after 1st toggle:True\n",
      "state after 2nd toggle:False\n"
     ]
    }
   ],
   "source": [
    "# toggle state function\n",
    "# toggling a global flag\n",
    "is_active = False\n",
    "def toggle_state():\n",
    "    global is_active\n",
    "    is_active =not is_active\n",
    "    return is_active\n",
    "print(f\"initial state: {is_active}\")\n",
    "toggle_state()\n",
    "print(f\"state after 1st toggle:{is_active}\")\n",
    "toggle_state()\n",
    "print(f\"state after 2nd toggle:{is_active}\")"
   ]
  },
  {
   "cell_type": "code",
   "execution_count": 5,
   "id": "40be5d5b-ead2-4287-88a5-79f676814bdd",
   "metadata": {},
   "outputs": [
    {
     "name": "stdin",
     "output_type": "stream",
     "text": [
      "Enter a: 2\n",
      "Enter b: 3\n"
     ]
    },
    {
     "name": "stdout",
     "output_type": "stream",
     "text": [
      "5\n"
     ]
    }
   ],
   "source": [
    "# annotations\n",
    "def add(a:int,b:int)->int:\n",
    "    return a+b\n",
    "a=int(input(\"Enter a:\"))\n",
    "b=int(input(\"Enter b:\"))\n",
    "print(add(a,b))"
   ]
  },
  {
   "cell_type": "code",
   "execution_count": 7,
   "id": "3696736c-afcd-42ca-adbd-5a065d76f697",
   "metadata": {},
   "outputs": [
    {
     "name": "stdin",
     "output_type": "stream",
     "text": [
      "Enter a: 2\n",
      "Enter b: 4\n"
     ]
    },
    {
     "name": "stdout",
     "output_type": "stream",
     "text": [
      "8\n"
     ]
    },
    {
     "name": "stdin",
     "output_type": "stream",
     "text": [
      "Enter x: 7\n",
      "Enter y: 3\n"
     ]
    },
    {
     "name": "stdout",
     "output_type": "stream",
     "text": [
      "21\n"
     ]
    }
   ],
   "source": [
    " '''write a program to find the area  of rectangle of 2 values ,which was associated with a single anotation and return the values accodingly \n",
    "a=4 , b=5 , x=2 , y=4 '''\n",
    "\n",
    "def rect(a:int,b:int)-> int:\n",
    "    return a*b\n",
    "a=int(input(\"Enter a:\"))\n",
    "b=int(input(\"Enter b:\"))\n",
    "print (rect(a,b))\n",
    "a=int(input(\"Enter x:\"))\n",
    "b=int(input(\"Enter y:\"))\n",
    "print (rect(a,b))"
   ]
  },
  {
   "cell_type": "code",
   "execution_count": 9,
   "id": "eb352067-1122-46f3-8b0c-70dd5e0f7755",
   "metadata": {},
   "outputs": [
    {
     "name": "stdout",
     "output_type": "stream",
     "text": [
      "vijay Mark steve\n",
      "299-cse-eee\n"
     ]
    }
   ],
   "source": [
    "from typing import List,Optional\n",
    "def names(n:List[str],separator:Optional[str]=' ')->str:\n",
    "    return separator.join(n)\n",
    "print(names(['vijay','Mark','steve']))\n",
    "print(names(['299','cse','eee'],separator='-'))"
   ]
  },
  {
   "cell_type": "code",
   "execution_count": 11,
   "id": "7e0fd3bb-d6f7-42d4-a05c-43a412ac7cc7",
   "metadata": {},
   "outputs": [
    {
     "name": "stdin",
     "output_type": "stream",
     "text": [
      "enter numbers separated by space: 3 4 5\n"
     ]
    },
    {
     "name": "stdout",
     "output_type": "stream",
     "text": [
      "sum:12.0\n"
     ]
    }
   ],
   "source": [
    "'''tuple arg keyword functions program to find the sum of n user input values by tuple args syntax:def udn(*args)'''\n",
    "\n",
    "def sumnum(*args):\n",
    "    return sum(args)\n",
    "nums=input(\"enter numbers separated by space:\")\n",
    "numbers=[float(x)for x in nums.split()]\n",
    "result=sumnum(*numbers)\n",
    "print(f\"sum:{result}\")"
   ]
  },
  {
   "cell_type": "code",
   "execution_count": 13,
   "id": "a3541105-b3a8-4c54-afd4-3beef98ee761",
   "metadata": {},
   "outputs": [
    {
     "name": "stdin",
     "output_type": "stream",
     "text": [
      "enter numbers separated by space: 4 5 3\n"
     ]
    },
    {
     "name": "stdout",
     "output_type": "stream",
     "text": [
      "sorted:[3, 4, 5]\n",
      "descending: [5, 4, 3]\n"
     ]
    }
   ],
   "source": [
    "def sortnum(*args):\n",
    "    return sorted(args)\n",
    "nums=input(\"enter numbers separated by space:\")\n",
    "numbers=[int(x)for x in nums.split()]\n",
    "result=sortnum(*numbers)\n",
    "print(f\"sorted:{result}\")\n",
    "x=result[::-1]\n",
    "print (\"descending:\",x)"
   ]
  },
  {
   "cell_type": "code",
   "execution_count": 15,
   "id": "dbc6e15c-8f15-42af-b139-6e19fdfd22cd",
   "metadata": {},
   "outputs": [
    {
     "name": "stdout",
     "output_type": "stream",
     "text": [
      "name:klaus\n",
      "age:400\n"
     ]
    }
   ],
   "source": [
    "'''keyword args \n",
    "* - numbers\n",
    "**args -> string with value using a dictionary key - value pair'''\n",
    "def info(**kwargs):\n",
    "    for key, value in kwargs.items():\n",
    "        print(f\"{key}:{value}\")\n",
    "info(name='klaus',age=400)"
   ]
  },
  {
   "cell_type": "code",
   "execution_count": 17,
   "id": "78c106ea-f6d5-41fc-9929-2ac01d418e9c",
   "metadata": {},
   "outputs": [
    {
     "name": "stdout",
     "output_type": "stream",
     "text": [
      "Vampire Dairies\n",
      "name=>Klaus\n",
      "age=>400\n",
      "city=>Mystic Fall\n",
      "language=>English\n"
     ]
    }
   ],
   "source": [
    "def info(hi,**kwargs):\n",
    "    print(hi)\n",
    "    for key, value in kwargs.items():\n",
    "        print(f\"{key}=>{value}\")\n",
    "info(\"Vampire Dairies\",name='Klaus',age=400,city='Mystic Fall',language='English')"
   ]
  },
  {
   "cell_type": "code",
   "execution_count": null,
   "id": "32bb8f01-824e-42f2-ba84-7fe39d331ca5",
   "metadata": {},
   "outputs": [],
   "source": []
  }
 ],
 "metadata": {
  "kernelspec": {
   "display_name": "Python 3 (ipykernel)",
   "language": "python",
   "name": "python3"
  },
  "language_info": {
   "codemirror_mode": {
    "name": "ipython",
    "version": 3
   },
   "file_extension": ".py",
   "mimetype": "text/x-python",
   "name": "python",
   "nbconvert_exporter": "python",
   "pygments_lexer": "ipython3",
   "version": "3.12.7"
  }
 },
 "nbformat": 4,
 "nbformat_minor": 5
}
