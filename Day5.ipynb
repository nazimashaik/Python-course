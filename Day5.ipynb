{
 "cells": [
  {
   "cell_type": "code",
   "execution_count": 1,
   "id": "971f9c47-59f4-4032-a4e8-00b00f9d20aa",
   "metadata": {},
   "outputs": [
    {
     "name": "stdin",
     "output_type": "stream",
     "text": [
      "enter any character: d\n",
      "enter any character: L\n",
      "enter any character: D\n",
      "enter any character: 2\n",
      "enter any character: 4\n",
      "enter any character: d\n",
      "enter any character: +\n",
      "enter any character: ^\n",
      "enter any character: #\n",
      "enter any character: @\n",
      "enter any character: *\n"
     ]
    },
    {
     "name": "stdout",
     "output_type": "stream",
     "text": [
      "lowercase char: 2\n",
      "uppercase char: 2\n",
      "numbercase char: 2\n"
     ]
    }
   ],
   "source": [
    "'''write a program to read a character untill * is entered . count the number of uppercase,lowercase, and numbers entered by the user'''\n",
    "ch=input('enter any character:')\n",
    "n=u=l=0\n",
    "if ch>='0' and ch<='9':\n",
    "    n+=1\n",
    "elif ch>='a' and ch<='z':\n",
    "    l+=1\n",
    "elif ch>='A' and ch<='Z':\n",
    "    u+=1\n",
    "while ch!='*':\n",
    "    ch=input(\"enter any character:\")\n",
    "    if ch>='0' and ch<='9':\n",
    "        n+=1\n",
    "    elif ch>='a' and ch<='z':\n",
    "        l+=1\n",
    "    elif ch>='A' and ch<='Z':\n",
    "        u+=1\n",
    "print(\"lowercase char:\",l)\n",
    "print(\"uppercase char:\",u)\n",
    "print(\"numbercase char:\",n)"
   ]
  },
  {
   "cell_type": "code",
   "execution_count": 3,
   "id": "97dd7709-57ad-48fb-85da-38517aba2e21",
   "metadata": {},
   "outputs": [
    {
     "name": "stdout",
     "output_type": "stream",
     "text": [
      "c h e e t a h "
     ]
    }
   ],
   "source": [
    "#simple for loop string\n",
    "str='cheetah'\n",
    "for i in str:\n",
    "    print(i,end=' ')"
   ]
  },
  {
   "cell_type": "code",
   "execution_count": 5,
   "id": "46a86847-e827-4dcd-9658-5a12f5c47b52",
   "metadata": {},
   "outputs": [
    {
     "name": "stdout",
     "output_type": "stream",
     "text": [
      "jin\n",
      "jimin\n",
      "rm\n"
     ]
    }
   ],
   "source": [
    "#list of strings\n",
    "s=['jin','jimin','rm']\n",
    "for bts in s:\n",
    "    print(bts)"
   ]
  },
  {
   "cell_type": "code",
   "execution_count": 7,
   "id": "54507f42-6259-4764-9159-6996fdf388fa",
   "metadata": {},
   "outputs": [
    {
     "name": "stdout",
     "output_type": "stream",
     "text": [
      "0 1 2 3 4 5 6 7 8 9 "
     ]
    }
   ],
   "source": [
    "#for loop within range\n",
    "for i in range(10):\n",
    "    print(i,end=' ')"
   ]
  },
  {
   "cell_type": "code",
   "execution_count": 9,
   "id": "7518ceec-03d4-49cf-94ae-a366f939a880",
   "metadata": {},
   "outputs": [
    {
     "name": "stdin",
     "output_type": "stream",
     "text": [
      "enter a number 32\n"
     ]
    },
    {
     "name": "stdout",
     "output_type": "stream",
     "text": [
      "0 1 2 3 4 5 6 7 8 9 10 11 12 13 14 15 16 17 18 19 20 21 22 23 24 25 26 27 28 29 30 31 "
     ]
    }
   ],
   "source": [
    "n=int(input(\"enter a number\"))\n",
    "for i in range(n):\n",
    "    print(i,end=' ')"
   ]
  },
  {
   "cell_type": "code",
   "execution_count": 11,
   "id": "060db2a6-8714-4339-a6af-f66117009c87",
   "metadata": {},
   "outputs": [
    {
     "name": "stdin",
     "output_type": "stream",
     "text": [
      "enter a number 20\n"
     ]
    },
    {
     "name": "stdout",
     "output_type": "stream",
     "text": [
      "2 4 6 8 10 12 14 16 18 "
     ]
    }
   ],
   "source": [
    "n=int(input(\"enter a number\"))\n",
    "for i in range(2,n,2):\n",
    "    print(i,end=' ')"
   ]
  },
  {
   "cell_type": "code",
   "execution_count": 17,
   "id": "e43c6bbe-5e9d-4710-8ef4-2108775ad6bd",
   "metadata": {},
   "outputs": [
    {
     "name": "stdin",
     "output_type": "stream",
     "text": [
      "enter a number 34\n"
     ]
    },
    {
     "name": "stdout",
     "output_type": "stream",
     "text": [
      "34 33 32 31 30 29 28 27 26 25 24 23 22 21 20 19 18 17 16 15 14 13 12 11 10 9 8 7 6 5 4 3 2 1 "
     ]
    }
   ],
   "source": [
    "n=int(input(\"enter a number\"))\n",
    "for i in range(n,0,-1):\n",
    "    print(i,end=' ')"
   ]
  },
  {
   "cell_type": "code",
   "execution_count": 31,
   "id": "6ceea93b-9e2d-4aa4-ae34-b68fda49c9c5",
   "metadata": {},
   "outputs": [
    {
     "name": "stdin",
     "output_type": "stream",
     "text": [
      "enter a number for mul table: 2\n"
     ]
    },
    {
     "name": "stdout",
     "output_type": "stream",
     "text": [
      "multiplication table of  2\n",
      "************************\n",
      "2  X  1 =  2\n",
      "2  X  2 =  4\n",
      "2  X  3 =  6\n",
      "2  X  4 =  8\n",
      "2  X  5 =  10\n",
      "2  X  6 =  12\n",
      "2  X  7 =  14\n",
      "2  X  8 =  16\n",
      "2  X  9 =  18\n",
      "2  X  10 =  20\n"
     ]
    }
   ],
   "source": [
    "'''code for multiplication table of n where n is entered by the user\n",
    "input:\n",
    "enter any number:2\n",
    "output:\n",
    "multiplication table of 2\n",
    "***********\n",
    "2 X 0 = 0\n",
    ".\n",
    ".\n",
    "2 X 10 = 20'''\n",
    "n=int(input(\"enter a number for mul table:\"))\n",
    "#r=int(input(\"enter range of table:\"))\n",
    "print(\"multiplication table of \",n)\n",
    "print(\"************************\")\n",
    "for i in range(1,11):\n",
    "    print(n,' X ',i,'= ',n*i)"
   ]
  },
  {
   "cell_type": "code",
   "execution_count": 33,
   "id": "b3545d50-5d03-4e2e-9059-f25592cdf77a",
   "metadata": {},
   "outputs": [
    {
     "name": "stdin",
     "output_type": "stream",
     "text": [
      "Enter the number for the multiplication table:  2\n",
      "Enter the range (up to what number should the table go?):  10\n"
     ]
    },
    {
     "name": "stdout",
     "output_type": "stream",
     "text": [
      "2 x 1 = 2\n",
      "2 x 2 = 4\n",
      "2 x 3 = 6\n",
      "2 x 4 = 8\n",
      "2 x 5 = 10\n",
      "2 x 6 = 12\n",
      "2 x 7 = 14\n",
      "2 x 8 = 16\n",
      "2 x 9 = 18\n",
      "2 x 10 = 20\n"
     ]
    }
   ],
   "source": [
    "# Taking inputs from the user\n",
    "num = int(input(\"Enter the number for the multiplication table: \"))\n",
    "limit = int(input(\"Enter the range (up to what number should the table go?): \"))\n",
    "\n",
    "# Generating the multiplication table\n",
    "for i in range(1, limit + 1):  # Loop from 1 to the user-defined limit\n",
    "    print(f\"{num} x {i} = {num * i}\")\n"
   ]
  },
  {
   "cell_type": "code",
   "execution_count": 35,
   "id": "0cad9c3a-e2fa-411c-9443-f08f72e925a1",
   "metadata": {},
   "outputs": [
    {
     "name": "stdin",
     "output_type": "stream",
     "text": [
      "enter the starting year 1900\n",
      "enter the ending year 2100\n"
     ]
    },
    {
     "name": "stdout",
     "output_type": "stream",
     "text": [
      "1900 1904 1908 1912 1916 1920 1924 1928 1932 1936 1940 1944 1948 1952 1956 1960 1964 1968 1972 1976 1980 1984 1988 1992 1996 2000 2004 2008 2012 2016 2020 2024 2028 2032 2036 2040 2044 2048 2052 2056 2060 2064 2068 2072 2076 2080 2084 2088 2092 2096 2100 "
     ]
    }
   ],
   "source": [
    "#program to display all the loop years from 1900, 2101\n",
    "st=int(input(\"enter the starting year\"))\n",
    "ed=int(input(\"enter the ending year\"))\n",
    "for i in range(st,ed+1):\n",
    "    if i%4==0:\n",
    "        print(i,end=' ')"
   ]
  },
  {
   "cell_type": "code",
   "execution_count": 37,
   "id": "af48f537-102d-41b0-92fc-24b6d82afce1",
   "metadata": {},
   "outputs": [
    {
     "name": "stdin",
     "output_type": "stream",
     "text": [
      "Enter a year:  2000\n"
     ]
    },
    {
     "name": "stdout",
     "output_type": "stream",
     "text": [
      "2000 is a leap year.\n"
     ]
    }
   ],
   "source": [
    "# Function to check if a year is a leap year\n",
    "def is_leap_year(year):\n",
    "    if (year % 4 == 0 and year % 100 != 0) or (year % 400 == 0):\n",
    "        return True\n",
    "    else:\n",
    "        return False\n",
    "\n",
    "# Input from the user\n",
    "year = int(input(\"Enter a year: \"))\n",
    "\n",
    "# Check if the year is a leap year\n",
    "if is_leap_year(year):\n",
    "    print(f\"{year} is a leap year.\")\n",
    "else:\n",
    "    print(f\"{year} is not a leap year.\")\n"
   ]
  },
  {
   "cell_type": "code",
   "execution_count": 49,
   "id": "5ff19f07-e5a9-4403-927a-c88f8892cca9",
   "metadata": {},
   "outputs": [
    {
     "name": "stdin",
     "output_type": "stream",
     "text": [
      "enter the range: 5\n"
     ]
    },
    {
     "name": "stdout",
     "output_type": "stream",
     "text": [
      "1.4636111111111112\n"
     ]
    }
   ],
   "source": [
    "n=int(input(\"enter the range:\"))\n",
    "s=0\n",
    "for i in range(1,n+1):\n",
    "    a=1/(i**2)\n",
    "    s=s+a\n",
    "print(s)"
   ]
  },
  {
   "cell_type": "code",
   "execution_count": 51,
   "id": "0d9ad516-571f-480e-92e4-8fdd79014cfd",
   "metadata": {},
   "outputs": [
    {
     "name": "stdin",
     "output_type": "stream",
     "text": [
      "enter the range: 5\n"
     ]
    },
    {
     "name": "stdout",
     "output_type": "stream",
     "text": [
      "701.0\n"
     ]
    }
   ],
   "source": [
    "n=int(input(\"enter the range:\"))\n",
    "s=0\n",
    "for i in range(1,n+1):\n",
    "    a=(i**i)/i\n",
    "    s=s+a\n",
    "print(s)"
   ]
  },
  {
   "cell_type": "code",
   "execution_count": 65,
   "id": "661ddefb-cfdc-4c28-9c1d-3d224860f2ef",
   "metadata": {},
   "outputs": [
    {
     "name": "stdin",
     "output_type": "stream",
     "text": [
      "enter the starting day of the month(1-7): 5\n",
      "enter the number of days: 30\n"
     ]
    },
    {
     "name": "stdout",
     "output_type": "stream",
     "text": [
      "Sun Mon Tues Wed Thur Fri Sat\n",
      "------------------------------\n",
      "            "
     ]
    },
    {
     "ename": "TypeError",
     "evalue": "'str' object is not callable",
     "output_type": "error",
     "traceback": [
      "\u001b[1;31m---------------------------------------------------------------------------\u001b[0m",
      "\u001b[1;31mTypeError\u001b[0m                                 Traceback (most recent call last)",
      "Cell \u001b[1;32mIn[65], line 15\u001b[0m\n\u001b[0;32m     13\u001b[0m \u001b[38;5;28;01melse\u001b[39;00m:\n\u001b[0;32m     14\u001b[0m     i\u001b[38;5;241m+\u001b[39m\u001b[38;5;241m=\u001b[39m\u001b[38;5;241m1\u001b[39m\n\u001b[1;32m---> 15\u001b[0m \u001b[38;5;28mprint\u001b[39m(\u001b[38;5;28mstr\u001b[39m(j)\u001b[38;5;241m+\u001b[39m\u001b[38;5;124m'\u001b[39m\u001b[38;5;124m \u001b[39m\u001b[38;5;124m'\u001b[39m,end\u001b[38;5;241m=\u001b[39m\u001b[38;5;124m'\u001b[39m\u001b[38;5;124m \u001b[39m\u001b[38;5;124m'\u001b[39m)\n",
      "\u001b[1;31mTypeError\u001b[0m: 'str' object is not callable"
     ]
    }
   ],
   "source": [
    "'''generating a calender manually'''\n",
    "sday=int(input(\"enter the starting day of the month(1-7):\"))\n",
    "numdays=int(input(\"enter the number of days:\"))\n",
    "print(\"Sun Mon Tues Wed Thur Fri Sat\")\n",
    "print(\"------------------------------\")\n",
    "for i in range(sday-1):\n",
    "    print(end='   ')\n",
    "i=sday-1\n",
    "for j in range(1,numdays+1):\n",
    "    if i>6:\n",
    "        print()\n",
    "        i=1\n",
    "    else:\n",
    "        i+=1\n",
    "    print(str(j)+' ',end=' ')"
   ]
  },
  {
   "cell_type": "code",
   "execution_count": 67,
   "id": "b230fc09-7ed5-4b85-8965-5af04cd570ef",
   "metadata": {},
   "outputs": [
    {
     "name": "stdin",
     "output_type": "stream",
     "text": [
      "Enter the starting day of the month (1-7, where 1 is Sunday):  5\n",
      "Enter the number of days in the month:  30\n"
     ]
    },
    {
     "name": "stdout",
     "output_type": "stream",
     "text": [
      "Sun Mon Tues Wed Thur Fri Sat\n",
      "------------------------------\n",
      "                 1  2  3 \n",
      " 4  5  6  7  8  9 10 \n",
      "11 12 13 14 15 16 17 \n",
      "18 19 20 21 22 23 24 \n",
      "25 26 27 28 29 30 \n"
     ]
    }
   ],
   "source": [
    "sday = int(input(\"Enter the starting day of the month (1-7, where 1 is Sunday): \"))\n",
    "numdays = int(input(\"Enter the number of days in the month: \"))\n",
    "print(\"Sun Mon Tues Wed Thur Fri Sat\")\n",
    "print(\"------------------------------\")\n",
    "i = sday - 1\n",
    "for _ in range(i):\n",
    "    print(\"   \", end=\" \")\n",
    "for j in range(1, numdays + 1):\n",
    "    print(f\"{j:2}\", end=\" \")\n",
    "    if i == 6:\n",
    "        print() \n",
    "        i = 0 \n",
    "    else:\n",
    "        i += 1 \n",
    "print()\n"
   ]
  },
  {
   "cell_type": "code",
   "execution_count": 71,
   "id": "c29e3e03-629d-4c5b-b6ac-c13f3cf0e69c",
   "metadata": {},
   "outputs": [
    {
     "name": "stdout",
     "output_type": "stream",
     "text": [
      "Sun Mon Tue Wed Thu Fri Sat\n",
      "        1   2   3   4   5 \n",
      "  6   7   8   9  10  11  12 \n",
      " 13  14  15  16  17  18  19 \n",
      " 20  21  22  23  24  25  26 \n",
      " 27  28  29  30  31 "
     ]
    }
   ],
   "source": [
    "mdays=31\n",
    "sday=2\n",
    "print(\"Sun Mon Tue Wed Thu Fri Sat\")\n",
    "for _ in range(sday):\n",
    "    print(\"  \",end=\" \")\n",
    "for days in range(1,mdays+1):\n",
    "    print(f\"{days:>3}\",end=' ')\n",
    "    if(sday+days)%7==0:\n",
    "        print()"
   ]
  },
  {
   "cell_type": "code",
   "execution_count": null,
   "id": "9369b33b-8d86-4a25-97e8-bff1e0d0643f",
   "metadata": {},
   "outputs": [],
   "source": []
  }
 ],
 "metadata": {
  "kernelspec": {
   "display_name": "Python 3 (ipykernel)",
   "language": "python",
   "name": "python3"
  },
  "language_info": {
   "codemirror_mode": {
    "name": "ipython",
    "version": 3
   },
   "file_extension": ".py",
   "mimetype": "text/x-python",
   "name": "python",
   "nbconvert_exporter": "python",
   "pygments_lexer": "ipython3",
   "version": "3.12.7"
  }
 },
 "nbformat": 4,
 "nbformat_minor": 5
}
