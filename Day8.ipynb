{
 "cells": [
  {
   "cell_type": "code",
   "execution_count": 2,
   "id": "c0a9b898-e9f2-4abb-b2ba-c6472ba55ed6",
   "metadata": {},
   "outputs": [
    {
     "name": "stdout",
     "output_type": "stream",
     "text": [
      "hello\n"
     ]
    }
   ],
   "source": [
    "#user defined function \n",
    "def hi():\n",
    "    print(\"hello\")\n",
    "hi()"
   ]
  },
  {
   "cell_type": "code",
   "execution_count": 4,
   "id": "8595c421-a655-4a56-94f5-34fb14547160",
   "metadata": {},
   "outputs": [
    {
     "name": "stdin",
     "output_type": "stream",
     "text": [
      "enter the value of a: 22\n",
      "enter the value of b: 44\n"
     ]
    },
    {
     "name": "stdout",
     "output_type": "stream",
     "text": [
      "sum of two numbers: 66\n"
     ]
    }
   ],
   "source": [
    "# user defined functions with arguments\n",
    "def summate(x,y):\n",
    "    print(\"sum of two numbers:\",x+y)\n",
    "a=int(input(\"enter the value of a:\"))\n",
    "b=int(input(\"enter the value of b:\"))\n",
    "summate(a,b)"
   ]
  },
  {
   "cell_type": "code",
   "execution_count": 6,
   "id": "3aef897d-d2cd-4ccc-ac81-d176dca48621",
   "metadata": {},
   "outputs": [
    {
     "name": "stdin",
     "output_type": "stream",
     "text": [
      "enter the value of a: 3\n",
      "enter the value of b: 2\n"
     ]
    },
    {
     "name": "stdout",
     "output_type": "stream",
     "text": [
      "5\n"
     ]
    }
   ],
   "source": [
    "# user defined functions with arguments and return values...\n",
    "def summate(x,y):\n",
    "    return x+y\n",
    "a=int(input(\"enter the value of a:\"))\n",
    "b=int(input(\"enter the value of b:\"))\n",
    "print(summate(a,b))"
   ]
  },
  {
   "cell_type": "code",
   "execution_count": 8,
   "id": "85dab776-3839-4b37-b373-2b54a8f6ec46",
   "metadata": {},
   "outputs": [
    {
     "name": "stdin",
     "output_type": "stream",
     "text": [
      "enter the base 5\n"
     ]
    },
    {
     "name": "stdout",
     "output_type": "stream",
     "text": [
      "25\n",
      "125\n"
     ]
    }
   ],
   "source": [
    "#default arg\n",
    "def power(base,expo=2):\n",
    "    return base**expo\n",
    "num=int(input(\"enter the base\"))\n",
    "print(power(num))\n",
    "print(power(num,3))"
   ]
  },
  {
   "cell_type": "code",
   "execution_count": 12,
   "id": "be8eecfe-20ae-4545-83f2-98d834a68931",
   "metadata": {},
   "outputs": [
    {
     "name": "stdin",
     "output_type": "stream",
     "text": [
      "enter a: 10\n",
      "enter b: 5\n"
     ]
    },
    {
     "name": "stdout",
     "output_type": "stream",
     "text": [
      "sum: 15\n",
      "sub 5\n",
      "product 50\n"
     ]
    }
   ],
   "source": [
    "#multiple return values from a single function\n",
    "def operate(a,b):\n",
    "    return a+b,a-b,a*b\n",
    "a=int(input(\"enter a:\"))\n",
    "b=int(input(\"enter b:\"))\n",
    "sum,diff,prod=operate(a,b)\n",
    "print(\"sum:\",sum)\n",
    "print(\"sub\",diff)\n",
    "print(\"product\",prod)"
   ]
  },
  {
   "cell_type": "code",
   "execution_count": 1,
   "id": "7b651b01-bfcb-4dc7-9052-344706a88139",
   "metadata": {},
   "outputs": [
    {
     "name": "stdin",
     "output_type": "stream",
     "text": [
      "enter a num: 5\n"
     ]
    },
    {
     "name": "stdout",
     "output_type": "stream",
     "text": [
      "25\n"
     ]
    }
   ],
   "source": [
    "# anonumus function lambda\n",
    "# lambda var:operation\n",
    "num=int(input(\"enter a num:\"))\n",
    "square=lambda num:num*num\n",
    "print(square(num))"
   ]
  },
  {
   "cell_type": "code",
   "execution_count": 3,
   "id": "613ab957-bfa0-4bac-8745-92e6cb02c618",
   "metadata": {},
   "outputs": [
    {
     "name": "stdout",
     "output_type": "stream",
     "text": [
      "outer function\n",
      "inner function\n"
     ]
    }
   ],
   "source": [
    "# nested function\n",
    "def hi():\n",
    "    def hello():\n",
    "        print(\"inner function\")\n",
    "    print(\"outer function\")\n",
    "    hello()\n",
    "hi()"
   ]
  },
  {
   "cell_type": "code",
   "execution_count": 5,
   "id": "39c90678-b372-44a4-911c-e2d27158655e",
   "metadata": {},
   "outputs": [
    {
     "name": "stdin",
     "output_type": "stream",
     "text": [
      "enter a: 22\n",
      "enter b: 11\n"
     ]
    },
    {
     "name": "stdout",
     "output_type": "stream",
     "text": [
      "add: 33\n",
      "sub: 11\n"
     ]
    }
   ],
   "source": [
    "# nested function\n",
    "def operation(a,b):\n",
    "    def add():\n",
    "        return a+b\n",
    "    def sub():\n",
    "        return a-b\n",
    "    print(\"add:\",add())\n",
    "    print(\"sub:\",sub())\n",
    "a=int(input(\"enter a:\"))\n",
    "b=int(input(\"enter b:\"))\n",
    "operation(a,b)"
   ]
  },
  {
   "cell_type": "code",
   "execution_count": 7,
   "id": "66f19319-4241-42c0-b6a5-67544468fe76",
   "metadata": {},
   "outputs": [
    {
     "name": "stdin",
     "output_type": "stream",
     "text": [
      "enter a value 5\n",
      "enter b value 3\n"
     ]
    },
    {
     "name": "stdout",
     "output_type": "stream",
     "text": [
      "power: 125\n",
      "factorial: 120\n"
     ]
    }
   ],
   "source": [
    "# write a program to caluculate the factorial and power of given numbers by creating the nested loop with in loop where a=5 and\n",
    "#b=3 caliculate the factorial for a . caluculate the power for 5**3 output factorial=120 power=125\n",
    "\n",
    "def operations(a,b):\n",
    "    def power(a,b):\n",
    "        return a**b\n",
    "    def fact(a):\n",
    "        op=1\n",
    "        for i in range (1,a+1):\n",
    "            op *=i\n",
    "        return op\n",
    "    print(\"power:\",power(a,b))\n",
    "    print(\"factorial:\",fact(a))\n",
    "a=int(input(\"enter a value\"))\n",
    "b=int(input(\"enter b value\"))\n",
    "operations(a,b)"
   ]
  },
  {
   "cell_type": "code",
   "execution_count": 9,
   "id": "8547fa57-bc16-4d16-9e34-a25482b631b8",
   "metadata": {},
   "outputs": [
    {
     "name": "stdin",
     "output_type": "stream",
     "text": [
      "enter the number: 4\n"
     ]
    },
    {
     "name": "stdout",
     "output_type": "stream",
     "text": [
      "factorial 24\n"
     ]
    }
   ],
   "source": [
    "# recursive factorial\n",
    "def fact(n):\n",
    "    if n==0:\n",
    "        return 1\n",
    "    else:\n",
    "        return n*fact(n-1)\n",
    "num=int(input(\"enter the number:\"))\n",
    "print(\"factorial\",fact(num))"
   ]
  },
  {
   "cell_type": "code",
   "execution_count": 11,
   "id": "012e96e4-ab9f-4fc6-bb8d-1d0e327d3a2a",
   "metadata": {},
   "outputs": [
    {
     "name": "stdin",
     "output_type": "stream",
     "text": [
      "enter the number: 4\n"
     ]
    },
    {
     "name": "stdout",
     "output_type": "stream",
     "text": [
      "factorial 24\n",
      "super factorial 288\n"
     ]
    }
   ],
   "source": [
    "#factorial and super factorial  (recurssive)\n",
    "def fact(n):\n",
    "    if n==0 or n==1:\n",
    "        return 1\n",
    "    return n*fact(n-1)\n",
    "def sfact(n):\n",
    "    if n==1:\n",
    "        return 1\n",
    "    return fact(n) *sfact(n-1)\n",
    "num=int(input(\"enter the number:\"))\n",
    "print(\"factorial\",fact(num))\n",
    "print(\"super factorial\",sfact(num))"
   ]
  },
  {
   "cell_type": "code",
   "execution_count": null,
   "id": "df921742-4f14-491a-9dac-f2d83dfe493e",
   "metadata": {},
   "outputs": [],
   "source": []
  }
 ],
 "metadata": {
  "kernelspec": {
   "display_name": "Python 3 (ipykernel)",
   "language": "python",
   "name": "python3"
  },
  "language_info": {
   "codemirror_mode": {
    "name": "ipython",
    "version": 3
   },
   "file_extension": ".py",
   "mimetype": "text/x-python",
   "name": "python",
   "nbconvert_exporter": "python",
   "pygments_lexer": "ipython3",
   "version": "3.12.7"
  }
 },
 "nbformat": 4,
 "nbformat_minor": 5
}
