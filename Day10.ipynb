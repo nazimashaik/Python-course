{
 "cells": [
  {
   "cell_type": "code",
   "execution_count": 1,
   "id": "28cc92fa-3107-454c-982a-c2ad2bc07b13",
   "metadata": {},
   "outputs": [
    {
     "data": {
      "text/plain": [
       "'recursions function calling without any condition \\ntail recursion\\nhead recursion\\ntree recursion\\ndirect recursion\\nindirect recursion\\nnested recursion\\nlinear recursion'"
      ]
     },
     "execution_count": 1,
     "metadata": {},
     "output_type": "execute_result"
    }
   ],
   "source": [
    "'''recursions function calling without any condition \n",
    "tail recursion\n",
    "head recursion\n",
    "tree recursion\n",
    "direct recursion\n",
    "indirect recursion\n",
    "nested recursion\n",
    "linear recursion'''"
   ]
  },
  {
   "cell_type": "code",
   "execution_count": 3,
   "id": "8d0e7a76-1af9-4170-9f10-76c9ee74c3a3",
   "metadata": {},
   "outputs": [
    {
     "name": "stdin",
     "output_type": "stream",
     "text": [
      "enter the value: 5\n"
     ]
    },
    {
     "name": "stdout",
     "output_type": "stream",
     "text": [
      "1\n",
      "2\n",
      "3\n",
      "4\n",
      "5\n"
     ]
    }
   ],
   "source": [
    "#linear /head/direct\n",
    "def hrec(n):\n",
    "    if n==0:\n",
    "        return\n",
    "    hrec(n-1)\n",
    "    print(n)\n",
    "num=int(input(\"enter the value:\"))\n",
    "hrec(num)"
   ]
  },
  {
   "cell_type": "code",
   "execution_count": 5,
   "id": "b8b04616-16e0-498c-bb01-bd982a22f24a",
   "metadata": {},
   "outputs": [
    {
     "name": "stdin",
     "output_type": "stream",
     "text": [
      "enter the value: 5\n"
     ]
    },
    {
     "name": "stdout",
     "output_type": "stream",
     "text": [
      "5\n",
      "4\n",
      "3\n",
      "2\n",
      "1\n"
     ]
    }
   ],
   "source": [
    "'''tail recursion'''\n",
    "def hrec(n):\n",
    "    if n==0:\n",
    "        return\n",
    "    print(n)\n",
    "    return hrec(n-1)\n",
    "num=int(input(\"enter the value:\"))\n",
    "hrec(num)"
   ]
  },
  {
   "cell_type": "code",
   "execution_count": 7,
   "id": "edb3aa7f-a416-4de3-9c96-e342a5a2c8ef",
   "metadata": {},
   "outputs": [
    {
     "name": "stdin",
     "output_type": "stream",
     "text": [
      "enter the number: 5\n"
     ]
    },
    {
     "name": "stdout",
     "output_type": "stream",
     "text": [
      "factorial 120\n"
     ]
    }
   ],
   "source": [
    "#linear recursion factorial\n",
    "def fact(n):\n",
    "    if n==1:\n",
    "        return 1\n",
    "    return n*fact(n-1)\n",
    "num=int(input(\"enter the number:\"))\n",
    "print(\"factorial\",fact(num))"
   ]
  },
  {
   "cell_type": "code",
   "execution_count": 11,
   "id": "1a700320-5315-45ba-b50b-58a2f60169a0",
   "metadata": {},
   "outputs": [
    {
     "name": "stdin",
     "output_type": "stream",
     "text": [
      "enter the number: 10\n"
     ]
    },
    {
     "name": "stdout",
     "output_type": "stream",
     "text": [
      "55\n"
     ]
    }
   ],
   "source": [
    "'''sum of n digits'''\n",
    "def sum(n):\n",
    "    if n==0:\n",
    "        return 0\n",
    "    num=sum(n-1)\n",
    "    return n+num\n",
    "n=int(input(\"enter the number:\"))\n",
    "print(sum(n))    "
   ]
  },
  {
   "cell_type": "code",
   "execution_count": 13,
   "id": "835dc3dc-27cf-4251-9476-65a6cb62a528",
   "metadata": {},
   "outputs": [
    {
     "name": "stdin",
     "output_type": "stream",
     "text": [
      "enter the number: 345\n"
     ]
    },
    {
     "name": "stdout",
     "output_type": "stream",
     "text": [
      "12\n"
     ]
    }
   ],
   "source": [
    "'''sum of digits'''\n",
    "def sum(n):\n",
    "    if n==0:\n",
    "        return 0\n",
    "    return (n%10)+sum(n//10)\n",
    "n=int(input(\"enter the number:\"))\n",
    "print(sum(n))    "
   ]
  },
  {
   "cell_type": "code",
   "execution_count": 15,
   "id": "749f7da9-7adf-430d-9baa-f4693b2ad829",
   "metadata": {},
   "outputs": [
    {
     "name": "stdin",
     "output_type": "stream",
     "text": [
      "enter the value of n: 3\n"
     ]
    },
    {
     "name": "stdout",
     "output_type": "stream",
     "text": [
      "one: 3\n",
      "two: 2\n",
      "one: 1\n"
     ]
    }
   ],
   "source": [
    "'''indirect recursion'''\n",
    "def one(n):\n",
    "    if n>0:\n",
    "        print(\"one:\",n)\n",
    "        two(n-1)\n",
    "def two(n):\n",
    "    if n>0:\n",
    "        print(\"two:\",n)\n",
    "        one(n//2)\n",
    "num= int(input(\"enter the value of n:\"))\n",
    "one(num)"
   ]
  },
  {
   "cell_type": "code",
   "execution_count": 17,
   "id": "eb01afe9-f298-44a4-b835-6e4f107a8f9c",
   "metadata": {},
   "outputs": [
    {
     "name": "stdin",
     "output_type": "stream",
     "text": [
      "enter the value of n: 10\n"
     ]
    },
    {
     "name": "stdout",
     "output_type": "stream",
     "text": [
      "10 is even? True\n"
     ]
    }
   ],
   "source": [
    "''' write a code to check the given num is even or odd using in-direct recursive method with boolean output:\n",
    "input:5\n",
    "output:False'''\n",
    "def even(n):\n",
    "    if (n%2==0):\n",
    "        return True\n",
    "    return odd(n)\n",
    "def odd(n):\n",
    "    return False\n",
    "n= int(input(\"enter the value of n:\"))\n",
    "print(n,\"is even?\",even(n))\n"
   ]
  },
  {
   "cell_type": "code",
   "execution_count": 19,
   "id": "008c35d3-70bf-4327-bddf-66ef22e27aa3",
   "metadata": {},
   "outputs": [
    {
     "name": "stdin",
     "output_type": "stream",
     "text": [
      "enter the value of n: 3\n"
     ]
    },
    {
     "name": "stdout",
     "output_type": "stream",
     "text": [
      "3 is even? False\n"
     ]
    }
   ],
   "source": [
    "def even(n):                                       \n",
    "    if n==0:                                           \n",
    "        return True                          \n",
    "    return odd(n-1)                                     \n",
    "def odd(n):                                            \n",
    "    if n==0:                                       \n",
    "        return False                                        \n",
    "    return even(n-1)                                            \n",
    "n= int(input(\"enter the value of n:\"))\n",
    "print(n,\"is even?\",even(n))"
   ]
  },
  {
   "cell_type": "code",
   "execution_count": 21,
   "id": "1e892505-8934-493d-a503-24765219193a",
   "metadata": {},
   "outputs": [
    {
     "name": "stdout",
     "output_type": "stream",
     "text": [
      "3\n",
      "2\n",
      "1\n",
      "0\n",
      "0\n",
      "1\n",
      "0\n"
     ]
    }
   ],
   "source": [
    "def tree(n):\n",
    "    if n<0:\n",
    "        return\n",
    "    print(n)\n",
    "    tree(n-1)\n",
    "    tree(n-2)\n",
    "tree(3)\n"
   ]
  },
  {
   "cell_type": "code",
   "execution_count": 23,
   "id": "8f803c01-562c-47ec-8c03-880ef87156d2",
   "metadata": {},
   "outputs": [
    {
     "name": "stdout",
     "output_type": "stream",
     "text": [
      "33\n"
     ]
    }
   ],
   "source": [
    "def nest(n):\n",
    "    if n>=10:\n",
    "        return n-1\n",
    "    return nest(nest(n+2))\n",
    "print(nest(34))"
   ]
  },
  {
   "cell_type": "code",
   "execution_count": 25,
   "id": "538f69d2-4c45-4f70-81ca-20da43dc7db7",
   "metadata": {},
   "outputs": [
    {
     "name": "stdout",
     "output_type": "stream",
     "text": [
      "91\n"
     ]
    }
   ],
   "source": [
    "def mcCarthy91(n):\n",
    "    if n > 100:\n",
    "        return n - 10\n",
    "    else:\n",
    "        return mcCarthy91(mcCarthy91(n + 11))\n",
    "print(mcCarthy91(8))"
   ]
  },
  {
   "cell_type": "code",
   "execution_count": null,
   "id": "004c4b84-bfc9-49d7-8e58-f8563101d8da",
   "metadata": {},
   "outputs": [],
   "source": []
  }
 ],
 "metadata": {
  "kernelspec": {
   "display_name": "Python 3 (ipykernel)",
   "language": "python",
   "name": "python3"
  },
  "language_info": {
   "codemirror_mode": {
    "name": "ipython",
    "version": 3
   },
   "file_extension": ".py",
   "mimetype": "text/x-python",
   "name": "python",
   "nbconvert_exporter": "python",
   "pygments_lexer": "ipython3",
   "version": "3.12.7"
  }
 },
 "nbformat": 4,
 "nbformat_minor": 5
}
