{
 "cells": [
  {
   "cell_type": "code",
   "execution_count": null,
   "id": "121199fa-39d2-4b80-ad47-d087edf426b4",
   "metadata": {},
   "outputs": [],
   "source": [
    "'''modules in py\n",
    "1. built-in --> math, random, operating system, system.....\n",
    "2. userdefined --> ash.py\n",
    "3. installed --> numpy, pandas 3Dplot,matplotlib, pyplot\n",
    "import --> methods/techniques\n",
    "import math,import math as n \n",
    "from math import pi,sqrt,pow,factorial\n",
    "from math import *'''\n"
   ]
  },
  {
   "cell_type": "code",
   "execution_count": 1,
   "id": "f261345a-868c-45af-b27c-d806a01ddef4",
   "metadata": {},
   "outputs": [
    {
     "name": "stdout",
     "output_type": "stream",
     "text": [
      "1.7320508075688772\n",
      "3.141592653589793\n"
     ]
    }
   ],
   "source": [
    "import math \n",
    "print(math.sqrt(3))\n",
    "print(math.pi)"
   ]
  },
  {
   "cell_type": "code",
   "execution_count": null,
   "id": "5bf303f4-2ac3-4e14-b6cd-b5a9d38a2cf7",
   "metadata": {},
   "outputs": [],
   "source": []
  }
 ],
 "metadata": {
  "kernelspec": {
   "display_name": "Python 3 (ipykernel)",
   "language": "python",
   "name": "python3"
  },
  "language_info": {
   "codemirror_mode": {
    "name": "ipython",
    "version": 3
   },
   "file_extension": ".py",
   "mimetype": "text/x-python",
   "name": "python",
   "nbconvert_exporter": "python",
   "pygments_lexer": "ipython3",
   "version": "3.12.7"
  }
 },
 "nbformat": 4,
 "nbformat_minor": 5
}
