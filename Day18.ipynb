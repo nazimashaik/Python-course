{
 "cells": [
  {
   "cell_type": "code",
   "execution_count": null,
   "id": "17470cff-f3c3-4a31-85a2-967cdde6a91e",
   "metadata": {},
   "outputs": [],
   "source": [
    "'''class --- structure\n",
    "instance - blueprint\n",
    "\n",
    "syntax:\n",
    "class userdefinedname:\n",
    "           stmt1\n",
    "           stmt2\n",
    "           stmt3'''"
   ]
  },
  {
   "cell_type": "code",
   "execution_count": 1,
   "id": "5ad6a240-e83a-488e-90aa-f314a7443fee",
   "metadata": {},
   "outputs": [
    {
     "name": "stdout",
     "output_type": "stream",
     "text": [
      "9\n"
     ]
    }
   ],
   "source": [
    "class abc:\n",
    "    value=9\n",
    "obj1=abc()\n",
    "print(obj1.value)"
   ]
  },
  {
   "cell_type": "code",
   "execution_count": 3,
   "id": "df9ac403-ce19-4ea1-8eb0-dd24feed3502",
   "metadata": {},
   "outputs": [
    {
     "name": "stdout",
     "output_type": "stream",
     "text": [
      "9\n",
      "this is a class method\n"
     ]
    }
   ],
   "source": [
    "class abc:\n",
    "    value=9\n",
    "    def display(self):\n",
    "        print(\"this is a class method\")\n",
    "obj1=abc()\n",
    "print(obj1.value)\n",
    "obj1.display()"
   ]
  },
  {
   "cell_type": "code",
   "execution_count": 5,
   "id": "f1f8518a-7648-4214-a08d-18a709e4e291",
   "metadata": {},
   "outputs": [
    {
     "name": "stdin",
     "output_type": "stream",
     "text": [
      "enter a value 4\n"
     ]
    },
    {
     "name": "stdout",
     "output_type": "stream",
     "text": [
      "this is a class method\n",
      "accessed value in class is 4\n"
     ]
    }
   ],
   "source": [
    "class abc:\n",
    "    def __init__(self,value):\n",
    "        print(\"this is a class method\")\n",
    "        self.value=value\n",
    "        print(\"accessed value in class is\",value)\n",
    "n=int(input(\"enter a value\"))        \n",
    "obj=abc(n)"
   ]
  },
  {
   "cell_type": "code",
   "execution_count": 7,
   "id": "e0d51f39-8b41-4391-ab39-3187d87b049e",
   "metadata": {},
   "outputs": [
    {
     "name": "stdout",
     "output_type": "stream",
     "text": [
      "Hello I am vijay and i am 32 year-old.\n"
     ]
    }
   ],
   "source": [
    "class Student:\n",
    "    def __init__(self,name,age):\n",
    "        self.name=name\n",
    "        self.age=age\n",
    "    def hi(self):\n",
    "        print(f\"Hello I am {self.name} and i am {self.age} year-old.\")\n",
    "s1=Student('vijay',32)\n",
    "s1.hi()"
   ]
  },
  {
   "cell_type": "code",
   "execution_count": 9,
   "id": "7ee6711b-98b7-4caa-b6f4-7d6a778fef59",
   "metadata": {},
   "outputs": [
    {
     "name": "stdin",
     "output_type": "stream",
     "text": [
      "Enter the radius: 3\n"
     ]
    },
    {
     "name": "stdout",
     "output_type": "stream",
     "text": [
      "area of circle: 28.274333882308138\n"
     ]
    }
   ],
   "source": [
    "import math\n",
    "class circle:\n",
    "    def __init__(self,radius):\n",
    "        self.radius=radius\n",
    "    def area(self):\n",
    "        return math.pi*self.radius**2\n",
    "r=int(input(\"Enter the radius:\"))\n",
    "c= circle(r)\n",
    "print(\"area of circle:\",c.area())"
   ]
  },
  {
   "cell_type": "code",
   "execution_count": 11,
   "id": "6c7fb7fa-2df8-4203-9fbe-1975d85c6c16",
   "metadata": {},
   "outputs": [
    {
     "name": "stdin",
     "output_type": "stream",
     "text": [
      "Enter the radius: 3\n"
     ]
    },
    {
     "name": "stdout",
     "output_type": "stream",
     "text": [
      "area of circle: 28.274333882308138\n",
      "circumference of circle: 18.84955592153876\n"
     ]
    }
   ],
   "source": [
    "import math\n",
    "class circle:\n",
    "    def __init__(self,radius):\n",
    "        self.radius=radius\n",
    "    def area(self):\n",
    "        return math.pi*self.radius**2\n",
    "    def circumference(self):\n",
    "        return 2*(math.pi)*self.radius\n",
    "r=int(input(\"Enter the radius:\"))\n",
    "c= circle(r)\n",
    "print(f\"area of circle:\",c.area())\n",
    "print(\"circumference of circle:\",c.circumference())\n"
   ]
  },
  {
   "cell_type": "code",
   "execution_count": 13,
   "id": "d38c8e59-77d4-4567-be8a-246bcc539709",
   "metadata": {},
   "outputs": [
    {
     "name": "stdin",
     "output_type": "stream",
     "text": [
      "enter the number: 3\n"
     ]
    },
    {
     "name": "stdout",
     "output_type": "stream",
     "text": [
      "factorial: 6\n"
     ]
    }
   ],
   "source": [
    "''' code to find and print the factorial of a given number using a class called math and register the given\n",
    "number in a construct in a constructor to caluclate. return the value by passing to the main function'''\n",
    "class Math:\n",
    "    def __init__(self,num):\n",
    "        self.num=num\n",
    "    def fact(self):\n",
    "        f=1\n",
    "        for i in range(1,self.num+1):\n",
    "            f*=i\n",
    "        return f\n",
    "number=int(input(\"enter the number:\"))\n",
    "m=Math(number)\n",
    "print(\"factorial:\",m.fact())\n"
   ]
  },
  {
   "cell_type": "code",
   "execution_count": 15,
   "id": "2272c538-1e44-453b-809a-07cc9ad9cdec",
   "metadata": {},
   "outputs": [
    {
     "name": "stdin",
     "output_type": "stream",
     "text": [
      "enter a number: 4\n"
     ]
    },
    {
     "name": "stdout",
     "output_type": "stream",
     "text": [
      "squareroot:2.00\n"
     ]
    }
   ],
   "source": [
    "'''code to import the sqrt function and caluculate the value by cretaing a class Squareroot and define a function for finding the \n",
    "root . return the value to the main program'''\n",
    "class Math:\n",
    "    def __init__(self,num):\n",
    "        self.num=num\n",
    "    def squareroot(self):\n",
    "        return math.sqrt(self.num)\n",
    "number=int(input(\"enter a number:\"))\n",
    "m=Math(number)\n",
    "print(f\"squareroot:{m.squareroot():.2f}\")"
   ]
  },
  {
   "cell_type": "code",
   "execution_count": 17,
   "id": "30f83549-be16-4e7d-89a6-9116d7c39340",
   "metadata": {},
   "outputs": [
    {
     "name": "stdout",
     "output_type": "stream",
     "text": [
      "even list: [32, 38]\n",
      "odd list: [21, 33, 53]\n"
     ]
    }
   ],
   "source": [
    "'''code to modfit a mutable list using a class number for accumlating even/odd values  into a list return\n",
    "the event list and odd list with last modified element'''\n",
    "\n",
    "class number:\n",
    "    even=[]\n",
    "    odd=[]\n",
    "    def __init__(self,n):\n",
    "        self.n=n\n",
    "        if n%2==0:\n",
    "            number.even.append(n)\n",
    "        else:\n",
    "            number.odd.append(n)\n",
    "n1=number(21)\n",
    "n2=number(33)\n",
    "n3=number(32)\n",
    "n4=number(38)\n",
    "n5=number(53)\n",
    "print(\"even list:\",number.even)\n",
    "print(\"odd list:\",number.odd)\n"
   ]
  },
  {
   "cell_type": "code",
   "execution_count": null,
   "id": "e095d7d2-4ee3-4bae-b479-17e77becfb7b",
   "metadata": {},
   "outputs": [],
   "source": []
  }
 ],
 "metadata": {
  "kernelspec": {
   "display_name": "Python 3 (ipykernel)",
   "language": "python",
   "name": "python3"
  },
  "language_info": {
   "codemirror_mode": {
    "name": "ipython",
    "version": 3
   },
   "file_extension": ".py",
   "mimetype": "text/x-python",
   "name": "python",
   "nbconvert_exporter": "python",
   "pygments_lexer": "ipython3",
   "version": "3.12.7"
  }
 },
 "nbformat": 4,
 "nbformat_minor": 5
}
