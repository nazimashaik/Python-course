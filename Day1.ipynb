{
 "cells": [
  {
   "cell_type": "code",
   "execution_count": 1,
   "id": "58b730de-c1c3-4e73-b969-67ebe18ec000",
   "metadata": {},
   "outputs": [
    {
     "name": "stdout",
     "output_type": "stream",
     "text": [
      "2\n",
      "1\n"
     ]
    }
   ],
   "source": [
    "a=1\n",
    "b=2\n",
    "a=a^b\n",
    "b=a^b\n",
    "a=a^b\n",
    "print(a)\n",
    "print(b)"
   ]
  },
  {
   "cell_type": "code",
   "execution_count": 3,
   "id": "bef3f416-014d-4f5d-b973-62b66719d175",
   "metadata": {},
   "outputs": [
    {
     "name": "stdout",
     "output_type": "stream",
     "text": [
      "1\n"
     ]
    }
   ],
   "source": [
    "print(6>>+2)"
   ]
  },
  {
   "cell_type": "code",
   "execution_count": 5,
   "id": "95bb5517-5a5d-476e-bc95-7b311631e7f5",
   "metadata": {},
   "outputs": [
    {
     "name": "stdout",
     "output_type": "stream",
     "text": [
      "count: 1\n",
      "count: 2\n",
      "count: 3\n",
      "count: 4\n",
      "count: 5\n",
      "loop completed\n"
     ]
    }
   ],
   "source": [
    "count=1\n",
    "while count<=5:\n",
    "    print(\"count:\",count)\n",
    "    count+=1\n",
    "else:\n",
    "    print(\"loop completed\")"
   ]
  },
  {
   "cell_type": "code",
   "execution_count": 7,
   "id": "5ce78392-a6b2-45f7-998f-46b94142ff47",
   "metadata": {},
   "outputs": [
    {
     "name": "stdout",
     "output_type": "stream",
     "text": [
      "number: 1\n",
      "number: 2\n",
      "number: 3\n",
      "number: 4\n",
      "number: 5\n",
      "breaking loop at 6\n"
     ]
    }
   ],
   "source": [
    "#while-else break printing 1-10 by breaking at 5 ......1-5\n",
    "num=1\n",
    "while num<=10:\n",
    "    if num==6:\n",
    "        print(\"breaking loop at 6\")\n",
    "        break\n",
    "    print(\"number:\",num)\n",
    "    num+=1\n",
    "else:\n",
    "    print(\"break at 6 so 10 numberrs will not print\")"
   ]
  },
  {
   "cell_type": "code",
   "execution_count": 9,
   "id": "ee8bbe2e-6023-4976-89ab-1405dc6f6756",
   "metadata": {},
   "outputs": [
    {
     "name": "stdout",
     "output_type": "stream",
     "text": [
      "odd numbers: 1\n",
      "odd numbers: 3\n",
      "odd numbers: 5\n",
      "odd numbers: 7\n",
      "odd numbers: 9\n",
      "odd numbers: 11\n"
     ]
    }
   ],
   "source": [
    "num=0\n",
    "while num<=10:\n",
    "    num+=1\n",
    "    if num%2==0:\n",
    "        continue \n",
    "    print(\"odd numbers:\",num)"
   ]
  },
  {
   "cell_type": "code",
   "execution_count": 17,
   "id": "cbf0404e-42ca-4fac-80e7-413b0504e9a3",
   "metadata": {},
   "outputs": [
    {
     "name": "stdin",
     "output_type": "stream",
     "text": [
      " 789\n"
     ]
    },
    {
     "name": "stdout",
     "output_type": "stream",
     "text": [
      "987\n"
     ]
    }
   ],
   "source": [
    "'''write a program to take a user input and reverse the input using while loop\n",
    "input=4831,output=1384'''\n",
    "n=int(input())\n",
    "e=0\n",
    "while(n!=0):\n",
    "    r=n%10\n",
    "    e=e*10+r\n",
    "    n=n//10\n",
    "print(e)"
   ]
  },
  {
   "cell_type": "code",
   "execution_count": 19,
   "id": "c5156edb-206d-473a-bacd-218426a98cd7",
   "metadata": {},
   "outputs": [
    {
     "name": "stdout",
     "output_type": "stream",
     "text": [
      "yajiv\n"
     ]
    }
   ],
   "source": [
    "#string reverse using while loop\n",
    "s=\"vijay\"\n",
    "rev=\"\"\n",
    "i=len(s)-1\n",
    "while i>=0:\n",
    "    rev+=s[i]\n",
    "    i-=1\n",
    "print(rev)"
   ]
  },
  {
   "cell_type": "code",
   "execution_count": 21,
   "id": "6f440180-051d-4e06-9884-57814e728542",
   "metadata": {},
   "outputs": [
    {
     "name": "stdout",
     "output_type": "stream",
     "text": [
      "['NY', 'is', 'in', 'usa']\n"
     ]
    }
   ],
   "source": [
    "#split func\n",
    "text=\"NY is in usa\"\n",
    "words=text.split()\n",
    "print(words)"
   ]
  },
  {
   "cell_type": "code",
   "execution_count": 35,
   "id": "85cff112-7e3b-4512-bb4b-3eedb1204271",
   "metadata": {},
   "outputs": [
    {
     "name": "stdout",
     "output_type": "stream",
     "text": [
      "['NY', 'is', 'in usa']\n"
     ]
    }
   ],
   "source": [
    "text=\"NY is in usa\"\n",
    "words=text.split(\" \",2)\n",
    "print(words)"
   ]
  },
  {
   "cell_type": "code",
   "execution_count": 39,
   "id": "1c3f61f6-c8f9-43c5-b71d-8e6614375096",
   "metadata": {},
   "outputs": [
    {
     "name": "stdout",
     "output_type": "stream",
     "text": [
      "reversed word: kiahs amizan\n"
     ]
    }
   ],
   "source": [
    "#reversing the words in a text w r t index values\n",
    "text=\"shaik nazima\"\n",
    "words=text.split()\n",
    "i=0\n",
    "while i<len(words):\n",
    "    words[i]=words[i][::-1]\n",
    "    i+=1\n",
    "rev=\" \".join(words)\n",
    "print(\"reversed word:\",rev)"
   ]
  },
  {
   "cell_type": "code",
   "execution_count": 41,
   "id": "49b52b24-0eaa-4087-af0e-f3ad87ae548e",
   "metadata": {},
   "outputs": [
    {
     "name": "stdout",
     "output_type": "stream",
     "text": [
      "11\n",
      "12\n",
      "13\n",
      "14\n",
      "15\n",
      "16\n",
      "17\n",
      "18\n",
      "19\n",
      "20\n",
      "21\n",
      "22\n",
      "23\n",
      "24\n",
      "25\n",
      "26\n",
      "27\n",
      "28\n",
      "29\n",
      "30\n",
      "31\n",
      "32\n",
      "33\n",
      "34\n",
      "35\n",
      "36\n",
      "37\n",
      "38\n",
      "39\n",
      "40\n"
     ]
    }
   ],
   "source": [
    "for i in range(11,41):\n",
    "    print(i)"
   ]
  },
  {
   "cell_type": "code",
   "execution_count": 45,
   "id": "c2e27907-c44f-4f27-9b87-4155b8d64592",
   "metadata": {},
   "outputs": [
    {
     "name": "stdout",
     "output_type": "stream",
     "text": [
      "11 12 13 14 15 16 17 18 19 20 21 22 23 24 25 26 27 28 29 30 31 32 33 34 35 36 37 38 39 40 "
     ]
    }
   ],
   "source": [
    "for i in range(11,41):\n",
    "    print(i,end=' ')"
   ]
  },
  {
   "cell_type": "code",
   "execution_count": 57,
   "id": "7424bf19-9bfc-4a29-b936-90b404da2da5",
   "metadata": {},
   "outputs": [
    {
     "name": "stdout",
     "output_type": "stream",
     "text": [
      "41 40 39 38 37 36 35 34 33 32 31 30 29 28 27 26 25 24 23 22 21 20 19 18 17 16 15 14 13 12 11 10 9 8 7 6 5 4 3 2 1 "
     ]
    }
   ],
   "source": [
    "for i in range(41,0,-1):\n",
    "    print(i,end=\" \")"
   ]
  },
  {
   "cell_type": "code",
   "execution_count": 59,
   "id": "0bab6d2f-44c2-4a3a-ad10-bd00d8fb0405",
   "metadata": {},
   "outputs": [
    {
     "name": "stdout",
     "output_type": "stream",
     "text": [
      "41 39 37 35 33 31 29 27 25 23 21 19 17 15 13 11 9 7 5 3 1 "
     ]
    }
   ],
   "source": [
    "for i in range(41,0,-2):\n",
    "    print(i,end=\" \")"
   ]
  },
  {
   "cell_type": "code",
   "execution_count": 76,
   "id": "fdedb489-5296-4541-8618-2c40bb3d2eab",
   "metadata": {},
   "outputs": [
    {
     "name": "stdout",
     "output_type": "stream",
     "text": [
      "0 2 4 6 8 10 12 14 16 18 20 22 24 26 28 30 32 34 36 38 40 "
     ]
    }
   ],
   "source": [
    "for i in range(0,41,2):\n",
    "    print(i,end=\" \")"
   ]
  },
  {
   "cell_type": "code",
   "execution_count": 78,
   "id": "39a966b9-a22a-4b76-b42d-afd5539080dd",
   "metadata": {},
   "outputs": [
    {
     "name": "stdout",
     "output_type": "stream",
     "text": [
      "apple\n",
      "banana\n",
      "kiwi\n"
     ]
    }
   ],
   "source": [
    "#looping through a string list\n",
    "fruits=['apple','banana','kiwi']\n",
    "for fruit in fruits:\n",
    "    print(fruit)"
   ]
  },
  {
   "cell_type": "code",
   "execution_count": null,
   "id": "382247d1-cade-4827-895a-1a4d6177acd8",
   "metadata": {},
   "outputs": [
    {
     "name": "stdin",
     "output_type": "stream",
     "text": [
      "enter the number 145\n"
     ]
    }
   ],
   "source": [
    "#strong number / krishnamurthy's number\n",
    "num=int(input(\"enter the number\"))\n",
    "copy=num\n",
    "sum=0\n",
    "while num>0:\n",
    "    d=num%10\n",
    "    f=1\n",
    "    for i in range(1,d+1):\n",
    "        f*=1\n",
    "    sum+=f\n",
    "    num//10\n",
    "if sum==copy:\n",
    "    print(copy,\"is strong number\")\n",
    "else:\n",
    "    print(copy,\"is not strong number\")"
   ]
  },
  {
   "cell_type": "code",
   "execution_count": null,
   "id": "9ce05885-f97b-4aee-9b73-a4249302be93",
   "metadata": {},
   "outputs": [],
   "source": []
  }
 ],
 "metadata": {
  "kernelspec": {
   "display_name": "Python 3 (ipykernel)",
   "language": "python",
   "name": "python3"
  },
  "language_info": {
   "codemirror_mode": {
    "name": "ipython",
    "version": 3
   },
   "file_extension": ".py",
   "mimetype": "text/x-python",
   "name": "python",
   "nbconvert_exporter": "python",
   "pygments_lexer": "ipython3",
   "version": "3.12.7"
  }
 },
 "nbformat": 4,
 "nbformat_minor": 5
}
