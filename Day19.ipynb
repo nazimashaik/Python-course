{
 "cells": [
  {
   "cell_type": "code",
   "execution_count": null,
   "id": "bed150af-879b-4740-9306-76e838596bb9",
   "metadata": {},
   "outputs": [],
   "source": [
    "'''__del__():\n",
    "const:\n",
    "class abc:\n",
    "     def __init__(sef,v1,v2.....):\n",
    "           self.v1=v1\n",
    "     def __del__(self):\n",
    "        abc.v1'''"
   ]
  },
  {
   "cell_type": "code",
   "execution_count": 2,
   "id": "f829739a-03e1-4cf9-9222-0d2288274768",
   "metadata": {},
   "outputs": [
    {
     "name": "stdout",
     "output_type": "stream",
     "text": [
      "object variable: 11\n",
      "class variable 10\n",
      "object variable: 12\n",
      "class variable 20\n",
      "object variable: 13\n",
      "class variable 30\n"
     ]
    }
   ],
   "source": [
    "class rose():\n",
    "    class_var=0\n",
    "    def __init__(self,var):\n",
    "        rose.class_var +=10\n",
    "        self.var=var\n",
    "        print(\"object variable:\",var)\n",
    "        print(\"class variable\",rose.class_var)\n",
    "object1=rose(11)\n",
    "object2=rose(12)\n",
    "object3=rose(13)"
   ]
  },
  {
   "cell_type": "code",
   "execution_count": 4,
   "id": "d9e85c6b-5109-4d1b-a22a-038b7915134a",
   "metadata": {},
   "outputs": [
    {
     "name": "stdout",
     "output_type": "stream",
     "text": [
      "object variable: 11\n",
      "class variable 10\n",
      "object variable: 12\n",
      "class variable 20\n",
      "object variable: 13\n",
      "class variable 30\n",
      "obj var with 13 is deleted\n"
     ]
    }
   ],
   "source": [
    "'''del method/class variable with const access'''\n",
    "class rose():\n",
    "    class_var=0\n",
    "    def __init__(self,var):\n",
    "        rose.class_var +=10\n",
    "        self.var=var\n",
    "        print(\"object variable:\",var)\n",
    "        print(\"class variable\",rose.class_var)\n",
    "    def __del__(self):\n",
    "        rose.class_var-=1\n",
    "        print(\"obj var with %d is deleted\" %self.var)\n",
    "object1=rose(11)\n",
    "object2=rose(12)\n",
    "object3=rose(13)\n",
    "del object3"
   ]
  },
  {
   "cell_type": "code",
   "execution_count": 6,
   "id": "8455b870-72df-4d79-9dfd-52fe397094eb",
   "metadata": {},
   "outputs": [
    {
     "name": "stdin",
     "output_type": "stream",
     "text": [
      "enter the value of a: 5\n",
      "enter the value of b: 10\n"
     ]
    },
    {
     "name": "stdout",
     "output_type": "stream",
     "text": [
      "calc object created......\n",
      "addition: 15\n",
      "subtract: -5\n"
     ]
    }
   ],
   "source": [
    "class calc:\n",
    "    def __init__(self,a,b):\n",
    "        self.a=a\n",
    "        self.b=b\n",
    "        print(\"calc object created......\")\n",
    "    def add(self):\n",
    "        return self.a+self.b\n",
    "    def sub(self):\n",
    "        return self.a-self.b\n",
    "a=int(input(\"enter the value of a:\"))\n",
    "b=int(input(\"enter the value of b:\"))\n",
    "c=calc(a,b)\n",
    "print(\"addition:\",c.add())\n",
    "print(\"subtract:\",c.sub())"
   ]
  },
  {
   "cell_type": "code",
   "execution_count": 8,
   "id": "d54ebbcf-54f2-4fe9-898c-abd9fdd90022",
   "metadata": {},
   "outputs": [
    {
     "name": "stdin",
     "output_type": "stream",
     "text": [
      "enter radius value: 3\n"
     ]
    },
    {
     "name": "stdout",
     "output_type": "stream",
     "text": [
      "rectangle obj is created...\n",
      "area of circle: 28.274333882308138\n",
      "circumference of circle: 18.84955592153876\n",
      "created rectangle object was deleted\n"
     ]
    }
   ],
   "source": [
    "'''code to calc area and circumference of a circle by using a class rectangle, create a constructor and seperate\n",
    "functions for circ and delete the constructor import math pi value'''\n",
    "import math\n",
    "class rectangle:\n",
    "    def __init__(self,radius):\n",
    "        self.radius=radius\n",
    "        print (\"rectangle obj is created...\")\n",
    "    def area(self):\n",
    "        return math.pi*self.radius**2\n",
    "    def circumference(self):\n",
    "        return 2*(math.pi)*self.radius\n",
    "    def __del__(self):\n",
    "        print(\"created rectangle object was deleted\")\n",
    "a=int(input(\"enter radius value:\"))\n",
    "c=rectangle(a)\n",
    "print(\"area of circle:\",c.area())\n",
    "print(\"circumference of circle:\",c.circumference())\n",
    "del c\n",
    "        "
   ]
  },
  {
   "cell_type": "code",
   "execution_count": null,
   "id": "5cb52dc0-70ad-46f0-a032-9971ddd6101f",
   "metadata": {},
   "outputs": [],
   "source": [
    "'''special methods:\n",
    "__cpm__()--> objects comparision\n",
    "__len__()--> len(objects)\n",
    "__repr__()--> str representation\n",
    "__call__()--> n args\n",
    "comparitive methods:\n",
    "__lt__()->less than\n",
    "__le__()->lessthan or equaltoo\n",
    "__eq__()-> equal\n",
    "__ne__()->not equal\n",
    "__gt__()->greater than\n",
    "__ge__()->greaterthan or equal\n",
    "__hash__()--> used for an obj/it will decide the place of any object data structure\n",
    "__iter__()--> iteration over objects\n",
    "__getiter__()--> used for indexing key \n",
    "__setitem__() --> (self,key, value)\n",
    "'''"
   ]
  },
  {
   "cell_type": "code",
   "execution_count": 10,
   "id": "6e477bec-dc3c-4d6f-875c-4d5412f8ad46",
   "metadata": {},
   "outputs": [
    {
     "name": "stdout",
     "output_type": "stream",
     "text": [
      "6\n",
      "[1, 2, 3, 100, 5, 6, 7, 8, 9, 10]\n"
     ]
    }
   ],
   "source": [
    "class numbers:\n",
    "    def __init__(self,mylist):\n",
    "        self.mylist=mylist\n",
    "    def __getitem__(self,index):\n",
    "        return self.mylist[index]\n",
    "    def __setitem__(self,index,val):\n",
    "        self.mylist[index]=val\n",
    "numlist=numbers([1,2,3,4,5,6,7,8,9,10])\n",
    "print(numlist[5])\n",
    "numlist[3]=100\n",
    "print(numlist.mylist)"
   ]
  },
  {
   "cell_type": "code",
   "execution_count": 12,
   "id": "83f49637-1a7e-4d8c-a7f3-ce48b59948ee",
   "metadata": {},
   "outputs": [
    {
     "name": "stdout",
     "output_type": "stream",
     "text": [
      "sum of row 0: 3\n",
      "sum of row 2: 11\n",
      "New sum of row 1: 30\n"
     ]
    }
   ],
   "source": [
    "#math evaluation on __getitem__() and __setitem__()\n",
    "'''code to add the sum of rows in a 2-d list'''\n",
    "class rowSum:\n",
    "    def __init__(self,matrix):\n",
    "        self.matrix=matrix\n",
    "    def __getitem__(self,row):\n",
    "        return sum(self.matrix[row])\n",
    "    def __setitem__(self,row,new_row):\n",
    "        self.matrix[row]=new_row\n",
    "m=rowSum([[1,2],[3,4],[5,6]])\n",
    "# sum of 0 index row values=3\n",
    "# sum of 1 index row values=11\n",
    "print(\"sum of row 0:\",m[0])\n",
    "print(\"sum of row 2:\",m[2])\n",
    "m[1]=[10,20]\n",
    "print (\"New sum of row 1:\",m[1])"
   ]
  },
  {
   "cell_type": "code",
   "execution_count": null,
   "id": "ac849a67-9209-404f-926e-dc9a75c1095e",
   "metadata": {},
   "outputs": [],
   "source": []
  }
 ],
 "metadata": {
  "kernelspec": {
   "display_name": "Python 3 (ipykernel)",
   "language": "python",
   "name": "python3"
  },
  "language_info": {
   "codemirror_mode": {
    "name": "ipython",
    "version": 3
   },
   "file_extension": ".py",
   "mimetype": "text/x-python",
   "name": "python",
   "nbconvert_exporter": "python",
   "pygments_lexer": "ipython3",
   "version": "3.12.7"
  }
 },
 "nbformat": 4,
 "nbformat_minor": 5
}
