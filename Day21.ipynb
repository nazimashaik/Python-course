{
 "cells": [
  {
   "cell_type": "code",
   "execution_count": null,
   "id": "630e5b4c-30e8-4061-8273-0c8838d74d76",
   "metadata": {},
   "outputs": [],
   "source": [
    "#class method: no the instance,class bound"
   ]
  },
  {
   "cell_type": "code",
   "execution_count": 1,
   "id": "82e1572c-7958-407c-94ff-73d96be60e9b",
   "metadata": {},
   "outputs": [
    {
     "name": "stdin",
     "output_type": "stream",
     "text": [
      "enter the name: naz\n",
      "enter the marks: 100\n"
     ]
    },
    {
     "name": "stdout",
     "output_type": "stream",
     "text": [
      "student name:naz\n",
      "student marks:100\n"
     ]
    }
   ],
   "source": [
    "class student:\n",
    "    def __init__(s,name,marks):\n",
    "        s.name=name\n",
    "        s.marks=marks\n",
    "    def display(s):\n",
    "        print(f\"student name:{s.name}\")\n",
    "        print(f\"student marks:{s.marks}\")\n",
    "name=str(input(\"enter the name:\"))\n",
    "marks=str(input(\"enter the marks:\"))\n",
    "s=student(name,marks)\n",
    "s.display()"
   ]
  },
  {
   "cell_type": "code",
   "execution_count": 7,
   "id": "728666be-81ad-4842-a82a-72b36922801b",
   "metadata": {},
   "outputs": [
    {
     "name": "stdin",
     "output_type": "stream",
     "text": [
      "enter the name naz\n",
      "enter the marks 100\n"
     ]
    },
    {
     "name": "stdout",
     "output_type": "stream",
     "text": [
      "student name:naz\n",
      "student marks:100\n"
     ]
    }
   ],
   "source": [
    "class student:\n",
    "    def __init__(self,name,marks):\n",
    "        self.name=name\n",
    "        self.marks=marks\n",
    "    @classmethod\n",
    "    def input(cls):\n",
    "        name=str(input(\"enter the name\"))\n",
    "        marks=int(input(\"enter the marks\"))\n",
    "        return cls(name,marks)\n",
    "    def display(self):\n",
    "        print(f\"student name:{self.name}\")\n",
    "        print(f\"student marks:{self.marks}\")\n",
    "s=student.input()\n",
    "s.display()"
   ]
  },
  {
   "cell_type": "code",
   "execution_count": 15,
   "id": "a0341dcd-58b0-42e8-b77c-8d0b4989c973",
   "metadata": {},
   "outputs": [
    {
     "name": "stdin",
     "output_type": "stream",
     "text": [
      "enter the product name: acer\n",
      "enter the base price 50000\n",
      "enter tax_rate in %: 10\n"
     ]
    },
    {
     "name": "stdout",
     "output_type": "stream",
     "text": [
      "final price acer is rs.55000.00\n"
     ]
    }
   ],
   "source": [
    "'''code to illustrate a product with its price by normal instance and calculate the product tax by 10% in a class\n",
    "metod and print the total amonut to be paid'''\n",
    "class product:\n",
    "    tax_rate=0.18\n",
    "    def __init__(self,name,price):\n",
    "        self.name=name\n",
    "        self.price=price\n",
    "    def finalprice(self):\n",
    "        total=self.price*(1+product.tax_rate)\n",
    "        print(f\"final price {self.name} is rs.{total:.2f}\")\n",
    "    @classmethod\n",
    "    def settax(cls,rate):\n",
    "        cls.tax_rate=rate/100\n",
    "name=str(input(\"enter the product name:\"))\n",
    "price=float(input(\"enter the base price\"))\n",
    "rate=int(input(\"enter tax_rate in %:\"))\n",
    "product.settax(rate)\n",
    "item=product(name,price)\n",
    "item.finalprice()\n"
   ]
  },
  {
   "cell_type": "code",
   "execution_count": 21,
   "id": "c0d8d356-e3e6-4e7d-9a82-5a21cbc14a77",
   "metadata": {},
   "outputs": [
    {
     "name": "stdin",
     "output_type": "stream",
     "text": [
      "enter the value of a: 5\n",
      "enter the value of b: 78\n"
     ]
    },
    {
     "name": "stdout",
     "output_type": "stream",
     "text": [
      "addition result: 83\n"
     ]
    }
   ],
   "source": [
    "'''basic math operation using @classmethod'''\n",
    "class calculator:\n",
    "    def __init__(s,a,b):\n",
    "        s.a=a\n",
    "        s.b=b\n",
    "    @classmethod\n",
    "    def input(cls):\n",
    "        a=int(input(\"enter the value of a:\"))\n",
    "        b=int(input(\"enter the value of b:\"))\n",
    "        return cls(a,b)\n",
    "    def add(s):\n",
    "        return s.a+s.b\n",
    "c=calculator.input()\n",
    "print(\"addition result:\",c.add())"
   ]
  },
  {
   "cell_type": "code",
   "execution_count": 23,
   "id": "a4fb3522-7a6a-44f6-8946-2d0a3edf4d72",
   "metadata": {},
   "outputs": [
    {
     "name": "stdin",
     "output_type": "stream",
     "text": [
      "enter the value of a: 10\n",
      "enter the value of b: 5\n"
     ]
    },
    {
     "name": "stdout",
     "output_type": "stream",
     "text": [
      "15\n",
      "5\n",
      "50\n",
      "2.0\n"
     ]
    }
   ],
   "source": [
    "'''basic math operation using @classmethod'''\n",
    "class calculator:\n",
    "    def __init__(s,a,b):\n",
    "        s.a=a\n",
    "        s.b=b\n",
    "    @classmethod\n",
    "    def input(cls):\n",
    "        a=int(input(\"enter the value of a:\"))\n",
    "        b=int(input(\"enter the value of b:\"))\n",
    "        return cls(a,b)\n",
    "    def add(s):\n",
    "        print(s.a+s.b)\n",
    "    def sub(s):\n",
    "        print(s.a-s.b)\n",
    "    def mul(s):\n",
    "        print(s.a*s.b)\n",
    "    def div(s):\n",
    "        print(s.a/s.b)\n",
    "c=calculator.input()\n",
    "c.add()\n",
    "c.sub()\n",
    "c.mul()\n",
    "c.div()"
   ]
  },
  {
   "cell_type": "code",
   "execution_count": 25,
   "id": "3d29a7c3-9839-4002-95f2-48e1ac090b7c",
   "metadata": {},
   "outputs": [
    {
     "name": "stdin",
     "output_type": "stream",
     "text": [
      "enter the value of a: 10\n",
      "enter the value of b: 5\n"
     ]
    },
    {
     "name": "stdout",
     "output_type": "stream",
     "text": [
      "15\n",
      "5\n",
      "50\n",
      "2.0\n"
     ]
    }
   ],
   "source": [
    "'''basic math operation using @classmethod'''\n",
    "class calculator:\n",
    "    def __init__(s,a,b):\n",
    "        s.a=a\n",
    "        s.b=b\n",
    "    @classmethod\n",
    "    def input(cls):\n",
    "        a=int(input(\"enter the value of a:\"))\n",
    "        b=int(input(\"enter the value of b:\"))\n",
    "        return cls(a,b)\n",
    "    def op(s):\n",
    "        print(s.a+s.b)\n",
    "        print(s.a-s.b)\n",
    "        print(s.a*s.b)\n",
    "        print(s.a/s.b)\n",
    "c=calculator.input()\n",
    "c.op()"
   ]
  },
  {
   "cell_type": "code",
   "execution_count": 29,
   "id": "ca0cbba4-c8e5-4d47-8aab-4992a1df30f8",
   "metadata": {},
   "outputs": [
    {
     "name": "stdin",
     "output_type": "stream",
     "text": [
      "enter your name: tom\n",
      "enter resident or non resident indian\n"
     ]
    },
    {
     "name": "stdout",
     "output_type": "stream",
     "text": [
      "name:tom\n",
      "stu gender: male\n",
      "the person is indian\n"
     ]
    }
   ],
   "source": [
    "#static method--@staticmethod\n",
    "class student:\n",
    "    gender='male'\n",
    "    def __init__(s,name):\n",
    "        s.name=name\n",
    "    def display(s):\n",
    "        print(f\"name:{s.name}\")\n",
    "    @classmethod\n",
    "    def getname(cls):\n",
    "        return cls.gender\n",
    "    @staticmethod\n",
    "    def resident(type_of_resident):\n",
    "        if type_of_resident.lower()=='indian':\n",
    "            return \"the person is indian\"\n",
    "        else:\n",
    "            return \"non resident\"\n",
    "name=str(input(\"enter your name:\"))\n",
    "type=input(\"enter resident or non resident\")\n",
    "s=student(name)\n",
    "s.display()\n",
    "print(\"stu gender:\",student.getname())\n",
    "print(s.resident(type))"
   ]
  },
  {
   "cell_type": "code",
   "execution_count": 31,
   "id": "6711f8f5-c5d7-41cb-99c2-11200c62e8a5",
   "metadata": {},
   "outputs": [
    {
     "name": "stdin",
     "output_type": "stream",
     "text": [
      "enter your name: tom\n",
      "enter gender: male\n",
      "enter resident or non resident indian\n"
     ]
    },
    {
     "name": "stdout",
     "output_type": "stream",
     "text": [
      "name:tom\n",
      "gender:male\n",
      "the person is indian\n"
     ]
    }
   ],
   "source": [
    "#static method--@staticmethod\n",
    "class student:\n",
    "    def __init__(s,name,gender):\n",
    "        s.name=name\n",
    "        s.gender=gender\n",
    "    def display(s):\n",
    "        print(f\"name:{s.name}\")\n",
    "        print(f\"gender:{s.gender}\")\n",
    "    @staticmethod\n",
    "    def resident(type_of_resident):\n",
    "        if type_of_resident.lower()=='indian':\n",
    "            return \"the person is indian\"\n",
    "        else:\n",
    "            return \"non resident\"\n",
    "name=str(input(\"enter your name:\"))\n",
    "gender=str(input(\"enter gender:\"))\n",
    "type=input(\"enter resident or non resident\")\n",
    "s=student(name,gender)\n",
    "s.display()\n",
    "print(s.resident(type))"
   ]
  },
  {
   "cell_type": "code",
   "execution_count": 37,
   "id": "625becd1-75ae-4b64-9710-157e957f2a50",
   "metadata": {},
   "outputs": [
    {
     "name": "stdin",
     "output_type": "stream",
     "text": [
      "enter a value 10\n",
      "enter a value 5\n"
     ]
    },
    {
     "name": "stdout",
     "output_type": "stream",
     "text": [
      "sum: 15\n"
     ]
    }
   ],
   "source": [
    "class op:\n",
    "    @staticmethod\n",
    "    def add(a,b):\n",
    "        return a+b\n",
    "x=int(input(\"enter a value\"))\n",
    "y=int(input(\"enter a value\"))\n",
    "print(\"sum:\",op.add(x,y))"
   ]
  },
  {
   "cell_type": "code",
   "execution_count": 41,
   "id": "9d4dd72f-3ba5-42e8-a774-5055bba635a5",
   "metadata": {},
   "outputs": [
    {
     "name": "stdin",
     "output_type": "stream",
     "text": [
      "enter a value 10\n",
      "enter a value 5\n"
     ]
    },
    {
     "name": "stdout",
     "output_type": "stream",
     "text": [
      "15\n",
      "5\n",
      "50\n",
      "2.0\n"
     ]
    }
   ],
   "source": [
    "class op:\n",
    "    @staticmethod\n",
    "    def operate(a,b):\n",
    "        print(a+b)\n",
    "        print(a-b)\n",
    "        print(a*b)\n",
    "        print(a/b)\n",
    "x=int(input(\"enter a value\"))\n",
    "y=int(input(\"enter a value\"))\n",
    "op.operate(x,y)"
   ]
  },
  {
   "cell_type": "code",
   "execution_count": 45,
   "id": "c782c4e1-072f-4026-a5a4-ea68b3e44f2b",
   "metadata": {},
   "outputs": [
    {
     "name": "stdin",
     "output_type": "stream",
     "text": [
      "enter 1st number 1\n",
      "enter 2nd number 2\n"
     ]
    },
    {
     "name": "stdout",
     "output_type": "stream",
     "text": [
      "add: 3\n"
     ]
    },
    {
     "name": "stdin",
     "output_type": "stream",
     "text": [
      "enter number for mul: 3\n",
      "enter another number 4\n"
     ]
    },
    {
     "name": "stdout",
     "output_type": "stream",
     "text": [
      "mul-static method: 12\n"
     ]
    }
   ],
   "source": [
    "#class method,instace method,static method\n",
    "class calc:\n",
    "    def __init__(s,a,b):\n",
    "        s.a=a\n",
    "        s.b=b\n",
    "    def add(s):\n",
    "        return s.a+s.b\n",
    "    @classmethod\n",
    "    def input(cls):\n",
    "        a=int(input(\"enter 1st number\"))\n",
    "        b=int(input(\"enter 2nd number\"))\n",
    "        return cls(a,b)\n",
    "    @staticmethod\n",
    "    def mul(x,y):\n",
    "        return x*y\n",
    "c=calc.input()\n",
    "print(\"add:\",c.add())\n",
    "x=int(input(\"enter number for mul:\"))\n",
    "y=int(input(\"enter another number\"))\n",
    "print(\"mul-static method:\",calc.mul(x,y))"
   ]
  },
  {
   "cell_type": "code",
   "execution_count": null,
   "id": "d76bed5d-c8f6-49ec-8a7a-d7ecf8595595",
   "metadata": {},
   "outputs": [],
   "source": []
  }
 ],
 "metadata": {
  "kernelspec": {
   "display_name": "Python 3 (ipykernel)",
   "language": "python",
   "name": "python3"
  },
  "language_info": {
   "codemirror_mode": {
    "name": "ipython",
    "version": 3
   },
   "file_extension": ".py",
   "mimetype": "text/x-python",
   "name": "python",
   "nbconvert_exporter": "python",
   "pygments_lexer": "ipython3",
   "version": "3.12.7"
  }
 },
 "nbformat": 4,
 "nbformat_minor": 5
}
