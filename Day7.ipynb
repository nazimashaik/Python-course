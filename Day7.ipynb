{
 "cells": [
  {
   "cell_type": "code",
   "execution_count": 3,
   "id": "60150370-5ead-4ee6-a79f-d61cd55c6084",
   "metadata": {},
   "outputs": [
    {
     "name": "stdout",
     "output_type": "stream",
     "text": [
      "Good afternoon all\n"
     ]
    }
   ],
   "source": [
    "#function calling and defining\n",
    "def hi():\n",
    "    print(\"Good afternoon all\")\n",
    "hi()"
   ]
  },
  {
   "cell_type": "code",
   "execution_count": 5,
   "id": "1864a021-f2ee-4214-91c7-d53fe6d1f1fa",
   "metadata": {},
   "outputs": [
    {
     "name": "stdin",
     "output_type": "stream",
     "text": [
      " naz\n"
     ]
    },
    {
     "name": "stdout",
     "output_type": "stream",
     "text": [
      "HEllO naz\n"
     ]
    }
   ],
   "source": [
    "#function and parameter\n",
    "def hi(name):\n",
    "    print(\"HEllO\",name)\n",
    "n=input()\n",
    "hi(n)"
   ]
  },
  {
   "cell_type": "code",
   "execution_count": 9,
   "id": "92e4f2ba-32c0-4b8e-b155-a3bb22f091af",
   "metadata": {},
   "outputs": [
    {
     "name": "stdin",
     "output_type": "stream",
     "text": [
      " 5\n",
      " 5\n"
     ]
    },
    {
     "name": "stdout",
     "output_type": "stream",
     "text": [
      "sum: 10\n"
     ]
    }
   ],
   "source": [
    "#functions with return value\n",
    "def add(a,b):\n",
    "    return a+b\n",
    "x=int(input())\n",
    "y=int(input())\n",
    "r=add(x,y)\n",
    "print(\"sum:\",r)"
   ]
  },
  {
   "cell_type": "code",
   "execution_count": 11,
   "id": "56f31fdc-ad99-4c8f-a974-1580ba34c9db",
   "metadata": {},
   "outputs": [
    {
     "name": "stdout",
     "output_type": "stream",
     "text": [
      "shinchan\n",
      "wahaj\n"
     ]
    }
   ],
   "source": [
    "#default parameters/function occupied parameters\n",
    "def hi(name='shinchan'):\n",
    "    print(name)\n",
    "hi()\n",
    "hi(\"wahaj\")"
   ]
  },
  {
   "cell_type": "code",
   "execution_count": 5,
   "id": "d7126782-fc3c-454b-9ab5-97d8bcb7a9ea",
   "metadata": {},
   "outputs": [
    {
     "name": "stdout",
     "output_type": "stream",
     "text": [
      "9 -3 18\n"
     ]
    }
   ],
   "source": [
    "'''write a function that carries and return all the arthmetic operators to the main code(+,-,*)\n",
    "pass the constraints where all the constraints must be calucated accordingly as the return value and print by calling same function\n",
    "'''\n",
    "def mat(a,b):\n",
    "    s=a+b\n",
    "    d=a-b\n",
    "    m=a*b\n",
    "    return s,d,m\n",
    "x=3\n",
    "y=6\n",
    "t,u,v=mat(x,y)\n",
    "print(t,u,v)"
   ]
  },
  {
   "cell_type": "code",
   "execution_count": 7,
   "id": "4964e330-7888-449d-b4ed-e2b1bbe90cc2",
   "metadata": {},
   "outputs": [
    {
     "name": "stdout",
     "output_type": "stream",
     "text": [
      "sum: 15\n",
      "sub: -1\n",
      "mul: 56\n"
     ]
    }
   ],
   "source": [
    "def ao(a,b):\n",
    "    return a+b,a-b,a*b\n",
    "a,b=7,8\n",
    "s,d,m=ao(a,b)\n",
    "print(\"sum:\",s)\n",
    "print(\"sub:\",d)\n",
    "print(\"mul:\",m)"
   ]
  },
  {
   "cell_type": "code",
   "execution_count": null,
   "id": "fac64ed0-8f92-471f-863f-7937914a7dd5",
   "metadata": {},
   "outputs": [],
   "source": []
  }
 ],
 "metadata": {
  "kernelspec": {
   "display_name": "Python 3 (ipykernel)",
   "language": "python",
   "name": "python3"
  },
  "language_info": {
   "codemirror_mode": {
    "name": "ipython",
    "version": 3
   },
   "file_extension": ".py",
   "mimetype": "text/x-python",
   "name": "python",
   "nbconvert_exporter": "python",
   "pygments_lexer": "ipython3",
   "version": "3.12.7"
  }
 },
 "nbformat": 4,
 "nbformat_minor": 5
}
