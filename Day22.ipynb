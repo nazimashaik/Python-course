{
 "cells": [
  {
   "cell_type": "code",
   "execution_count": null,
   "id": "9f196d48",
   "metadata": {},
   "outputs": [],
   "source": [
    "#except\n",
    "#hybrid\n",
    "\"\"\"meta-inheritance\n",
    "uses=reusability\n",
    "hierarical representation\n",
    "single inheritance\"\"\""
   ]
  },
  {
   "cell_type": "code",
   "execution_count": 2,
   "id": "1bcd62e6",
   "metadata": {},
   "outputs": [
    {
     "name": "stdout",
     "output_type": "stream",
     "text": [
      "engine started...\n",
      "the car is being drove\n"
     ]
    }
   ],
   "source": [
    "#single inheritance\n",
    "class vehicle:\n",
    "    def start_engine(self):\n",
    "        print(\"engine started...\")\n",
    "class car(vehicle):\n",
    "    def drive(self):\n",
    "        print(\"the car is being drove\")\n",
    "c=car()\n",
    "c.start_engine()#inherited method\n",
    "c.drive()#sub class own method"
   ]
  },
  {
   "cell_type": "code",
   "execution_count": 3,
   "id": "2b74c89c",
   "metadata": {},
   "outputs": [
    {
     "name": "stdout",
     "output_type": "stream",
     "text": [
      "I am a student\n",
      "i am currently in btech\n"
     ]
    }
   ],
   "source": [
    "class person:\n",
    "    def info(self):\n",
    "        print(\"I am a student\")\n",
    "class student(person):\n",
    "    def study(self):\n",
    "        print(\"i am currently in btech\")\n",
    "s=student()\n",
    "s.info()\n",
    "s.study()"
   ]
  },
  {
   "cell_type": "code",
   "execution_count": 5,
   "id": "cb48a528",
   "metadata": {},
   "outputs": [
    {
     "name": "stdout",
     "output_type": "stream",
     "text": [
      "enter a number9\n",
      "enter another number9\n",
      "addition:18\n"
     ]
    }
   ],
   "source": [
    "'''code to perform addition operation using superclass and user input and sub class as operation \n",
    "print the summated value at subclass\n",
    "'''\n",
    "class operate:\n",
    "    def userdata(self):\n",
    "        self.num1=int(input(\"enter a number\"))\n",
    "        self.num2=int(input(\"enter another number\"))\n",
    "class summate(operate):\n",
    "    def add(self):\n",
    "        print(f\"addition:{self.num1+self.num2}\")\n",
    "a=summate()\n",
    "a.userdata()\n",
    "a.add()"
   ]
  },
  {
   "cell_type": "code",
   "execution_count": 7,
   "id": "fab10f84",
   "metadata": {},
   "outputs": [
    {
     "name": "stdout",
     "output_type": "stream",
     "text": [
      "enter a number10\n",
      "enter another number5\n",
      "Result: 2.0\n"
     ]
    }
   ],
   "source": [
    "'''code to calculate normal division by considering input in superclass and evalution in sub class,\n",
    "where zero division must be handled'''\n",
    "class operate:\n",
    "    def userdata(self):\n",
    "        self.num1=int(input(\"enter a number\"))\n",
    "        self.num2=int(input(\"enter another number\"))\n",
    "class DivisionClass(operate):\n",
    "    def divide(self):\n",
    "        try:\n",
    "            result = self.num1 / self.num2\n",
    "            print(f\"Result: {result}\")\n",
    "        except ZeroDivisionError:\n",
    "            print(\"Error: Division by zero is not allowed.\")\n",
    "obj = DivisionClass()\n",
    "obj.userdata()\n",
    "obj.divide()"
   ]
  },
  {
   "cell_type": "code",
   "execution_count": 8,
   "id": "b24b7af3",
   "metadata": {},
   "outputs": [
    {
     "name": "stdout",
     "output_type": "stream",
     "text": [
      "enter name:elena\n",
      "enter emp id:45\n",
      "enter dept:fsd\n",
      "Name:elena\n",
      "Employee id:45\n",
      "department:fsd\n"
     ]
    }
   ],
   "source": [
    "#multi inheritance\n",
    "class intern: #super\n",
    "    def __init__(self,name):\n",
    "        self.name=name\n",
    "    def display_intern(self):\n",
    "        print(f\"Name:{self.name}\")\n",
    "class employee(intern): #class\n",
    "    def __init__(self,name,emp_id):\n",
    "        super().__init__(name)\n",
    "        self.emp_id=emp_id\n",
    "    def display_employee(self):\n",
    "        print(f\"Employee id:{self.emp_id}\")\n",
    "class manager(employee): #sub class\n",
    "    def __init__(self,name,emp_id,dept):\n",
    "        super().__init__(name,emp_id)\n",
    "        self.dept=dept\n",
    "    def display_manager(self):\n",
    "        print(f\"department:{self.dept}\")\n",
    "name=input(\"enter name:\")\n",
    "emp_id=input(\"enter emp id:\")\n",
    "dept=input(\"enter dept:\")\n",
    "m=manager(name,emp_id,dept)\n",
    "m.display_intern()\n",
    "m.display_employee()\n",
    "m.display_manager()"
   ]
  },
  {
   "cell_type": "code",
   "execution_count": 10,
   "id": "e352643b",
   "metadata": {},
   "outputs": [
    {
     "name": "stdout",
     "output_type": "stream",
     "text": [
      "enter a number:5\n",
      "enter another number:3\n",
      "sum:8\n",
      "mul:15\n"
     ]
    }
   ],
   "source": [
    "class Input:\n",
    "    def __init__(self):\n",
    "        self.n1=int(input(\"enter a number:\"))\n",
    "        self.n2=int(input(\"enter another number:\"))\n",
    "class operate(Input):\n",
    "    def __init__(self):\n",
    "        super().__init__()\n",
    "    def add(self):\n",
    "        return self.n1+self.n2\n",
    "    def mul(self):\n",
    "        return self.n1*self.n2\n",
    "class result(operate):\n",
    "    def __init__(self):\n",
    "        super().__init__()\n",
    "    def display(self):\n",
    "        print(f\"sum:{self.add()}\")\n",
    "        print(f\"mul:{self.mul()}\")\n",
    "r=result()\n",
    "r.display()"
   ]
  },
  {
   "cell_type": "code",
   "execution_count": null,
   "id": "73096489",
   "metadata": {},
   "outputs": [],
   "source": []
  }
 ],
 "metadata": {
  "kernelspec": {
   "display_name": "Python 3 (ipykernel)",
   "language": "python",
   "name": "python3"
  },
  "language_info": {
   "codemirror_mode": {
    "name": "ipython",
    "version": 3
   },
   "file_extension": ".py",
   "mimetype": "text/x-python",
   "name": "python",
   "nbconvert_exporter": "python",
   "pygments_lexer": "ipython3",
   "version": "3.11.3"
  }
 },
 "nbformat": 4,
 "nbformat_minor": 5
}
