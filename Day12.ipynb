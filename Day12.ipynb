{
 "cells": [
  {
   "cell_type": "code",
   "execution_count": null,
   "id": "d0198237-f0a1-4e0f-a783-f5bd4b4efe5d",
   "metadata": {},
   "outputs": [],
   "source": [
    "'''built in and user defined\n",
    "Exception- base class for all exceptions\n",
    "iteration- generated method does not point any object\n",
    "StopIteration - \n",
    "SystemExit-sys.exit()\n",
    "StandardError - except stopiteration and system exit\n",
    "ArthemeticError - math calc errors\n",
    "OverflowError - numerical cal exceed\n",
    "ZeroDivisionError - 0 divide\n",
    "FloatingPointError - 3.14159\n",
    "AssertionError - assert statement fails\n",
    "AttributeError - function parameters balancing\n",
    "EOFError- input and output are not defined then we see EOFError (i/o recognition)\n",
    "ImportError -when data is not present in the file and try to  fetch then we get ImportError(reading file error)\n",
    "KeyboardIntrrupt - \n",
    "LookupError -\n",
    "IndexError-\n",
    "NameError\n",
    "KeyError\n",
    "EnvironmentError\n",
    "IOError - file opening\n",
    "SyntaxError \n",
    "ValueError\n",
    "RuntimeError\n",
    "TypeError\n",
    "AuthenticationError\n",
    "DependenciError\n",
    "'''"
   ]
  },
  {
   "cell_type": "code",
   "execution_count": null,
   "id": "61a3fe57-103e-4cef-89cf-4ec72a5539aa",
   "metadata": {},
   "outputs": [],
   "source": [
    "''' syntax : try except\n",
    "try:\n",
    "     stmts\n",
    "     stmts\n",
    "except "
   ]
  },
  {
   "cell_type": "code",
   "execution_count": 1,
   "id": "ca3ba756-beeb-48ce-b3e2-354448ecd442",
   "metadata": {},
   "outputs": [
    {
     "name": "stdin",
     "output_type": "stream",
     "text": [
      "enter numerator: 23\n",
      "enter denominator: 0\n"
     ]
    },
    {
     "name": "stdout",
     "output_type": "stream",
     "text": [
      "denominator cannot be zero.....\n"
     ]
    }
   ],
   "source": [
    "#program to handel zero division error\n",
    "num= int(input(\"enter numerator:\"))\n",
    "deno = int(input(\"enter denominator:\"))\n",
    "try:\n",
    "    quo=num/deno\n",
    "    print(\"Quotient:\",quo)\n",
    "except ZeroDivisionError:\n",
    "    print(\"denominator cannot be zero.....\")"
   ]
  },
  {
   "cell_type": "code",
   "execution_count": 3,
   "id": "f58f4f9c-7bbc-49fe-a231-164a95dcdbcc",
   "metadata": {},
   "outputs": [
    {
     "name": "stdin",
     "output_type": "stream",
     "text": [
      "enter numerator: 6\n",
      "enter denominator: 3\n"
     ]
    },
    {
     "name": "stdout",
     "output_type": "stream",
     "text": [
      "Quotient: 2.0\n"
     ]
    }
   ],
   "source": [
    "#program to handel zero division error\n",
    "num= int(input(\"enter numerator:\"))\n",
    "deno = int(input(\"enter denominator:\"))\n",
    "try:\n",
    "    quo=num/deno\n",
    "    print(\"Quotient:\",quo)\n",
    "except ZeroDivisionError:\n",
    "    print(\"denominator cannot be zero.....\")"
   ]
  },
  {
   "cell_type": "code",
   "execution_count": null,
   "id": "925c57e4-749a-4695-8375-d4c9d5aa3756",
   "metadata": {},
   "outputs": [],
   "source": []
  }
 ],
 "metadata": {
  "kernelspec": {
   "display_name": "Python 3 (ipykernel)",
   "language": "python",
   "name": "python3"
  },
  "language_info": {
   "codemirror_mode": {
    "name": "ipython",
    "version": 3
   },
   "file_extension": ".py",
   "mimetype": "text/x-python",
   "name": "python",
   "nbconvert_exporter": "python",
   "pygments_lexer": "ipython3",
   "version": "3.12.7"
  }
 },
 "nbformat": 4,
 "nbformat_minor": 5
}
